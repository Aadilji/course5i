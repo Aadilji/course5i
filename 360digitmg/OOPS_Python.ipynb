{
  "nbformat": 4,
  "nbformat_minor": 0,
  "metadata": {
    "colab": {
      "name": "OOPS Python.ipynb",
      "provenance": [],
      "collapsed_sections": []
    },
    "kernelspec": {
      "name": "python3",
      "display_name": "Python 3"
    },
    "language_info": {
      "name": "python"
    }
  },
  "cells": [
    {
      "cell_type": "markdown",
      "metadata": {
        "id": "4W4y92-_rCrC"
      },
      "source": [
        "# First class (creating oblejct and constructer and Executing)"
      ]
    },
    {
      "cell_type": "code",
      "metadata": {
        "id": "8GEDgOpPqFNk"
      },
      "source": [
        "# First create an object using class keyword\n",
        "class Employee():                           \n",
        "  # Lets create a constructer \n",
        "  def __init__(self,name,age,salary):   \n",
        "    self.name = name          # Also known as instance variable\n",
        "    self.age = age\n",
        "    self.salary = salary\n",
        "\n",
        "\n",
        "Rishu = Employee(\"Rishabh\",25,5000)\n",
        "print(Rishu.salary)\n"
      ],
      "execution_count": null,
      "outputs": []
    },
    {
      "cell_type": "markdown",
      "metadata": {
        "id": "56jovYHtxKis"
      },
      "source": [
        "# 2nd class (detail discussion on instance variable and constructer)"
      ]
    },
    {
      "cell_type": "code",
      "metadata": {
        "id": "NB9yNWhAxo38"
      },
      "source": [
        "class Employee(): \n",
        "  number_of_emp = 0     \n",
        "  Increment = 1.5        #Object variable                     \n",
        "  def __init__(self,name,age,salary):   # instance variable\n",
        "    self.name = name         \n",
        "    self.age = age\n",
        "    self.salary = salary\n",
        "    Employee.number_of_emp +=1\n",
        "\n",
        "  def increment(self):\n",
        "    self.salary = self.salary*Employee.Increment \n",
        "    \n",
        "\n",
        "Rishu = Employee(\"Rishabh\",25,5000)\n",
        "Rishu.increment()\n",
        "print(Employee.__dict__)  #by using this you can see all the oject variable\n",
        "print(Rishu.__dict__)  # By this you can see all the instance variable and value in dictionary form\n",
        "print(Rishu.salary)\n",
        "print(Employee.number_of_emp)\n"
      ],
      "execution_count": null,
      "outputs": []
    },
    {
      "cell_type": "markdown",
      "metadata": {
        "id": "pjUORlAYPhuD"
      },
      "source": [
        "# 3rd class Class method"
      ]
    },
    {
      "cell_type": "code",
      "metadata": {
        "colab": {
          "base_uri": "https://localhost:8080/"
        },
        "id": "H3oYCPWfPm_x",
        "outputId": "65ce453b-5533-40a6-fd54-b7535567923c"
      },
      "source": [
        "class Employee(): \n",
        "  number_of_emp = 0     \n",
        "  Increment = 1.5        #Object variable                     \n",
        "  def __init__(self,name,age,salary):   \n",
        "    self.name = name         \n",
        "    self.age = age\n",
        "    self.salary = salary\n",
        "    Employee.number_of_emp +=1\n",
        "\n",
        "  def increment(self):\n",
        "    self.salary = self.salary*Employee.Increment \n",
        "    \n",
        "  @classmethod           #Its a decorator for defining class method\n",
        "  def salary_increment(cls,amount):       #cls is a argument variable like self for classmethod\n",
        "    cls.Increment = amount\n",
        "\n",
        "\n",
        "Rishu = Employee(\"Rishabh\",23,25000)\n",
        "print(Rishu.salary)\n",
        "Employee.salary_increment(2)\n",
        "Rishu.increment()\n",
        "print(Rishu.salary)"
      ],
      "execution_count": null,
      "outputs": [
        {
          "output_type": "stream",
          "text": [
            "25000\n",
            "50000\n"
          ],
          "name": "stdout"
        }
      ]
    },
    {
      "cell_type": "markdown",
      "metadata": {
        "id": "2Y4ePC1bTryC"
      },
      "source": [
        "# 4th class  Class method as alternate constructer"
      ]
    },
    {
      "cell_type": "code",
      "metadata": {
        "colab": {
          "base_uri": "https://localhost:8080/"
        },
        "id": "mYDq1i3tTq9T",
        "outputId": "8afe5818-015d-469c-924c-f92736f4014c"
      },
      "source": [
        "class Employee(): \n",
        "  number_of_emp = 0     \n",
        "  Increment = 1.5        #Object variable                     \n",
        "  def __init__(self,name,age,salary):   \n",
        "    self.name = name         \n",
        "    self.age = int(age)\n",
        "    self.salary = int(salary)\n",
        "    Employee.number_of_emp +=1\n",
        "\n",
        "  def increment(self):\n",
        "    self.salary = self.salary*Employee.Increment \n",
        "    \n",
        "  @classmethod           #Its a decorator for defining class method\n",
        "  def salary_increment(cls,amount):       #cls is a argument variable like self for classmethod\n",
        "    cls.Increment = amount\n",
        "\n",
        "  @classmethod\n",
        "  def input_str(cls,string):\n",
        "    \"\"\" string should be one space shaperated \"\"\"\n",
        "    name,age,salary = string.split(\" \")\n",
        "    return cls(name,age,salary)\n",
        "\n",
        "\n",
        "Rishu = Employee(\"Rishabh\",23,25000)\n",
        "# print(Rishu.salary)\n",
        "# Employee.salary_increment(2)\n",
        "# Rishu.increment()\n",
        "# print(Rishu.salary)\n",
        "\n",
        "Ravish = Employee.input_str(\"Ravish 25 23000\")\n",
        "print(Ravish.salary)\n",
        "\n",
        "print(Employee.__dict__)"
      ],
      "execution_count": 2,
      "outputs": [
        {
          "output_type": "stream",
          "name": "stdout",
          "text": [
            "23000\n",
            "{'__module__': '__main__', 'number_of_emp': 2, 'Increment': 1.5, '__init__': <function Employee.__init__ at 0x7fae37c3d680>, 'increment': <function Employee.increment at 0x7fae37c3dd40>, 'salary_increment': <classmethod object at 0x7fae37c5fb10>, 'input_str': <classmethod object at 0x7fae37c5fc10>, '__dict__': <attribute '__dict__' of 'Employee' objects>, '__weakref__': <attribute '__weakref__' of 'Employee' objects>, '__doc__': None}\n"
          ]
        }
      ]
    },
    {
      "cell_type": "code",
      "metadata": {
        "id": "1RJ1B_Y6y8Dw"
      },
      "source": [
        ""
      ],
      "execution_count": null,
      "outputs": []
    },
    {
      "cell_type": "markdown",
      "metadata": {
        "id": "NfPJNeBteyZc"
      },
      "source": [
        "# 5th class static method"
      ]
    },
    {
      "cell_type": "code",
      "metadata": {
        "id": "BS0RtkHbfwYv"
      },
      "source": [
        "class AdditionAndSub:\n",
        "  def __init__(self,firstnum):\n",
        "    self.firstnum = firstnum\n",
        "  @staticmethod\n",
        "  def add(first , second) :\n",
        "    return first+second"
      ],
      "execution_count": 11,
      "outputs": []
    },
    {
      "cell_type": "code",
      "metadata": {
        "colab": {
          "base_uri": "https://localhost:8080/"
        },
        "id": "7vF_I2gIrAls",
        "outputId": "e387af0c-5215-4f5d-f5ac-6f8017b9866a"
      },
      "source": [
        "data = AdditionAndSub(3)\n",
        "print(data.add(5,6))"
      ],
      "execution_count": 12,
      "outputs": [
        {
          "output_type": "stream",
          "name": "stdout",
          "text": [
            "11\n"
          ]
        }
      ]
    },
    {
      "cell_type": "markdown",
      "metadata": {
        "id": "_L6HRic-BGW2"
      },
      "source": [
        "# Inheritance with instance variable and overright function"
      ]
    },
    {
      "cell_type": "code",
      "metadata": {
        "id": "dxEGdUeyBF1H"
      },
      "source": [
        "class Programmer(Employee):  # we can get all the features of employee class\n",
        "  pass"
      ],
      "execution_count": 3,
      "outputs": []
    },
    {
      "cell_type": "code",
      "metadata": {
        "colab": {
          "base_uri": "https://localhost:8080/",
          "height": 35
        },
        "id": "31mI-cjcCAEC",
        "outputId": "ac2d37c2-54f2-4b11-c51d-4b01d0ba6c20"
      },
      "source": [
        "new_person = Programmer(\"Rishu\",25,35000)\n",
        "new_person.name "
      ],
      "execution_count": 4,
      "outputs": [
        {
          "output_type": "execute_result",
          "data": {
            "application/vnd.google.colaboratory.intrinsic+json": {
              "type": "string"
            },
            "text/plain": [
              "'Rishu'"
            ]
          },
          "metadata": {},
          "execution_count": 4
        }
      ]
    },
    {
      "cell_type": "code",
      "metadata": {
        "id": "1Zt0w7FqCOY9"
      },
      "source": [
        "class Programmer(Employee):   # now if we to some instance variable for programmer as well \n",
        "  def __init__(self,name,age,salary,prolang,exp):\n",
        "    super().__init__(name,age,salary)\n",
        "    self.prolang = prolang\n",
        "    self.exp = exp"
      ],
      "execution_count": 5,
      "outputs": []
    },
    {
      "cell_type": "code",
      "metadata": {
        "colab": {
          "base_uri": "https://localhost:8080/"
        },
        "id": "JCs3ktmCC2Nx",
        "outputId": "7e13f2a3-b9b5-4378-d080-57bbb8d589ec"
      },
      "source": [
        "new_person = Programmer(\"Rishu\",25,35000,\"Python\",2)\n",
        "print(new_person.name )\n",
        "print(new_person.age)\n",
        "print(new_person.prolang)"
      ],
      "execution_count": 7,
      "outputs": [
        {
          "output_type": "stream",
          "name": "stdout",
          "text": [
            "Rishu\n",
            "25\n",
            "Python\n"
          ]
        }
      ]
    },
    {
      "cell_type": "code",
      "metadata": {
        "id": "4QPSRP89DLgt"
      },
      "source": [
        "class Programmer(Employee):   # now if we to some instance variable for programmer as well \n",
        "  def __init__(self,name,age,salary,prolang,exp):\n",
        "    super().__init__(name,age,salary)\n",
        "    self.prolang = prolang\n",
        "    self.exp = exp\n",
        "  def increment(self,amount):  # Example of overRight\n",
        "    self.salary = self.salary+amount\n"
      ],
      "execution_count": 8,
      "outputs": []
    },
    {
      "cell_type": "code",
      "metadata": {
        "colab": {
          "base_uri": "https://localhost:8080/"
        },
        "id": "tS-hGolJDn6G",
        "outputId": "c7490328-d5ea-4ae4-81bc-dcf532ba0688"
      },
      "source": [
        "new_person = Programmer(\"Rishu\",25,35000,\"Python\",2)\n",
        "print(new_person.salary)\n",
        "new_person.increment(5000)\n",
        "new_person.salary"
      ],
      "execution_count": 9,
      "outputs": [
        {
          "output_type": "stream",
          "name": "stdout",
          "text": [
            "35000\n"
          ]
        },
        {
          "output_type": "execute_result",
          "data": {
            "text/plain": [
              "40000"
            ]
          },
          "metadata": {},
          "execution_count": 9
        }
      ]
    }
  ]
}