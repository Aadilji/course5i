{
 "cells": [
  {
   "cell_type": "markdown",
   "metadata": {},
   "source": [
    "# Multi Threding"
   ]
  },
  {
   "cell_type": "code",
   "execution_count": null,
   "metadata": {},
   "outputs": [],
   "source": [
    "#Multi Threding\n",
    "#----multithreading using sum of square---#\n",
    "import time\n",
    "\n",
    "def calc_square(numbers):\n",
    "    print(\"calculate square numbers\")\n",
    "    for n in numbers:\n",
    "        time.sleep(0.2)\n",
    "        print('square:',n*n)\n",
    "\n",
    "def calc_cube(numbers):\n",
    "    print(\"calculate cube of numbers\")\n",
    "    for n in numbers:\n",
    "        time.sleep(0.2)\n",
    "        print('cube:',n*n*n)"
   ]
  },
  {
   "cell_type": "code",
   "execution_count": null,
   "metadata": {},
   "outputs": [],
   "source": [
    "arr = [2,5,7,9]\n",
    "\n",
    "t = time.time()        \n",
    "calc_square(arr)\n"
   ]
  },
  {
   "cell_type": "code",
   "execution_count": null,
   "metadata": {},
   "outputs": [],
   "source": [
    "calc_cube(arr)"
   ]
  },
  {
   "cell_type": "code",
   "execution_count": null,
   "metadata": {},
   "outputs": [],
   "source": [
    "print(\"done in: \",time.time()-t)\n",
    "print(\"completed my way to work!\")\n"
   ]
  },
  {
   "cell_type": "code",
   "execution_count": null,
   "metadata": {},
   "outputs": [],
   "source": [
    "import threading\n",
    "t = time.time()\n",
    "\n",
    "t1 = threading.Thread(target=calc_square, args=(arr,))\n",
    "t2 = threading.Thread(target=calc_cube, args=(arr,))\n"
   ]
  },
  {
   "cell_type": "code",
   "execution_count": null,
   "metadata": {},
   "outputs": [],
   "source": [
    "t1.start()\n",
    "t2.start()\n",
    "\n",
    "t1.join()\n",
    "t2.join()\n",
    "\n",
    "print(\"done in: \",time.time()-t)\n",
    "print(\"completed my way to work!\")"
   ]
  },
  {
   "cell_type": "code",
   "execution_count": null,
   "metadata": {},
   "outputs": [],
   "source": []
  },
  {
   "cell_type": "markdown",
   "metadata": {},
   "source": [
    "## lambda"
   ]
  },
  {
   "cell_type": "code",
   "execution_count": 1,
   "metadata": {},
   "outputs": [
    {
     "data": {
      "text/plain": [
       "144"
      ]
     },
     "execution_count": 1,
     "metadata": {},
     "output_type": "execute_result"
    }
   ],
   "source": [
    "# Defining the lambda function \n",
    "\n",
    "s = lambda x: x * x\n",
    "s(12)\n"
   ]
  },
  {
   "cell_type": "markdown",
   "metadata": {},
   "source": [
    "## map()"
   ]
  },
  {
   "cell_type": "code",
   "execution_count": 2,
   "metadata": {},
   "outputs": [
    {
     "data": {
      "text/plain": [
       "[2, 4, 6, 8, 10, 12]"
      ]
     },
     "execution_count": 2,
     "metadata": {},
     "output_type": "execute_result"
    }
   ],
   "source": [
    "#map()\n",
    "val = [1, 2, 3, 4, 5, 6]\n",
    "list(map(lambda x: x * 2, val))\n"
   ]
  },
  {
   "cell_type": "code",
   "execution_count": 5,
   "metadata": {},
   "outputs": [
    {
     "data": {
      "text/plain": [
       "[1, 3, 5]"
      ]
     },
     "execution_count": 5,
     "metadata": {},
     "output_type": "execute_result"
    }
   ],
   "source": [
    "#filter() -- used to check the condition\n",
    "val1 = [1, 2, 3, 4, 5]\n",
    "\n",
    "list(filter(lambda x: x % 2, val1))\n"
   ]
  },
  {
   "cell_type": "markdown",
   "metadata": {},
   "source": [
    "## reduce()"
   ]
  },
  {
   "cell_type": "code",
   "execution_count": 6,
   "metadata": {},
   "outputs": [
    {
     "data": {
      "text/plain": [
       "120"
      ]
     },
     "execution_count": 6,
     "metadata": {},
     "output_type": "execute_result"
    }
   ],
   "source": [
    "from functools import reduce\n",
    "reduce(lambda x, y: x * y, val1)\n"
   ]
  },
  {
   "cell_type": "markdown",
   "metadata": {},
   "source": [
    "# MySQL DB connection with Python\n"
   ]
  },
  {
   "cell_type": "markdown",
   "metadata": {},
   "source": [
    "### Connecting to MySQL"
   ]
  },
  {
   "cell_type": "code",
   "execution_count": 7,
   "metadata": {},
   "outputs": [
    {
     "name": "stdout",
     "output_type": "stream",
     "text": [
      "<mysql.connector.connection_cext.CMySQLConnection object at 0x00000227545AAF48>\n"
     ]
    }
   ],
   "source": [
    "# importing package\n",
    "\n",
    "# pip install mysql.connector\n",
    "\n",
    "import mysql.connector as sql\n",
    "\n",
    "#connecting to mysql database\n",
    "mydb = sql.connect(\n",
    "  host=\"localhost\",\n",
    "  user=\"cust1\",\n",
    "  passwd=\"cust1@123\",\n",
    "  auth_plugin='mysql_native_password'\n",
    ")\n",
    "print(mydb)\n"
   ]
  },
  {
   "cell_type": "code",
   "execution_count": 16,
   "metadata": {},
   "outputs": [],
   "source": [
    "mycursor = mydb.cursor()"
   ]
  },
  {
   "cell_type": "code",
   "execution_count": 17,
   "metadata": {},
   "outputs": [],
   "source": [
    "mycursor.execute(\"show databases\")"
   ]
  },
  {
   "cell_type": "code",
   "execution_count": 10,
   "metadata": {},
   "outputs": [
    {
     "name": "stdout",
     "output_type": "stream",
     "text": [
      "('emp',)\n",
      "('employee',)\n",
      "('information_schema',)\n",
      "('market',)\n",
      "('mydata',)\n",
      "('mysql',)\n",
      "('performance_schema',)\n",
      "('sys',)\n",
      "('test',)\n"
     ]
    }
   ],
   "source": [
    "for x in mycursor:\n",
    "    print(x)"
   ]
  },
  {
   "cell_type": "code",
   "execution_count": 18,
   "metadata": {},
   "outputs": [
    {
     "data": {
      "text/plain": [
       "<mysql.connector.cursor_cext.CMySQLCursor at 0x227545bef08>"
      ]
     },
     "execution_count": 18,
     "metadata": {},
     "output_type": "execute_result"
    }
   ],
   "source": [
    "mycursor"
   ]
  },
  {
   "cell_type": "markdown",
   "metadata": {},
   "source": [
    "### creating database schema"
   ]
  },
  {
   "cell_type": "code",
   "execution_count": 3,
   "metadata": {},
   "outputs": [],
   "source": [
    "#Create Database\n",
    "mycursor.execute(\"CREATE DATABASE EMP\")\n"
   ]
  },
  {
   "cell_type": "markdown",
   "metadata": {},
   "source": [
    "### connectin to the database schema created"
   ]
  },
  {
   "cell_type": "code",
   "execution_count": 20,
   "metadata": {},
   "outputs": [
    {
     "name": "stdout",
     "output_type": "stream",
     "text": [
      "<mysql.connector.connection_cext.CMySQLConnection object at 0x00000227545D3B08>\n"
     ]
    }
   ],
   "source": [
    "# Connecting to Database created\n",
    "mydb = sql.connect(\n",
    "  host=\"localhost\",\n",
    "  user=\"cust1\",\n",
    "  passwd=\"cust1@123\",\n",
    "  database = 'EMP',\n",
    "  auth_plugin='mysql_native_password'\n",
    ")\n",
    "print(mydb)\n",
    "\n",
    "mycursor = mydb.cursor()\n"
   ]
  },
  {
   "cell_type": "code",
   "execution_count": 26,
   "metadata": {},
   "outputs": [
    {
     "name": "stdout",
     "output_type": "stream",
     "text": [
      "('finance',)\n",
      "('hr',)\n"
     ]
    }
   ],
   "source": [
    "mycursor.execute(\"show tables\")\n",
    "\n",
    "for x in mycursor:\n",
    "    print(x)"
   ]
  },
  {
   "cell_type": "markdown",
   "metadata": {},
   "source": [
    "### creating table"
   ]
  },
  {
   "cell_type": "code",
   "execution_count": 15,
   "metadata": {},
   "outputs": [],
   "source": []
  },
  {
   "cell_type": "code",
   "execution_count": 22,
   "metadata": {},
   "outputs": [],
   "source": [
    "#creating table\n",
    "mycursor.execute(\"CREATE TABLE HR \\\n",
    "                 (Emp_no int primary key, Emp_name varchar(20), \\\n",
    "                 Emp_desig varchar(20), Emp_contact int)\")\n"
   ]
  },
  {
   "cell_type": "markdown",
   "metadata": {},
   "source": [
    "### Inserting data into the table"
   ]
  },
  {
   "cell_type": "code",
   "execution_count": 24,
   "metadata": {},
   "outputs": [],
   "source": [
    "#Inseting values into Table\n",
    "SQL_Insert = \"INSERT INTO HR(Emp_no, Emp_name, Emp_desig, Emp_contact) \\\n",
    "                VALUES (%s,%s,%s,%s)\"\n",
    "                \n",
    "SQL_Insert_values = [ ('1','abc','hr','123456'),\n",
    "                      ('2','abc1','hr','12345678'),\n",
    "                      ('3', 'abc2','hr','1234567')\n",
    "                    ]\n",
    "                \n",
    "mycursor.executemany(SQL_Insert, SQL_Insert_values)\n",
    "\n",
    "mydb.commit() #commit() is used to save changes to database\n"
   ]
  },
  {
   "cell_type": "code",
   "execution_count": 54,
   "metadata": {},
   "outputs": [
    {
     "name": "stdout",
     "output_type": "stream",
     "text": [
      "3 rows were inserted\n"
     ]
    }
   ],
   "source": [
    "print(mycursor.rowcount,\"rows were inserted\")\n"
   ]
  },
  {
   "cell_type": "markdown",
   "metadata": {},
   "source": [
    "### Creating another table"
   ]
  },
  {
   "cell_type": "code",
   "execution_count": 25,
   "metadata": {},
   "outputs": [],
   "source": [
    "#Creating another table Finance\n",
    "mycursor.execute(\"CREATE TABLE FINANCE \\\n",
    "                 (Tax_No int primary key AUTO_INCREMENT, \\\n",
    "                 Emp_no int unique,\\\n",
    "                 Salary float)\")\n"
   ]
  },
  {
   "cell_type": "markdown",
   "metadata": {},
   "source": [
    "### Inserting data "
   ]
  },
  {
   "cell_type": "code",
   "execution_count": 27,
   "metadata": {},
   "outputs": [
    {
     "name": "stdout",
     "output_type": "stream",
     "text": [
      "3 rows were updated\n"
     ]
    }
   ],
   "source": [
    "#Inserting values into Finance Table\n",
    "SQL_Insert_Finance = \"INSERT INTO FINANCE(Emp_no,Salary) VALUES (%s,%s)\" \n",
    "\n",
    "SQL_Insert_Values_Finance = [(1,10.5),\n",
    "                             (2,11.5),\n",
    "                             (3,12.5)\n",
    "                            ]\n",
    "\n",
    "mycursor.executemany(SQL_Insert_Finance,SQL_Insert_Values_Finance)\n",
    "\n",
    "mydb.commit() #commit() is used to save changes\n",
    "\n",
    "print(mycursor.rowcount,\"rows were updated\")\n"
   ]
  },
  {
   "cell_type": "markdown",
   "metadata": {},
   "source": [
    "### Selecting data"
   ]
  },
  {
   "cell_type": "code",
   "execution_count": 28,
   "metadata": {},
   "outputs": [
    {
     "name": "stdout",
     "output_type": "stream",
     "text": [
      "(2, 'abc1', 'hr', 12345678)\n",
      "(3, 'abc2', 'hr', 1234567)\n"
     ]
    }
   ],
   "source": [
    "# Condition -- where cluase or where conditions\n",
    "\n",
    "SQL_where = \"SELECT * from HR WHERE Emp_no > 1\"\n",
    "\n",
    "mycursor.execute(SQL_where)\n",
    "\n",
    "SQL_where_results = mycursor.fetchall()\n",
    "\n",
    "for x in SQL_where_results:\n",
    "    print(x)\n"
   ]
  },
  {
   "cell_type": "code",
   "execution_count": 32,
   "metadata": {},
   "outputs": [
    {
     "name": "stdout",
     "output_type": "stream",
     "text": [
      "(2, 2, 11.5)\n",
      "(3, 3, 12.5)\n"
     ]
    }
   ],
   "source": [
    "# Where Condition\n",
    "\n",
    "SQL_where_finance = \"SELECT * from FINANCE WHERE Salary >= 11.5\"\n",
    "\n",
    "mycursor.execute(SQL_where_finance)\n",
    "\n",
    "SQL_where_results_finance = mycursor.fetchall()\n",
    "\n",
    "for x in SQL_where_results_finance:\n",
    "    print(x)"
   ]
  },
  {
   "cell_type": "code",
   "execution_count": 33,
   "metadata": {},
   "outputs": [
    {
     "name": "stdout",
     "output_type": "stream",
     "text": [
      "('abc', 'hr', 10.5)\n",
      "('abc1', 'hr', 11.5)\n",
      "('abc2', 'hr', 12.5)\n"
     ]
    }
   ],
   "source": [
    "# INNER Join Functions\n",
    "\n",
    "SQL_join = \"SELECT A.Emp_name, A.Emp_desig, B.Salary \\\n",
    "            from HR as A \\\n",
    "            Inner join FINANCE as B\\\n",
    "            on A.Emp_no = B.Tax_no\"\n",
    "            \n",
    "mycursor.execute(SQL_join)\n",
    "\n",
    "SQL_results = mycursor.fetchall()\n",
    "\n",
    "for x in SQL_results:\n",
    "    print(x)\n"
   ]
  },
  {
   "cell_type": "code",
   "execution_count": 61,
   "metadata": {},
   "outputs": [
    {
     "name": "stdout",
     "output_type": "stream",
     "text": [
      "(1, 'abc', 'hr', 123456, 1, 1, 10.5)\n",
      "(2, 'abc1', 'hr', 12345678, 1, 1, 10.5)\n",
      "(3, 'abc2', 'hr', 1234567, 1, 1, 10.5)\n",
      "(1, 'abc', 'hr', 123456, 2, 2, 11.5)\n",
      "(2, 'abc1', 'hr', 12345678, 2, 2, 11.5)\n",
      "(3, 'abc2', 'hr', 1234567, 2, 2, 11.5)\n",
      "(1, 'abc', 'hr', 123456, 3, 3, 12.5)\n",
      "(2, 'abc1', 'hr', 12345678, 3, 3, 12.5)\n",
      "(3, 'abc2', 'hr', 1234567, 3, 3, 12.5)\n"
     ]
    }
   ],
   "source": [
    "# OUTER Join Functions\n",
    "\n",
    "SQL_join_cross = \"SELECT *  \\\n",
    "            from HR \\\n",
    "            CROSS join FINANCE \"\n",
    "            \n",
    "mycursor.execute(SQL_join_cross)\n",
    "\n",
    "SQL_results = mycursor.fetchall()\n",
    "\n",
    "for x in SQL_results:\n",
    "    print(x)\n"
   ]
  },
  {
   "cell_type": "markdown",
   "metadata": {},
   "source": [
    "### Update the data"
   ]
  },
  {
   "cell_type": "code",
   "execution_count": 34,
   "metadata": {},
   "outputs": [],
   "source": [
    "# Where Condition\n",
    "\n",
    "SQL_salary = \"UPDATE FINANCE SET Salary=11 WHERE Salary = 11.5\"\n",
    "mycursor.execute(SQL_salary)\n",
    "\n",
    "mydb.commit()"
   ]
  },
  {
   "cell_type": "code",
   "execution_count": 35,
   "metadata": {},
   "outputs": [
    {
     "name": "stdout",
     "output_type": "stream",
     "text": [
      "(2, 2, 11.0)\n",
      "(3, 3, 12.5)\n"
     ]
    }
   ],
   "source": [
    "# Where Condition\n",
    "\n",
    "SQL_where_finance = \"SELECT * from FINANCE WHERE Salary >= 11\"\n",
    "\n",
    "mycursor.execute(SQL_where_finance)\n",
    "\n",
    "SQL_where_results_finance = mycursor.fetchall()\n",
    "\n",
    "for x in SQL_where_results_finance:\n",
    "    print(x)"
   ]
  },
  {
   "cell_type": "markdown",
   "metadata": {},
   "source": [
    "### Delete the data"
   ]
  },
  {
   "cell_type": "code",
   "execution_count": 38,
   "metadata": {},
   "outputs": [],
   "source": [
    "# rollback()-- it won't allow the execution of command\n",
    "\n",
    "SQL_salary = \"DELETE FROM FINANCE WHERE Salary >= 11.5\"  #deleting salary data if >=11.5\n",
    "mycursor.execute(SQL_salary)\n",
    "\n",
    "mydb.rollback()\n",
    "mydb.commit()"
   ]
  },
  {
   "cell_type": "code",
   "execution_count": 39,
   "metadata": {},
   "outputs": [
    {
     "name": "stdout",
     "output_type": "stream",
     "text": [
      "(3, 3, 12.5)\n"
     ]
    }
   ],
   "source": [
    "# Testing of rollback\n",
    "\n",
    "SQL_where_finance = \"SELECT * from FINANCE WHERE Salary >= 11.5\"\n",
    "\n",
    "mycursor.execute(SQL_where_finance)\n",
    "\n",
    "SQL_where_results_finance = mycursor.fetchall()\n",
    "\n",
    "for x in SQL_where_results_finance:\n",
    "    print(x)\n",
    "\n",
    "    \n",
    "# We still get the record of salary>=11.5 as we have used rollback() earlier which stopped the deletion"
   ]
  },
  {
   "cell_type": "code",
   "execution_count": 40,
   "metadata": {},
   "outputs": [],
   "source": [
    "# Without rollback\n",
    "\n",
    "SQL_salary = \"DELETE FROM FINANCE WHERE Salary >= 11.5\"\n",
    "mycursor.execute(SQL_salary)\n",
    "mydb.commit()"
   ]
  },
  {
   "cell_type": "code",
   "execution_count": 41,
   "metadata": {},
   "outputs": [],
   "source": [
    "SQL_where_finance = \"SELECT * from FINANCE WHERE Salary >= 11.5\"\n",
    "\n",
    "mycursor.execute(SQL_where_finance)\n",
    "\n",
    "SQL_where_results_finance = mycursor.fetchall()\n",
    "\n",
    "for x in SQL_where_results_finance:\n",
    "    print(x)"
   ]
  },
  {
   "cell_type": "code",
   "execution_count": null,
   "metadata": {},
   "outputs": [],
   "source": []
  }
 ],
 "metadata": {
  "kernelspec": {
   "display_name": "Python 3",
   "language": "python",
   "name": "python3"
  },
  "language_info": {
   "codemirror_mode": {
    "name": "ipython",
    "version": 3
   },
   "file_extension": ".py",
   "mimetype": "text/x-python",
   "name": "python",
   "nbconvert_exporter": "python",
   "pygments_lexer": "ipython3",
   "version": "3.8.8"
  }
 },
 "nbformat": 4,
 "nbformat_minor": 2
}
