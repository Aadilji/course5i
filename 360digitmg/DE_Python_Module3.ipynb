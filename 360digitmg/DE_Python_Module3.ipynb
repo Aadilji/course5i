{
 "cells": [
  {
   "cell_type": "markdown",
   "metadata": {},
   "source": [
    "# Python Packages for Data Analysis"
   ]
  },
  {
   "cell_type": "markdown",
   "metadata": {},
   "source": [
    "## numpy"
   ]
  },
  {
   "cell_type": "code",
   "execution_count": 1,
   "metadata": {},
   "outputs": [
    {
     "data": {
      "text/plain": [
       "[10, 21, 3, 14, 15, 16, 10, 21, 3, 14, 15, 16]"
      ]
     },
     "execution_count": 1,
     "metadata": {},
     "output_type": "execute_result"
    }
   ],
   "source": [
    "import numpy as np\n",
    "\n",
    "# A list of elements in variable 'x'\n",
    "\n",
    "x = [10,21,3,14,15,16]\n",
    "\n",
    "# how to multiply the list values with 2\n",
    "x*2 #  provides dual list\n",
    "\n"
   ]
  },
  {
   "cell_type": "code",
   "execution_count": 3,
   "metadata": {},
   "outputs": [
    {
     "name": "stdout",
     "output_type": "stream",
     "text": [
      "<class 'numpy.ndarray'>\n",
      "[20 42  6 28 30 32]\n"
     ]
    },
    {
     "data": {
      "text/plain": [
       "(array([False,  True, False,  True,  True,  True]), array([21, 14, 15, 16]))"
      ]
     },
     "execution_count": 3,
     "metadata": {},
     "output_type": "execute_result"
    }
   ],
   "source": [
    "# Numpy array will help access the values\n",
    "y = np.array(x)\n",
    "print(type(y))\n",
    "print(y*2)\n",
    "\n",
    "y>10 , y[y>10]\n"
   ]
  },
  {
   "cell_type": "markdown",
   "metadata": {},
   "source": [
    "### Memory savers"
   ]
  },
  {
   "cell_type": "code",
   "execution_count": 2,
   "metadata": {},
   "outputs": [
    {
     "name": "stdout",
     "output_type": "stream",
     "text": [
      "True\n"
     ]
    },
    {
     "data": {
      "text/plain": [
       "(array([0, 1, 2, 3, 4, 5, 6, 7, 8, 9]), array([0, 2, 4, 6, 8]))"
      ]
     },
     "execution_count": 2,
     "metadata": {},
     "output_type": "execute_result"
    }
   ],
   "source": [
    "#numpy arrays shares the memory instead of allocating seperate memory\n",
    "\n",
    "a=np.arange(10)\n",
    "\n",
    "b=a[::2]\n",
    "print(np.shares_memory(a,b)) #check whether a and b shares memory\n",
    "a,b"
   ]
  },
  {
   "cell_type": "markdown",
   "metadata": {},
   "source": [
    "### Masking arrays"
   ]
  },
  {
   "cell_type": "code",
   "execution_count": 4,
   "metadata": {},
   "outputs": [
    {
     "name": "stdout",
     "output_type": "stream",
     "text": [
      "[0 1 2 3 4 5 6 7 8 9]\n"
     ]
    },
    {
     "data": {
      "text/plain": [
       "array([0, 2, 4, 6, 8])"
      ]
     },
     "execution_count": 4,
     "metadata": {},
     "output_type": "execute_result"
    }
   ],
   "source": [
    "a=np.arange(10)\n",
    "print(a)\n",
    "\n",
    "mask=(a%2==0) #masking for even numbers\n",
    "a[mask]"
   ]
  },
  {
   "cell_type": "markdown",
   "metadata": {},
   "source": [
    "### numpy matrices"
   ]
  },
  {
   "cell_type": "code",
   "execution_count": 5,
   "metadata": {},
   "outputs": [
    {
     "name": "stdout",
     "output_type": "stream",
     "text": [
      "[[1 2]\n",
      " [3 4]]\n",
      "[[1 2]\n",
      " [3 4]]\n"
     ]
    }
   ],
   "source": [
    "# Numpy matrics \n",
    "#Ex:1\n",
    "a = np.matrix('1 2; 3 4')\n",
    "print(a)\n",
    "\n",
    "#Ex:2\n",
    "b = np.matrix([[1, 2], [3, 4]])\n",
    "print(b)\n"
   ]
  },
  {
   "cell_type": "markdown",
   "metadata": {},
   "source": [
    "### numpy broad casting"
   ]
  },
  {
   "cell_type": "code",
   "execution_count": 6,
   "metadata": {},
   "outputs": [
    {
     "data": {
      "text/plain": [
       "((4,), array([ 0, 10, 20, 30]), array([0, 1, 2]), (3,))"
      ]
     },
     "execution_count": 6,
     "metadata": {},
     "output_type": "execute_result"
    }
   ],
   "source": [
    "#numpy broad casting helps when working on different sized arrays\n",
    "a=np.arange(0,40,10)\n",
    "\n",
    "b=np.array([0,1,2])\n",
    "\n",
    "a.shape, a, b, b.shape"
   ]
  },
  {
   "cell_type": "code",
   "execution_count": 7,
   "metadata": {},
   "outputs": [
    {
     "data": {
      "text/plain": [
       "(4, 1)"
      ]
     },
     "execution_count": 7,
     "metadata": {},
     "output_type": "execute_result"
    }
   ],
   "source": [
    "a=a[:,np.newaxis] #adds one extra axis\n",
    "a.shape"
   ]
  },
  {
   "cell_type": "code",
   "execution_count": 13,
   "metadata": {},
   "outputs": [
    {
     "name": "stdout",
     "output_type": "stream",
     "text": [
      "[[ 0]\n",
      " [10]\n",
      " [20]\n",
      " [30]]\n",
      "********\n",
      "[0 1 2]\n",
      "*********\n"
     ]
    },
    {
     "data": {
      "text/plain": [
       "array([[ 0,  1,  2],\n",
       "       [10, 11, 12],\n",
       "       [20, 21, 22],\n",
       "       [30, 31, 32]])"
      ]
     },
     "execution_count": 13,
     "metadata": {},
     "output_type": "execute_result"
    }
   ],
   "source": [
    "print(a)\n",
    "print('********')\n",
    "print(b)\n",
    "print('*********')\n",
    "a+b  #addition takes place between different dimensions (sizes of a and b should be such that they are broadcastable)"
   ]
  },
  {
   "cell_type": "markdown",
   "metadata": {},
   "source": [
    "## Pandas"
   ]
  },
  {
   "cell_type": "code",
   "execution_count": 9,
   "metadata": {},
   "outputs": [
    {
     "data": {
      "text/html": [
       "<div>\n",
       "<style scoped>\n",
       "    .dataframe tbody tr th:only-of-type {\n",
       "        vertical-align: middle;\n",
       "    }\n",
       "\n",
       "    .dataframe tbody tr th {\n",
       "        vertical-align: top;\n",
       "    }\n",
       "\n",
       "    .dataframe thead th {\n",
       "        text-align: right;\n",
       "    }\n",
       "</style>\n",
       "<table border=\"1\" class=\"dataframe\">\n",
       "  <thead>\n",
       "    <tr style=\"text-align: right;\">\n",
       "      <th></th>\n",
       "      <th>X1</th>\n",
       "      <th>X2</th>\n",
       "      <th>X3</th>\n",
       "    </tr>\n",
       "  </thead>\n",
       "  <tbody>\n",
       "  </tbody>\n",
       "</table>\n",
       "</div>"
      ],
      "text/plain": [
       "Empty DataFrame\n",
       "Columns: [X1, X2, X3]\n",
       "Index: []"
      ]
     },
     "execution_count": 9,
     "metadata": {},
     "output_type": "execute_result"
    }
   ],
   "source": [
    "# Importing necessary libraries\n",
    "import pandas as pd # importing pandas = > useful for creating dataframes\n",
    "import numpy as np   # importing numpy = > useful for creating numpy arrays \n",
    "\n",
    "\n",
    "x1 = [1, 2, 3, 4,5] # list format \n",
    "x2 = [10, 11, 12,13,14]  # list format \n",
    "\n",
    "x3 = list(range(5))\n",
    "\n",
    "# Creating a data frame using explicits lists\n",
    "X = pd.DataFrame(columns = [\"X1\",\"X2\",\"X3\"]) \n",
    "X\n"
   ]
  },
  {
   "cell_type": "code",
   "execution_count": 10,
   "metadata": {},
   "outputs": [
    {
     "data": {
      "text/html": [
       "<div>\n",
       "<style scoped>\n",
       "    .dataframe tbody tr th:only-of-type {\n",
       "        vertical-align: middle;\n",
       "    }\n",
       "\n",
       "    .dataframe tbody tr th {\n",
       "        vertical-align: top;\n",
       "    }\n",
       "\n",
       "    .dataframe thead th {\n",
       "        text-align: right;\n",
       "    }\n",
       "</style>\n",
       "<table border=\"1\" class=\"dataframe\">\n",
       "  <thead>\n",
       "    <tr style=\"text-align: right;\">\n",
       "      <th></th>\n",
       "      <th>X1</th>\n",
       "      <th>X2</th>\n",
       "      <th>X3</th>\n",
       "    </tr>\n",
       "  </thead>\n",
       "  <tbody>\n",
       "    <tr>\n",
       "      <th>0</th>\n",
       "      <td>1</td>\n",
       "      <td>10</td>\n",
       "      <td>0</td>\n",
       "    </tr>\n",
       "    <tr>\n",
       "      <th>1</th>\n",
       "      <td>2</td>\n",
       "      <td>11</td>\n",
       "      <td>1</td>\n",
       "    </tr>\n",
       "    <tr>\n",
       "      <th>2</th>\n",
       "      <td>3</td>\n",
       "      <td>12</td>\n",
       "      <td>2</td>\n",
       "    </tr>\n",
       "    <tr>\n",
       "      <th>3</th>\n",
       "      <td>4</td>\n",
       "      <td>13</td>\n",
       "      <td>3</td>\n",
       "    </tr>\n",
       "    <tr>\n",
       "      <th>4</th>\n",
       "      <td>5</td>\n",
       "      <td>14</td>\n",
       "      <td>4</td>\n",
       "    </tr>\n",
       "  </tbody>\n",
       "</table>\n",
       "</div>"
      ],
      "text/plain": [
       "   X1  X2  X3\n",
       "0   1  10   0\n",
       "1   2  11   1\n",
       "2   3  12   2\n",
       "3   4  13   3\n",
       "4   5  14   4"
      ]
     },
     "execution_count": 10,
     "metadata": {},
     "output_type": "execute_result"
    }
   ],
   "source": [
    "X[\"X1\"] = x1 # Converting list format into pandas series format\n",
    "X[\"X2\"] = x2 # Converting list format into pandas series format\n",
    "X[\"X3\"] = x3\n",
    "X"
   ]
  },
  {
   "cell_type": "code",
   "execution_count": 11,
   "metadata": {},
   "outputs": [
    {
     "data": {
      "text/html": [
       "<div>\n",
       "<style scoped>\n",
       "    .dataframe tbody tr th:only-of-type {\n",
       "        vertical-align: middle;\n",
       "    }\n",
       "\n",
       "    .dataframe tbody tr th {\n",
       "        vertical-align: top;\n",
       "    }\n",
       "\n",
       "    .dataframe thead th {\n",
       "        text-align: right;\n",
       "    }\n",
       "</style>\n",
       "<table border=\"1\" class=\"dataframe\">\n",
       "  <thead>\n",
       "    <tr style=\"text-align: right;\">\n",
       "      <th></th>\n",
       "      <th>X1</th>\n",
       "      <th>X2</th>\n",
       "      <th>X3</th>\n",
       "    </tr>\n",
       "  </thead>\n",
       "  <tbody>\n",
       "    <tr>\n",
       "      <th>0</th>\n",
       "      <td>1</td>\n",
       "      <td>10</td>\n",
       "      <td>0</td>\n",
       "    </tr>\n",
       "    <tr>\n",
       "      <th>1</th>\n",
       "      <td>2</td>\n",
       "      <td>11</td>\n",
       "      <td>1</td>\n",
       "    </tr>\n",
       "    <tr>\n",
       "      <th>2</th>\n",
       "      <td>3</td>\n",
       "      <td>12</td>\n",
       "      <td>2</td>\n",
       "    </tr>\n",
       "    <tr>\n",
       "      <th>3</th>\n",
       "      <td>4</td>\n",
       "      <td>13</td>\n",
       "      <td>3</td>\n",
       "    </tr>\n",
       "    <tr>\n",
       "      <th>4</th>\n",
       "      <td>5</td>\n",
       "      <td>14</td>\n",
       "      <td>4</td>\n",
       "    </tr>\n",
       "  </tbody>\n",
       "</table>\n",
       "</div>"
      ],
      "text/plain": [
       "   X1  X2  X3\n",
       "0   1  10   0\n",
       "1   2  11   1\n",
       "2   3  12   2\n",
       "3   4  13   3\n",
       "4   5  14   4"
      ]
     },
     "execution_count": 11,
     "metadata": {},
     "output_type": "execute_result"
    }
   ],
   "source": [
    "X[\"X1\"] = pd.Series(x1)  # Converting list format into pandas series format\n",
    "X[\"X2\"] = pd.Series(x2) # Converting list format into pandas series format\n",
    "X[\"X3\"] = pd.Series(x3)\n",
    "X"
   ]
  },
  {
   "cell_type": "code",
   "execution_count": 12,
   "metadata": {},
   "outputs": [
    {
     "data": {
      "text/plain": [
       "0    1\n",
       "1    2\n",
       "2    3\n",
       "3    4\n",
       "4    5\n",
       "Name: X1, dtype: int64"
      ]
     },
     "execution_count": 12,
     "metadata": {},
     "output_type": "execute_result"
    }
   ],
   "source": [
    "# accessing columns using \".\" (dot) operation\n",
    "X.X1\n"
   ]
  },
  {
   "cell_type": "code",
   "execution_count": 13,
   "metadata": {},
   "outputs": [
    {
     "data": {
      "text/plain": [
       "0    1\n",
       "1    2\n",
       "2    3\n",
       "3    4\n",
       "4    5\n",
       "Name: X1, dtype: int64"
      ]
     },
     "execution_count": 13,
     "metadata": {},
     "output_type": "execute_result"
    }
   ],
   "source": [
    "# accessing columns alternative way\n",
    "X[\"X1\"]\n"
   ]
  },
  {
   "cell_type": "code",
   "execution_count": 15,
   "metadata": {},
   "outputs": [
    {
     "data": {
      "text/html": [
       "<div>\n",
       "<style scoped>\n",
       "    .dataframe tbody tr th:only-of-type {\n",
       "        vertical-align: middle;\n",
       "    }\n",
       "\n",
       "    .dataframe tbody tr th {\n",
       "        vertical-align: top;\n",
       "    }\n",
       "\n",
       "    .dataframe thead th {\n",
       "        text-align: right;\n",
       "    }\n",
       "</style>\n",
       "<table border=\"1\" class=\"dataframe\">\n",
       "  <thead>\n",
       "    <tr style=\"text-align: right;\">\n",
       "      <th></th>\n",
       "      <th>X1</th>\n",
       "      <th>X2</th>\n",
       "    </tr>\n",
       "  </thead>\n",
       "  <tbody>\n",
       "    <tr>\n",
       "      <th>0</th>\n",
       "      <td>1</td>\n",
       "      <td>10</td>\n",
       "    </tr>\n",
       "    <tr>\n",
       "      <th>1</th>\n",
       "      <td>2</td>\n",
       "      <td>11</td>\n",
       "    </tr>\n",
       "    <tr>\n",
       "      <th>2</th>\n",
       "      <td>3</td>\n",
       "      <td>12</td>\n",
       "    </tr>\n",
       "    <tr>\n",
       "      <th>3</th>\n",
       "      <td>4</td>\n",
       "      <td>13</td>\n",
       "    </tr>\n",
       "    <tr>\n",
       "      <th>4</th>\n",
       "      <td>5</td>\n",
       "      <td>14</td>\n",
       "    </tr>\n",
       "  </tbody>\n",
       "</table>\n",
       "</div>"
      ],
      "text/plain": [
       "   X1  X2\n",
       "0   1  10\n",
       "1   2  11\n",
       "2   3  12\n",
       "3   4  13\n",
       "4   5  14"
      ]
     },
     "execution_count": 15,
     "metadata": {},
     "output_type": "execute_result"
    }
   ],
   "source": [
    "# Accessing multiple columns : giving column names as input in list format\n",
    "X[[\"X1\",\"X2\"]]\n"
   ]
  },
  {
   "cell_type": "code",
   "execution_count": 17,
   "metadata": {},
   "outputs": [
    {
     "data": {
      "text/plain": [
       "0    10\n",
       "1    11\n",
       "2    12\n",
       "Name: X2, dtype: int64"
      ]
     },
     "execution_count": 17,
     "metadata": {},
     "output_type": "execute_result"
    }
   ],
   "source": [
    "# Accessing elements using \".iloc\" : accessing each cell by row and column \n",
    "# index values\n",
    "X.iloc[0:3,1]"
   ]
  },
  {
   "cell_type": "code",
   "execution_count": 16,
   "metadata": {},
   "outputs": [
    {
     "data": {
      "text/html": [
       "<div>\n",
       "<style scoped>\n",
       "    .dataframe tbody tr th:only-of-type {\n",
       "        vertical-align: middle;\n",
       "    }\n",
       "\n",
       "    .dataframe tbody tr th {\n",
       "        vertical-align: top;\n",
       "    }\n",
       "\n",
       "    .dataframe thead th {\n",
       "        text-align: right;\n",
       "    }\n",
       "</style>\n",
       "<table border=\"1\" class=\"dataframe\">\n",
       "  <thead>\n",
       "    <tr style=\"text-align: right;\">\n",
       "      <th></th>\n",
       "      <th>X1</th>\n",
       "      <th>X2</th>\n",
       "      <th>X3</th>\n",
       "    </tr>\n",
       "  </thead>\n",
       "  <tbody>\n",
       "    <tr>\n",
       "      <th>0</th>\n",
       "      <td>1</td>\n",
       "      <td>10</td>\n",
       "      <td>0</td>\n",
       "    </tr>\n",
       "    <tr>\n",
       "      <th>1</th>\n",
       "      <td>2</td>\n",
       "      <td>11</td>\n",
       "      <td>1</td>\n",
       "    </tr>\n",
       "    <tr>\n",
       "      <th>2</th>\n",
       "      <td>3</td>\n",
       "      <td>12</td>\n",
       "      <td>2</td>\n",
       "    </tr>\n",
       "    <tr>\n",
       "      <th>3</th>\n",
       "      <td>4</td>\n",
       "      <td>13</td>\n",
       "      <td>3</td>\n",
       "    </tr>\n",
       "    <tr>\n",
       "      <th>4</th>\n",
       "      <td>5</td>\n",
       "      <td>14</td>\n",
       "      <td>4</td>\n",
       "    </tr>\n",
       "  </tbody>\n",
       "</table>\n",
       "</div>"
      ],
      "text/plain": [
       "   X1  X2  X3\n",
       "0   1  10   0\n",
       "1   2  11   1\n",
       "2   3  12   2\n",
       "3   4  13   3\n",
       "4   5  14   4"
      ]
     },
     "execution_count": 16,
     "metadata": {},
     "output_type": "execute_result"
    }
   ],
   "source": [
    "X.iloc[:,:] # to get entire data frame "
   ]
  },
  {
   "cell_type": "code",
   "execution_count": 19,
   "metadata": {},
   "outputs": [
    {
     "data": {
      "text/html": [
       "<div>\n",
       "<style scoped>\n",
       "    .dataframe tbody tr th:only-of-type {\n",
       "        vertical-align: middle;\n",
       "    }\n",
       "\n",
       "    .dataframe tbody tr th {\n",
       "        vertical-align: top;\n",
       "    }\n",
       "\n",
       "    .dataframe thead th {\n",
       "        text-align: right;\n",
       "    }\n",
       "</style>\n",
       "<table border=\"1\" class=\"dataframe\">\n",
       "  <thead>\n",
       "    <tr style=\"text-align: right;\">\n",
       "      <th></th>\n",
       "      <th>X1</th>\n",
       "      <th>X2</th>\n",
       "    </tr>\n",
       "  </thead>\n",
       "  <tbody>\n",
       "    <tr>\n",
       "      <th>0</th>\n",
       "      <td>1</td>\n",
       "      <td>10</td>\n",
       "    </tr>\n",
       "    <tr>\n",
       "      <th>1</th>\n",
       "      <td>2</td>\n",
       "      <td>11</td>\n",
       "    </tr>\n",
       "    <tr>\n",
       "      <th>2</th>\n",
       "      <td>3</td>\n",
       "      <td>12</td>\n",
       "    </tr>\n",
       "  </tbody>\n",
       "</table>\n",
       "</div>"
      ],
      "text/plain": [
       "   X1  X2\n",
       "0   1  10\n",
       "1   2  11\n",
       "2   3  12"
      ]
     },
     "execution_count": 19,
     "metadata": {},
     "output_type": "execute_result"
    }
   ],
   "source": [
    "X.loc[0:2,[\"X1\",\"X2\"]] # to get specified columns"
   ]
  },
  {
   "cell_type": "code",
   "execution_count": 17,
   "metadata": {},
   "outputs": [
    {
     "data": {
      "text/html": [
       "<div>\n",
       "<style scoped>\n",
       "    .dataframe tbody tr th:only-of-type {\n",
       "        vertical-align: middle;\n",
       "    }\n",
       "\n",
       "    .dataframe tbody tr th {\n",
       "        vertical-align: top;\n",
       "    }\n",
       "\n",
       "    .dataframe thead th {\n",
       "        text-align: right;\n",
       "    }\n",
       "</style>\n",
       "<table border=\"1\" class=\"dataframe\">\n",
       "  <thead>\n",
       "    <tr style=\"text-align: right;\">\n",
       "      <th></th>\n",
       "      <th>X1</th>\n",
       "      <th>X2</th>\n",
       "      <th>X3</th>\n",
       "    </tr>\n",
       "  </thead>\n",
       "  <tbody>\n",
       "    <tr>\n",
       "      <th>0</th>\n",
       "      <td>1</td>\n",
       "      <td>4</td>\n",
       "      <td>4</td>\n",
       "    </tr>\n",
       "    <tr>\n",
       "      <th>1</th>\n",
       "      <td>2</td>\n",
       "      <td>8</td>\n",
       "      <td>8</td>\n",
       "    </tr>\n",
       "    <tr>\n",
       "      <th>2</th>\n",
       "      <td>3</td>\n",
       "      <td>12</td>\n",
       "      <td>12</td>\n",
       "    </tr>\n",
       "  </tbody>\n",
       "</table>\n",
       "</div>"
      ],
      "text/plain": [
       "   X1  X2  X3\n",
       "0   1   4   4\n",
       "1   2   8   8\n",
       "2   3  12  12"
      ]
     },
     "execution_count": 17,
     "metadata": {},
     "output_type": "execute_result"
    }
   ],
   "source": [
    "# Merge operation using pandas dataframe\n",
    "\n",
    "df1 = pd.DataFrame({\"X1\":[1,2,3],\"X2\":[4,8,12],})\n",
    "df2 = pd.DataFrame({\"X1\":[1,2,3,4],\"X3\":[4,8,12,15],})\n",
    "\n",
    "merge = pd.merge(df1,df2, on = \"X1\") # merge function\n",
    "merge"
   ]
  },
  {
   "cell_type": "code",
   "execution_count": 16,
   "metadata": {},
   "outputs": [
    {
     "name": "stdout",
     "output_type": "stream",
     "text": [
      "      X1  X2\n",
      "2000   1   4\n",
      "2001   2   8\n",
      "2002   3  12\n",
      "*********\n",
      "      X3  X4\n",
      "2001   1   4\n",
      "2002   2   8\n",
      "2003   3  12\n",
      "*********\n"
     ]
    },
    {
     "data": {
      "text/html": [
       "<div>\n",
       "<style scoped>\n",
       "    .dataframe tbody tr th:only-of-type {\n",
       "        vertical-align: middle;\n",
       "    }\n",
       "\n",
       "    .dataframe tbody tr th {\n",
       "        vertical-align: top;\n",
       "    }\n",
       "\n",
       "    .dataframe thead th {\n",
       "        text-align: right;\n",
       "    }\n",
       "</style>\n",
       "<table border=\"1\" class=\"dataframe\">\n",
       "  <thead>\n",
       "    <tr style=\"text-align: right;\">\n",
       "      <th></th>\n",
       "      <th>X3</th>\n",
       "      <th>X4</th>\n",
       "      <th>X1</th>\n",
       "      <th>X2</th>\n",
       "    </tr>\n",
       "  </thead>\n",
       "  <tbody>\n",
       "    <tr>\n",
       "      <th>2001</th>\n",
       "      <td>1</td>\n",
       "      <td>4</td>\n",
       "      <td>2.0</td>\n",
       "      <td>8.0</td>\n",
       "    </tr>\n",
       "    <tr>\n",
       "      <th>2002</th>\n",
       "      <td>2</td>\n",
       "      <td>8</td>\n",
       "      <td>3.0</td>\n",
       "      <td>12.0</td>\n",
       "    </tr>\n",
       "    <tr>\n",
       "      <th>2003</th>\n",
       "      <td>3</td>\n",
       "      <td>12</td>\n",
       "      <td>NaN</td>\n",
       "      <td>NaN</td>\n",
       "    </tr>\n",
       "  </tbody>\n",
       "</table>\n",
       "</div>"
      ],
      "text/plain": [
       "      X3  X4   X1    X2\n",
       "2001   1   4  2.0   8.0\n",
       "2002   2   8  3.0  12.0\n",
       "2003   3  12  NaN   NaN"
      ]
     },
     "execution_count": 16,
     "metadata": {},
     "output_type": "execute_result"
    }
   ],
   "source": [
    "#joining operation \n",
    "df1 = pd.DataFrame({\"X1\":[1,2,3],\"X2\":[4,8,12],},index = {2000,2001,2002})\n",
    "df2 = pd.DataFrame({\"X3\":[1,2,3],\"X4\":[4,8,12],},index = {2001,2002,2003})\n",
    "\n",
    "print(df1)\n",
    "print('*********')\n",
    "print(df2)\n",
    "print('*********')\n",
    "joined = df2.join(df1) #join function based on index values\n",
    "joined\n"
   ]
  },
  {
   "cell_type": "code",
   "execution_count": 17,
   "metadata": {},
   "outputs": [
    {
     "name": "stdout",
     "output_type": "stream",
     "text": [
      "   X1  X2\n",
      "0   1   4\n",
      "1   2   8\n",
      "2   3  12\n",
      "********\n"
     ]
    },
    {
     "data": {
      "text/html": [
       "<div>\n",
       "<style scoped>\n",
       "    .dataframe tbody tr th:only-of-type {\n",
       "        vertical-align: middle;\n",
       "    }\n",
       "\n",
       "    .dataframe tbody tr th {\n",
       "        vertical-align: top;\n",
       "    }\n",
       "\n",
       "    .dataframe thead th {\n",
       "        text-align: right;\n",
       "    }\n",
       "</style>\n",
       "<table border=\"1\" class=\"dataframe\">\n",
       "  <thead>\n",
       "    <tr style=\"text-align: right;\">\n",
       "      <th></th>\n",
       "      <th>X2</th>\n",
       "    </tr>\n",
       "    <tr>\n",
       "      <th>X1</th>\n",
       "      <th></th>\n",
       "    </tr>\n",
       "  </thead>\n",
       "  <tbody>\n",
       "    <tr>\n",
       "      <th>1</th>\n",
       "      <td>4</td>\n",
       "    </tr>\n",
       "    <tr>\n",
       "      <th>2</th>\n",
       "      <td>8</td>\n",
       "    </tr>\n",
       "    <tr>\n",
       "      <th>3</th>\n",
       "      <td>12</td>\n",
       "    </tr>\n",
       "  </tbody>\n",
       "</table>\n",
       "</div>"
      ],
      "text/plain": [
       "    X2\n",
       "X1    \n",
       "1    4\n",
       "2    8\n",
       "3   12"
      ]
     },
     "execution_count": 17,
     "metadata": {},
     "output_type": "execute_result"
    }
   ],
   "source": [
    "# Replace index name\n",
    "df = pd.DataFrame({\"X1\":[1,2,3],\"X2\":[4,8,12],})\n",
    "print(df)\n",
    "print('********')\n",
    "\n",
    "df.set_index(\"X1\", inplace = True) #Assiging index names using column names\n",
    "df"
   ]
  },
  {
   "cell_type": "code",
   "execution_count": 18,
   "metadata": {},
   "outputs": [
    {
     "name": "stdout",
     "output_type": "stream",
     "text": [
      "   X1  X2\n",
      "0   1   4\n",
      "1   2   8\n",
      "2   3  12\n",
      "*****\n",
      "   X3  X2\n",
      "0   1   4\n",
      "1   2   8\n",
      "2   3  12\n"
     ]
    }
   ],
   "source": [
    "# Change the column names \n",
    "df = pd.DataFrame({\"X1\":[1,2,3],\"X2\":[4,8,12],})\n",
    "print(df)\n",
    "print('*****')\n",
    "\n",
    "df  = df.rename(columns = {\"X1\":\"X3\"}) #Change column names\n",
    "\n",
    "print(df)\n"
   ]
  },
  {
   "cell_type": "code",
   "execution_count": 19,
   "metadata": {},
   "outputs": [
    {
     "name": "stdout",
     "output_type": "stream",
     "text": [
      "      X1  X2\n",
      "2000   1   4\n",
      "2001   2   8\n",
      "2002   3  12\n",
      "2003   4  14\n",
      "2004   5  16\n",
      "2005   6  18\n"
     ]
    }
   ],
   "source": [
    "# Concatenation\n",
    "\n",
    "df1 = pd.DataFrame({\"X1\":[1,2,3],\"X2\":[4,8,12],},index = {2000,2001,2002})\n",
    "df2 = pd.DataFrame({\"X1\":[4,5,6],\"X2\":[14,16,18],},index = {2003,2004,2005})\n",
    "\n",
    "Concatenate = pd.concat([df1,df2])\n",
    "\n",
    "print(Concatenate)\n"
   ]
  },
  {
   "cell_type": "code",
   "execution_count": 20,
   "metadata": {},
   "outputs": [
    {
     "name": "stdout",
     "output_type": "stream",
     "text": [
      "<class 'pandas.core.frame.DataFrame'>\n"
     ]
    },
    {
     "data": {
      "text/plain": [
       "(773, 3)"
      ]
     },
     "execution_count": 20,
     "metadata": {},
     "output_type": "execute_result"
    }
   ],
   "source": [
    "# Import data (.csv file) using pandas. We are using mba data set\n",
    "mba = pd.read_csv(\"education.csv\")\n",
    "print(type(mba)) # pandas data frame\n",
    "mba.shape #size of the dataframe"
   ]
  },
  {
   "cell_type": "code",
   "execution_count": 21,
   "metadata": {},
   "outputs": [
    {
     "data": {
      "text/html": [
       "<div>\n",
       "<style scoped>\n",
       "    .dataframe tbody tr th:only-of-type {\n",
       "        vertical-align: middle;\n",
       "    }\n",
       "\n",
       "    .dataframe tbody tr th {\n",
       "        vertical-align: top;\n",
       "    }\n",
       "\n",
       "    .dataframe thead th {\n",
       "        text-align: right;\n",
       "    }\n",
       "</style>\n",
       "<table border=\"1\" class=\"dataframe\">\n",
       "  <thead>\n",
       "    <tr style=\"text-align: right;\">\n",
       "      <th></th>\n",
       "      <th>datasrno</th>\n",
       "      <th>workex</th>\n",
       "      <th>gmat</th>\n",
       "    </tr>\n",
       "  </thead>\n",
       "  <tbody>\n",
       "    <tr>\n",
       "      <th>0</th>\n",
       "      <td>1</td>\n",
       "      <td>21</td>\n",
       "      <td>720</td>\n",
       "    </tr>\n",
       "    <tr>\n",
       "      <th>1</th>\n",
       "      <td>2</td>\n",
       "      <td>107</td>\n",
       "      <td>640</td>\n",
       "    </tr>\n",
       "    <tr>\n",
       "      <th>2</th>\n",
       "      <td>3</td>\n",
       "      <td>57</td>\n",
       "      <td>740</td>\n",
       "    </tr>\n",
       "    <tr>\n",
       "      <th>3</th>\n",
       "      <td>4</td>\n",
       "      <td>99</td>\n",
       "      <td>690</td>\n",
       "    </tr>\n",
       "    <tr>\n",
       "      <th>4</th>\n",
       "      <td>5</td>\n",
       "      <td>208</td>\n",
       "      <td>710</td>\n",
       "    </tr>\n",
       "    <tr>\n",
       "      <th>5</th>\n",
       "      <td>6</td>\n",
       "      <td>136</td>\n",
       "      <td>660</td>\n",
       "    </tr>\n",
       "    <tr>\n",
       "      <th>6</th>\n",
       "      <td>7</td>\n",
       "      <td>70</td>\n",
       "      <td>660</td>\n",
       "    </tr>\n",
       "    <tr>\n",
       "      <th>7</th>\n",
       "      <td>8</td>\n",
       "      <td>103</td>\n",
       "      <td>710</td>\n",
       "    </tr>\n",
       "    <tr>\n",
       "      <th>8</th>\n",
       "      <td>9</td>\n",
       "      <td>79</td>\n",
       "      <td>700</td>\n",
       "    </tr>\n",
       "    <tr>\n",
       "      <th>9</th>\n",
       "      <td>10</td>\n",
       "      <td>22</td>\n",
       "      <td>730</td>\n",
       "    </tr>\n",
       "  </tbody>\n",
       "</table>\n",
       "</div>"
      ],
      "text/plain": [
       "   datasrno  workex  gmat\n",
       "0         1      21   720\n",
       "1         2     107   640\n",
       "2         3      57   740\n",
       "3         4      99   690\n",
       "4         5     208   710\n",
       "5         6     136   660\n",
       "6         7      70   660\n",
       "7         8     103   710\n",
       "8         9      79   700\n",
       "9        10      22   730"
      ]
     },
     "execution_count": 21,
     "metadata": {},
     "output_type": "execute_result"
    }
   ],
   "source": [
    "mba.head(10) #gives first 5 records data"
   ]
  },
  {
   "cell_type": "code",
   "execution_count": 23,
   "metadata": {},
   "outputs": [
    {
     "data": {
      "text/plain": [
       "<bound method IndexOpsMixin.value_counts of datasrno      2\n",
       "workex      107\n",
       "gmat        640\n",
       "Name: 1, dtype: int64>"
      ]
     },
     "execution_count": 23,
     "metadata": {},
     "output_type": "execute_result"
    }
   ],
   "source": [
    "mba.iloc[1].value_counts #gives frequency distribution of partcular column"
   ]
  },
  {
   "cell_type": "code",
   "execution_count": 22,
   "metadata": {},
   "outputs": [
    {
     "data": {
      "text/plain": [
       "<bound method IndexOpsMixin.value_counts of 0       21\n",
       "1      107\n",
       "2       57\n",
       "3       99\n",
       "4      208\n",
       "      ... \n",
       "768     88\n",
       "769    132\n",
       "770     28\n",
       "771     10\n",
       "772     52\n",
       "Name: workex, Length: 773, dtype: int64>"
      ]
     },
     "execution_count": 22,
     "metadata": {},
     "output_type": "execute_result"
    }
   ],
   "source": [
    "mba.workex.value_counts"
   ]
  },
  {
   "cell_type": "code",
   "execution_count": 25,
   "metadata": {},
   "outputs": [
    {
     "data": {
      "text/html": [
       "<div>\n",
       "<style scoped>\n",
       "    .dataframe tbody tr th:only-of-type {\n",
       "        vertical-align: middle;\n",
       "    }\n",
       "\n",
       "    .dataframe tbody tr th {\n",
       "        vertical-align: top;\n",
       "    }\n",
       "\n",
       "    .dataframe thead th {\n",
       "        text-align: right;\n",
       "    }\n",
       "</style>\n",
       "<table border=\"1\" class=\"dataframe\">\n",
       "  <thead>\n",
       "    <tr style=\"text-align: right;\">\n",
       "      <th></th>\n",
       "      <th>datasrno</th>\n",
       "      <th>workex</th>\n",
       "      <th>gmat</th>\n",
       "    </tr>\n",
       "  </thead>\n",
       "  <tbody>\n",
       "    <tr>\n",
       "      <th>count</th>\n",
       "      <td>773.00000</td>\n",
       "      <td>773.00000</td>\n",
       "      <td>773.000000</td>\n",
       "    </tr>\n",
       "    <tr>\n",
       "      <th>mean</th>\n",
       "      <td>387.00000</td>\n",
       "      <td>57.50194</td>\n",
       "      <td>711.164295</td>\n",
       "    </tr>\n",
       "    <tr>\n",
       "      <th>std</th>\n",
       "      <td>223.29017</td>\n",
       "      <td>27.38682</td>\n",
       "      <td>29.339714</td>\n",
       "    </tr>\n",
       "    <tr>\n",
       "      <th>min</th>\n",
       "      <td>1.00000</td>\n",
       "      <td>9.00000</td>\n",
       "      <td>600.000000</td>\n",
       "    </tr>\n",
       "    <tr>\n",
       "      <th>25%</th>\n",
       "      <td>194.00000</td>\n",
       "      <td>41.00000</td>\n",
       "      <td>690.000000</td>\n",
       "    </tr>\n",
       "    <tr>\n",
       "      <th>50%</th>\n",
       "      <td>387.00000</td>\n",
       "      <td>52.00000</td>\n",
       "      <td>710.000000</td>\n",
       "    </tr>\n",
       "    <tr>\n",
       "      <th>75%</th>\n",
       "      <td>580.00000</td>\n",
       "      <td>69.00000</td>\n",
       "      <td>730.000000</td>\n",
       "    </tr>\n",
       "    <tr>\n",
       "      <th>max</th>\n",
       "      <td>773.00000</td>\n",
       "      <td>279.00000</td>\n",
       "      <td>780.000000</td>\n",
       "    </tr>\n",
       "  </tbody>\n",
       "</table>\n",
       "</div>"
      ],
      "text/plain": [
       "        datasrno     workex        gmat\n",
       "count  773.00000  773.00000  773.000000\n",
       "mean   387.00000   57.50194  711.164295\n",
       "std    223.29017   27.38682   29.339714\n",
       "min      1.00000    9.00000  600.000000\n",
       "25%    194.00000   41.00000  690.000000\n",
       "50%    387.00000   52.00000  710.000000\n",
       "75%    580.00000   69.00000  730.000000\n",
       "max    773.00000  279.00000  780.000000"
      ]
     },
     "execution_count": 25,
     "metadata": {},
     "output_type": "execute_result"
    }
   ],
   "source": [
    "mba.describe() #gives descriptive stats"
   ]
  },
  {
   "cell_type": "markdown",
   "metadata": {},
   "source": [
    "## Matplotlib"
   ]
  },
  {
   "cell_type": "code",
   "execution_count": 23,
   "metadata": {},
   "outputs": [
    {
     "data": {
      "image/png": "[encoded data removed]",
      "text/plain": [
       "<Figure size 432x288 with 1 Axes>"
      ]
     },
     "metadata": {
      "needs_background": "light"
     },
     "output_type": "display_data"
    }
   ],
   "source": [
    "#Matplotlib package\n",
    "import matplotlib.pyplot as plt # mostly used for visualization purposes \n",
    "\n",
    "#Histogram\n",
    "plt.hist(mba['gmat'])\n",
    "plt.show()"
   ]
  },
  {
   "cell_type": "code",
   "execution_count": 24,
   "metadata": {},
   "outputs": [
    {
     "data": {
      "image/png": "[encoded data removed]",
      "text/plain": [
       "<Figure size 432x288 with 1 Axes>"
      ]
     },
     "metadata": {
      "needs_background": "light"
     },
     "output_type": "display_data"
    }
   ],
   "source": [
    "#Boxplot\n",
    "plt.boxplot(mba['gmat']);plt.ylabel(\"GMAT\")   # for vertical\n",
    "plt.show()"
   ]
  },
  {
   "cell_type": "code",
   "execution_count": 28,
   "metadata": {},
   "outputs": [
    {
     "data": {
      "image/png": "[encoded data removed]",
      "text/plain": [
       "<Figure size 432x288 with 1 Axes>"
      ]
     },
     "metadata": {
      "needs_background": "light"
     },
     "output_type": "display_data"
    }
   ],
   "source": [
    "plt.boxplot(mba['gmat'],1,'rs',0)# For Horizontal\n",
    "plt.show()"
   ]
  },
  {
   "cell_type": "code",
   "execution_count": 25,
   "metadata": {},
   "outputs": [
    {
     "data": {
      "image/png": "[encoded data removed]",
      "text/plain": [
       "<Figure size 432x288 with 1 Axes>"
      ]
     },
     "metadata": {
      "needs_background": "light"
     },
     "output_type": "display_data"
    }
   ],
   "source": [
    "#Barplot\n",
    "plt.bar(height = mba[\"gmat\"], x = np.arange(773)) # initializing the parameter\n",
    "plt.show()"
   ]
  },
  {
   "cell_type": "code",
   "execution_count": 27,
   "metadata": {},
   "outputs": [
    {
     "data": {
      "text/plain": [
       "(32, 11)"
      ]
     },
     "execution_count": 27,
     "metadata": {},
     "output_type": "execute_result"
    }
   ],
   "source": [
    "#reading another dataset mtcars\n",
    "\n",
    "mtcars=pd.read_csv(\"mtcars.csv\")\n",
    "mtcars.shape #to check the size of data frame"
   ]
  },
  {
   "cell_type": "code",
   "execution_count": 28,
   "metadata": {},
   "outputs": [
    {
     "data": {
      "text/html": [
       "<div>\n",
       "<style scoped>\n",
       "    .dataframe tbody tr th:only-of-type {\n",
       "        vertical-align: middle;\n",
       "    }\n",
       "\n",
       "    .dataframe tbody tr th {\n",
       "        vertical-align: top;\n",
       "    }\n",
       "\n",
       "    .dataframe thead th {\n",
       "        text-align: right;\n",
       "    }\n",
       "</style>\n",
       "<table border=\"1\" class=\"dataframe\">\n",
       "  <thead>\n",
       "    <tr style=\"text-align: right;\">\n",
       "      <th></th>\n",
       "      <th>mpg</th>\n",
       "      <th>cyl</th>\n",
       "      <th>disp</th>\n",
       "      <th>hp</th>\n",
       "      <th>drat</th>\n",
       "      <th>wt</th>\n",
       "      <th>qsec</th>\n",
       "      <th>vs</th>\n",
       "      <th>am</th>\n",
       "      <th>gear</th>\n",
       "      <th>carb</th>\n",
       "    </tr>\n",
       "  </thead>\n",
       "  <tbody>\n",
       "    <tr>\n",
       "      <th>0</th>\n",
       "      <td>21.0</td>\n",
       "      <td>6</td>\n",
       "      <td>160.0</td>\n",
       "      <td>110</td>\n",
       "      <td>3.90</td>\n",
       "      <td>2.620</td>\n",
       "      <td>16.46</td>\n",
       "      <td>0</td>\n",
       "      <td>1</td>\n",
       "      <td>4</td>\n",
       "      <td>4</td>\n",
       "    </tr>\n",
       "    <tr>\n",
       "      <th>1</th>\n",
       "      <td>21.0</td>\n",
       "      <td>6</td>\n",
       "      <td>160.0</td>\n",
       "      <td>110</td>\n",
       "      <td>3.90</td>\n",
       "      <td>2.875</td>\n",
       "      <td>17.02</td>\n",
       "      <td>0</td>\n",
       "      <td>1</td>\n",
       "      <td>4</td>\n",
       "      <td>4</td>\n",
       "    </tr>\n",
       "    <tr>\n",
       "      <th>2</th>\n",
       "      <td>22.8</td>\n",
       "      <td>4</td>\n",
       "      <td>108.0</td>\n",
       "      <td>93</td>\n",
       "      <td>3.85</td>\n",
       "      <td>2.320</td>\n",
       "      <td>18.61</td>\n",
       "      <td>1</td>\n",
       "      <td>1</td>\n",
       "      <td>4</td>\n",
       "      <td>1</td>\n",
       "    </tr>\n",
       "    <tr>\n",
       "      <th>3</th>\n",
       "      <td>21.4</td>\n",
       "      <td>6</td>\n",
       "      <td>258.0</td>\n",
       "      <td>110</td>\n",
       "      <td>3.08</td>\n",
       "      <td>3.215</td>\n",
       "      <td>19.44</td>\n",
       "      <td>1</td>\n",
       "      <td>0</td>\n",
       "      <td>3</td>\n",
       "      <td>1</td>\n",
       "    </tr>\n",
       "    <tr>\n",
       "      <th>4</th>\n",
       "      <td>18.7</td>\n",
       "      <td>8</td>\n",
       "      <td>360.0</td>\n",
       "      <td>175</td>\n",
       "      <td>3.15</td>\n",
       "      <td>3.440</td>\n",
       "      <td>17.02</td>\n",
       "      <td>0</td>\n",
       "      <td>0</td>\n",
       "      <td>3</td>\n",
       "      <td>2</td>\n",
       "    </tr>\n",
       "  </tbody>\n",
       "</table>\n",
       "</div>"
      ],
      "text/plain": [
       "    mpg  cyl   disp   hp  drat     wt   qsec  vs  am  gear  carb\n",
       "0  21.0    6  160.0  110  3.90  2.620  16.46   0   1     4     4\n",
       "1  21.0    6  160.0  110  3.90  2.875  17.02   0   1     4     4\n",
       "2  22.8    4  108.0   93  3.85  2.320  18.61   1   1     4     1\n",
       "3  21.4    6  258.0  110  3.08  3.215  19.44   1   0     3     1\n",
       "4  18.7    8  360.0  175  3.15  3.440  17.02   0   0     3     2"
      ]
     },
     "execution_count": 28,
     "metadata": {},
     "output_type": "execute_result"
    }
   ],
   "source": [
    "mtcars.head() #access first 5 records"
   ]
  },
  {
   "cell_type": "code",
   "execution_count": 29,
   "metadata": {
    "scrolled": true
   },
   "outputs": [
    {
     "data": {
      "image/png": "[encoded data removed]",
      "text/plain": [
       "<Figure size 432x288 with 1 Axes>"
      ]
     },
     "metadata": {
      "needs_background": "light"
     },
     "output_type": "display_data"
    }
   ],
   "source": [
    "#Line Chart\n",
    "mtcars.mpg.groupby(mtcars.gear).plot(kind=\"line\")\n",
    "plt.show()"
   ]
  },
  {
   "cell_type": "code",
   "execution_count": 30,
   "metadata": {},
   "outputs": [
    {
     "data": {
      "text/plain": [
       "3    15\n",
       "4    12\n",
       "5     5\n",
       "Name: gear, dtype: int64"
      ]
     },
     "execution_count": 30,
     "metadata": {},
     "output_type": "execute_result"
    }
   ],
   "source": [
    "mtcars.gear.value_counts()"
   ]
  },
  {
   "cell_type": "code",
   "execution_count": 33,
   "metadata": {},
   "outputs": [
    {
     "data": {
      "image/png": "[encoded data removed]",
      "text/plain": [
       "<Figure size 432x288 with 1 Axes>"
      ]
     },
     "metadata": {},
     "output_type": "display_data"
    }
   ],
   "source": [
    "# Pie chart\n",
    "mtcars.gear.value_counts().plot(kind=\"pie\")\n",
    "plt.show()"
   ]
  },
  {
   "cell_type": "code",
   "execution_count": 34,
   "metadata": {},
   "outputs": [
    {
     "data": {
      "text/plain": [
       "<matplotlib.axes._subplots.AxesSubplot at 0x24022fbb1c8>"
      ]
     },
     "execution_count": 34,
     "metadata": {},
     "output_type": "execute_result"
    },
    {
     "data": {
      "image/png": "[encoded data removed]",
      "text/plain": [
       "<Figure size 432x288 with 1 Axes>"
      ]
     },
     "metadata": {
      "needs_background": "light"
     },
     "output_type": "display_data"
    }
   ],
   "source": [
    "# Area Chart\n",
    "mtcars.mpg.plot(kind='area') \n"
   ]
  },
  {
   "cell_type": "code",
   "execution_count": 40,
   "metadata": {},
   "outputs": [
    {
     "data": {
      "text/plain": [
       "[<matplotlib.lines.Line2D at 0x24024c14148>]"
      ]
     },
     "execution_count": 40,
     "metadata": {},
     "output_type": "execute_result"
    },
    {
     "data": {
      "image/png": "[encoded data removed]",
      "text/plain": [
       "<Figure size 432x288 with 1 Axes>"
      ]
     },
     "metadata": {
      "needs_background": "light"
     },
     "output_type": "display_data"
    }
   ],
   "source": [
    "#Scatter Plot\n",
    "plt.plot(np.arange(32),mtcars.mpg, 'ro')\n"
   ]
  },
  {
   "cell_type": "markdown",
   "metadata": {},
   "source": [
    "## Seaborn"
   ]
  },
  {
   "cell_type": "code",
   "execution_count": 36,
   "metadata": {},
   "outputs": [
    {
     "data": {
      "text/plain": [
       "<matplotlib.axes._subplots.AxesSubplot at 0x24024a33848>"
      ]
     },
     "execution_count": 36,
     "metadata": {},
     "output_type": "execute_result"
    },
    {
     "data": {
      "image/png": "[encoded data removed]",
      "text/plain": [
       "<Figure size 432x288 with 1 Axes>"
      ]
     },
     "metadata": {
      "needs_background": "light"
     },
     "output_type": "display_data"
    }
   ],
   "source": [
    "#Seaborn is used for even more beuatification\n",
    "import seaborn as sns\n",
    "sns.boxplot(mtcars.gear)"
   ]
  },
  {
   "cell_type": "code",
   "execution_count": 37,
   "metadata": {},
   "outputs": [
    {
     "data": {
      "text/plain": [
       "<matplotlib.axes._subplots.AxesSubplot at 0x24024a9a788>"
      ]
     },
     "execution_count": 37,
     "metadata": {},
     "output_type": "execute_result"
    },
    {
     "data": {
      "image/png": "[encoded data removed]",
      "text/plain": [
       "<Figure size 432x288 with 1 Axes>"
      ]
     },
     "metadata": {
      "needs_background": "light"
     },
     "output_type": "display_data"
    }
   ],
   "source": [
    "sns.boxplot(mba.gmat)"
   ]
  },
  {
   "cell_type": "code",
   "execution_count": 44,
   "metadata": {},
   "outputs": [
    {
     "data": {
      "image/png": "[encoded data removed]",
      "text/plain": [
       "<Figure size 432x288 with 1 Axes>"
      ]
     },
     "metadata": {
      "needs_background": "light"
     },
     "output_type": "display_data"
    }
   ],
   "source": [
    "sns.scatterplot(x='mpg',y='hp', hue='cyl', data=mtcars)\n",
    "plt.show()"
   ]
  },
  {
   "cell_type": "code",
   "execution_count": 24,
   "metadata": {},
   "outputs": [
    {
     "data": {
      "image/png": "[encoded data removed]",
      "text/plain": [
       "<Figure size 432x288 with 1 Axes>"
      ]
     },
     "metadata": {
      "needs_background": "light"
     },
     "output_type": "display_data"
    }
   ],
   "source": [
    "sns.barplot(x='hp',y='mpg', hue='cyl', data=mtcars)\n",
    "plt.xticks(rotation=90)\n",
    "plt.show()"
   ]
  },
  {
   "cell_type": "code",
   "execution_count": 48,
   "metadata": {},
   "outputs": [
    {
     "data": {
      "image/png": "[encoded data removed]",
      "text/plain": [
       "<Figure size 432x288 with 1 Axes>"
      ]
     },
     "metadata": {
      "needs_background": "light"
     },
     "output_type": "display_data"
    }
   ],
   "source": [
    "sns.violinplot(mtcars.mpg)\n",
    "plt.show()"
   ]
  },
  {
   "cell_type": "code",
   "execution_count": 32,
   "metadata": {},
   "outputs": [
    {
     "data": {
      "image/png": "[encoded data removed]",
      "text/plain": [
       "<Figure size 540x540 with 12 Axes>"
      ]
     },
     "metadata": {
      "needs_background": "light"
     },
     "output_type": "display_data"
    }
   ],
   "source": [
    "#Histogram+ scatterplot\n",
    "sns.pairplot(mba)\n",
    "plt.show()"
   ]
  },
  {
   "cell_type": "code",
   "execution_count": 35,
   "metadata": {},
   "outputs": [
    {
     "data": {
      "image/png": "[encoded data removed]",
      "text/plain": [
       "<Figure size 432x432 with 3 Axes>"
      ]
     },
     "metadata": {
      "needs_background": "light"
     },
     "output_type": "display_data"
    }
   ],
   "source": [
    "sns.jointplot(x='gmat',y='workex',data=mba)\n",
    "plt.show()"
   ]
  },
  {
   "cell_type": "markdown",
   "metadata": {},
   "source": [
    "# Scipy"
   ]
  },
  {
   "cell_type": "code",
   "execution_count": 36,
   "metadata": {},
   "outputs": [],
   "source": [
    "#----Scipy----#\n",
    "# Scipy  is a free and open-source Python library used for \n",
    "  # scientific computing and technical computing \n",
    "\n",
    "# SciPy builds on the NumPy array object and is part of the NumPy stack \n",
    " # which includes tools like Matplotlib, pandas and SymPy, \n",
    "   # and an expanding set of scientific computing libraries.\n",
    "   \n",
    "# we can many types of fuctions to over come the task using Scipy.\n",
    "   # ex:special functions(scipy.special)\n",
    "   # Integration (scipy.integrate)\n",
    "   # Optimization (scipy.optimize)\n",
    "   # Fourier Transform (scipy.fftpack)\n",
    "   # Signal Processing (scipy.signal)\n",
    "   # Linear Algebra (scipy.linalg)\n",
    "   # Multi-dimensional image processing (scipy.ndimage)\n"
   ]
  },
  {
   "cell_type": "code",
   "execution_count": 55,
   "metadata": {},
   "outputs": [
    {
     "name": "stdout",
     "output_type": "stream",
     "text": [
      "(2.657666666666666, 2.9506027251121236e-14)\n"
     ]
    }
   ],
   "source": [
    "import scipy.integrate\n",
    "ans=scipy.integrate.quad(lambda x:x**2,0.3,2)\n",
    "print(ans)\n"
   ]
  },
  {
   "cell_type": "code",
   "execution_count": 56,
   "metadata": {},
   "outputs": [
    {
     "name": "stdout",
     "output_type": "stream",
     "text": [
      "[0.  0.4 0.8 1.2 1.6 2. ] [-0.65364362 -0.59107344 -0.38239692  0.00761095  0.53761923  0.96017029]\n"
     ]
    },
    {
     "data": {
      "image/png": "[encoded data removed]",
      "text/plain": [
       "<Figure size 432x288 with 1 Axes>"
      ]
     },
     "metadata": {
      "needs_background": "light"
     },
     "output_type": "display_data"
    }
   ],
   "source": [
    "import numpy as np\n",
    "import matplotlib.pyplot as plt\n",
    "x = np.linspace(0, 2, 6)\n",
    "y = np.cos(x**2 /2 +4)\n",
    "print(x,y)\n",
    "plt.plot(x,y,'r')\n",
    "plt.show()\n"
   ]
  },
  {
   "cell_type": "markdown",
   "metadata": {},
   "source": [
    "# Scikit-Learn"
   ]
  },
  {
   "cell_type": "code",
   "execution_count": 44,
   "metadata": {},
   "outputs": [],
   "source": [
    "#---- Scikit learn----#\n",
    "\n",
    "# Scikit learn is a free software machine learning library for python programming.\n",
    "#  it provides ranges for supervised and unsupervised meachine learning algorithms,\n",
    "# mostly used for , support vector meachine ,random forest,and k-neighbours.\n",
    "# it also supports numerical and scientific libraries like Numpy and Scipy.\n",
    "# Built on the top of NumPy, SciPy, and matplotlib\n",
    "# It is used for train the model and do some performance with training the data,test data.\n"
   ]
  },
  {
   "cell_type": "code",
   "execution_count": 68,
   "metadata": {},
   "outputs": [
    {
     "name": "stdout",
     "output_type": "stream",
     "text": [
      "['setosa' 'versicolor' 'virginica']\n",
      "['sepal length (cm)', 'sepal width (cm)', 'petal length (cm)', 'petal width (cm)']\n"
     ]
    }
   ],
   "source": [
    "# import sklearn # importing the module\n",
    "from sklearn.datasets import load_iris # importing the dataset\n",
    "data = load_iris() # loading the data set\n",
    "label_names = data['target_names'] # Organize our data \n",
    "labels = data['target'] \n",
    "feature_names = data['feature_names'] \n",
    "features = data['data'] \n",
    "print(label_names) \n",
    "print(feature_names)"
   ]
  },
  {
   "cell_type": "code",
   "execution_count": 16,
   "metadata": {},
   "outputs": [
    {
     "name": "stdout",
     "output_type": "stream",
     "text": [
      "[0 0 0 0 0 0 0 0 0 0 0 0 0 0 0 0 0 0 0 0 0 0 0 0 0 0 0 0 0 0 0 0 0 0 0 0 0\n",
      " 0 0 0 0 0 0 0 0 0 0 0 0 0 1 1 1 1 1 1 1 1 1 1 1 1 1 1 1 1 1 1 1 1 1 1 1 1\n",
      " 1 1 1 1 1 1 1 1 1 1 1 1 1 1 1 1 1 1 1 1 1 1 1 1 1 1 2 2 2 2 2 2 2 2 2 2 2\n",
      " 2 2 2 2 2 2 2 2 2 2 2 2 2 2 2 2 2 2 2 2 2 2 2 2 2 2 2 2 2 2 2 2 2 2 2 2 2\n",
      " 2 2]\n"
     ]
    }
   ],
   "source": [
    "print(labels) \n"
   ]
  },
  {
   "cell_type": "code",
   "execution_count": 17,
   "metadata": {},
   "outputs": [
    {
     "name": "stdout",
     "output_type": "stream",
     "text": [
      "['sepal length (cm)', 'sepal width (cm)', 'petal length (cm)', 'petal width (cm)']\n"
     ]
    }
   ],
   "source": [
    "print(feature_names) \n"
   ]
  },
  {
   "cell_type": "code",
   "execution_count": 48,
   "metadata": {},
   "outputs": [
    {
     "name": "stdout",
     "output_type": "stream",
     "text": [
      "[[5.1 3.5 1.4 0.2]\n",
      " [4.9 3.  1.4 0.2]\n",
      " [4.7 3.2 1.3 0.2]\n",
      " [4.6 3.1 1.5 0.2]\n",
      " [5.  3.6 1.4 0.2]\n",
      " [5.4 3.9 1.7 0.4]\n",
      " [4.6 3.4 1.4 0.3]\n",
      " [5.  3.4 1.5 0.2]\n",
      " [4.4 2.9 1.4 0.2]\n",
      " [4.9 3.1 1.5 0.1]\n",
      " [5.4 3.7 1.5 0.2]\n",
      " [4.8 3.4 1.6 0.2]\n",
      " [4.8 3.  1.4 0.1]\n",
      " [4.3 3.  1.1 0.1]\n",
      " [5.8 4.  1.2 0.2]\n",
      " [5.7 4.4 1.5 0.4]\n",
      " [5.4 3.9 1.3 0.4]\n",
      " [5.1 3.5 1.4 0.3]\n",
      " [5.7 3.8 1.7 0.3]\n",
      " [5.1 3.8 1.5 0.3]\n",
      " [5.4 3.4 1.7 0.2]\n",
      " [5.1 3.7 1.5 0.4]\n",
      " [4.6 3.6 1.  0.2]\n",
      " [5.1 3.3 1.7 0.5]\n",
      " [4.8 3.4 1.9 0.2]\n",
      " [5.  3.  1.6 0.2]\n",
      " [5.  3.4 1.6 0.4]\n",
      " [5.2 3.5 1.5 0.2]\n",
      " [5.2 3.4 1.4 0.2]\n",
      " [4.7 3.2 1.6 0.2]\n",
      " [4.8 3.1 1.6 0.2]\n",
      " [5.4 3.4 1.5 0.4]\n",
      " [5.2 4.1 1.5 0.1]\n",
      " [5.5 4.2 1.4 0.2]\n",
      " [4.9 3.1 1.5 0.2]\n",
      " [5.  3.2 1.2 0.2]\n",
      " [5.5 3.5 1.3 0.2]\n",
      " [4.9 3.6 1.4 0.1]\n",
      " [4.4 3.  1.3 0.2]\n",
      " [5.1 3.4 1.5 0.2]\n",
      " [5.  3.5 1.3 0.3]\n",
      " [4.5 2.3 1.3 0.3]\n",
      " [4.4 3.2 1.3 0.2]\n",
      " [5.  3.5 1.6 0.6]\n",
      " [5.1 3.8 1.9 0.4]\n",
      " [4.8 3.  1.4 0.3]\n",
      " [5.1 3.8 1.6 0.2]\n",
      " [4.6 3.2 1.4 0.2]\n",
      " [5.3 3.7 1.5 0.2]\n",
      " [5.  3.3 1.4 0.2]\n",
      " [7.  3.2 4.7 1.4]\n",
      " [6.4 3.2 4.5 1.5]\n",
      " [6.9 3.1 4.9 1.5]\n",
      " [5.5 2.3 4.  1.3]\n",
      " [6.5 2.8 4.6 1.5]\n",
      " [5.7 2.8 4.5 1.3]\n",
      " [6.3 3.3 4.7 1.6]\n",
      " [4.9 2.4 3.3 1. ]\n",
      " [6.6 2.9 4.6 1.3]\n",
      " [5.2 2.7 3.9 1.4]\n",
      " [5.  2.  3.5 1. ]\n",
      " [5.9 3.  4.2 1.5]\n",
      " [6.  2.2 4.  1. ]\n",
      " [6.1 2.9 4.7 1.4]\n",
      " [5.6 2.9 3.6 1.3]\n",
      " [6.7 3.1 4.4 1.4]\n",
      " [5.6 3.  4.5 1.5]\n",
      " [5.8 2.7 4.1 1. ]\n",
      " [6.2 2.2 4.5 1.5]\n",
      " [5.6 2.5 3.9 1.1]\n",
      " [5.9 3.2 4.8 1.8]\n",
      " [6.1 2.8 4.  1.3]\n",
      " [6.3 2.5 4.9 1.5]\n",
      " [6.1 2.8 4.7 1.2]\n",
      " [6.4 2.9 4.3 1.3]\n",
      " [6.6 3.  4.4 1.4]\n",
      " [6.8 2.8 4.8 1.4]\n",
      " [6.7 3.  5.  1.7]\n",
      " [6.  2.9 4.5 1.5]\n",
      " [5.7 2.6 3.5 1. ]\n",
      " [5.5 2.4 3.8 1.1]\n",
      " [5.5 2.4 3.7 1. ]\n",
      " [5.8 2.7 3.9 1.2]\n",
      " [6.  2.7 5.1 1.6]\n",
      " [5.4 3.  4.5 1.5]\n",
      " [6.  3.4 4.5 1.6]\n",
      " [6.7 3.1 4.7 1.5]\n",
      " [6.3 2.3 4.4 1.3]\n",
      " [5.6 3.  4.1 1.3]\n",
      " [5.5 2.5 4.  1.3]\n",
      " [5.5 2.6 4.4 1.2]\n",
      " [6.1 3.  4.6 1.4]\n",
      " [5.8 2.6 4.  1.2]\n",
      " [5.  2.3 3.3 1. ]\n",
      " [5.6 2.7 4.2 1.3]\n",
      " [5.7 3.  4.2 1.2]\n",
      " [5.7 2.9 4.2 1.3]\n",
      " [6.2 2.9 4.3 1.3]\n",
      " [5.1 2.5 3.  1.1]\n",
      " [5.7 2.8 4.1 1.3]\n",
      " [6.3 3.3 6.  2.5]\n",
      " [5.8 2.7 5.1 1.9]\n",
      " [7.1 3.  5.9 2.1]\n",
      " [6.3 2.9 5.6 1.8]\n",
      " [6.5 3.  5.8 2.2]\n",
      " [7.6 3.  6.6 2.1]\n",
      " [4.9 2.5 4.5 1.7]\n",
      " [7.3 2.9 6.3 1.8]\n",
      " [6.7 2.5 5.8 1.8]\n",
      " [7.2 3.6 6.1 2.5]\n",
      " [6.5 3.2 5.1 2. ]\n",
      " [6.4 2.7 5.3 1.9]\n",
      " [6.8 3.  5.5 2.1]\n",
      " [5.7 2.5 5.  2. ]\n",
      " [5.8 2.8 5.1 2.4]\n",
      " [6.4 3.2 5.3 2.3]\n",
      " [6.5 3.  5.5 1.8]\n",
      " [7.7 3.8 6.7 2.2]\n",
      " [7.7 2.6 6.9 2.3]\n",
      " [6.  2.2 5.  1.5]\n",
      " [6.9 3.2 5.7 2.3]\n",
      " [5.6 2.8 4.9 2. ]\n",
      " [7.7 2.8 6.7 2. ]\n",
      " [6.3 2.7 4.9 1.8]\n",
      " [6.7 3.3 5.7 2.1]\n",
      " [7.2 3.2 6.  1.8]\n",
      " [6.2 2.8 4.8 1.8]\n",
      " [6.1 3.  4.9 1.8]\n",
      " [6.4 2.8 5.6 2.1]\n",
      " [7.2 3.  5.8 1.6]\n",
      " [7.4 2.8 6.1 1.9]\n",
      " [7.9 3.8 6.4 2. ]\n",
      " [6.4 2.8 5.6 2.2]\n",
      " [6.3 2.8 5.1 1.5]\n",
      " [6.1 2.6 5.6 1.4]\n",
      " [7.7 3.  6.1 2.3]\n",
      " [6.3 3.4 5.6 2.4]\n",
      " [6.4 3.1 5.5 1.8]\n",
      " [6.  3.  4.8 1.8]\n",
      " [6.9 3.1 5.4 2.1]\n",
      " [6.7 3.1 5.6 2.4]\n",
      " [6.9 3.1 5.1 2.3]\n",
      " [5.8 2.7 5.1 1.9]\n",
      " [6.8 3.2 5.9 2.3]\n",
      " [6.7 3.3 5.7 2.5]\n",
      " [6.7 3.  5.2 2.3]\n",
      " [6.3 2.5 5.  1.9]\n",
      " [6.5 3.  5.2 2. ]\n",
      " [6.2 3.4 5.4 2.3]\n",
      " [5.9 3.  5.1 1.8]]\n"
     ]
    }
   ],
   "source": [
    "print(features)\n"
   ]
  },
  {
   "cell_type": "code",
   "execution_count": 72,
   "metadata": {},
   "outputs": [],
   "source": [
    "# Organizing the data into Sets.\n",
    "\n",
    "from sklearn.model_selection import train_test_split # importing the function \n",
    "# spllitng the data\n",
    "train, test, train_labels, test_labels = train_test_split(features, labels, \n",
    "                                       test_size = 0.3, random_state = 30)  \n"
   ]
  },
  {
   "cell_type": "code",
   "execution_count": 71,
   "metadata": {},
   "outputs": [
    {
     "data": {
      "text/plain": [
       "((114, 4), (36, 4), (150, 4))"
      ]
     },
     "execution_count": 71,
     "metadata": {},
     "output_type": "execute_result"
    }
   ],
   "source": [
    "train.shape, test.shape, features.shape"
   ]
  },
  {
   "cell_type": "code",
   "execution_count": 21,
   "metadata": {},
   "outputs": [
    {
     "name": "stdout",
     "output_type": "stream",
     "text": [
      "[0 0 0 2 1 1 2 2 1 2 0 2 1 1 0 1 0 0 0 1 1 0 0 0 2 2 2 2 0 1 2 1 2 2 2 2]\n"
     ]
    }
   ],
   "source": [
    "# # importing the module of the machine learning model ,using Navie bayes.\n",
    "from sklearn.naive_bayes import GaussianNB\n",
    "gnb = GaussianNB() # to classify \n",
    "model = gnb.fit(train, train_labels) # to train the classifier\n",
    "predictions = gnb.predict(test) # predicting \n",
    "print(predictions) \n"
   ]
  },
  {
   "cell_type": "code",
   "execution_count": 22,
   "metadata": {},
   "outputs": [
    {
     "data": {
      "text/plain": [
       "0.9444444444444444"
      ]
     },
     "execution_count": 22,
     "metadata": {},
     "output_type": "execute_result"
    }
   ],
   "source": [
    "#accuracy of the model\n",
    "from sklearn.metrics import accuracy_score\n",
    "accuracy_score(test_labels,predictions)"
   ]
  },
  {
   "cell_type": "code",
   "execution_count": 23,
   "metadata": {},
   "outputs": [
    {
     "name": "stdout",
     "output_type": "stream",
     "text": [
      "0.9736842105263158\n"
     ]
    }
   ],
   "source": [
    "# importing necessary libraries \n",
    "from sklearn import datasets  \n",
    "from sklearn.model_selection import train_test_split \n",
    "   \n",
    "iris = datasets.load_iris() # loading the iris dataset \n",
    "X = iris.data \n",
    "y = iris.target\n",
    "  \n",
    "# dividing X, y into train and test data \n",
    "X_train, X_test, y_train, y_test = train_test_split(X, y, random_state = 0) \n",
    "  \n",
    "from sklearn.neighbors import KNeighborsClassifier # training a KNN classifier\n",
    "knn = KNeighborsClassifier(n_neighbors = 1).fit(X_train, y_train) \n",
    "  \n",
    "# accuracy on X_test \n",
    "accuracy = knn.score(X_test, y_test) \n",
    "print(accuracy)\n"
   ]
  },
  {
   "cell_type": "markdown",
   "metadata": {},
   "source": [
    "## Reading data with CSV"
   ]
  },
  {
   "cell_type": "code",
   "execution_count": 24,
   "metadata": {},
   "outputs": [
    {
     "name": "stdout",
     "output_type": "stream",
     "text": [
      "['datasrno', 'workex', 'gmat']\n",
      "['1', '21', '720']\n",
      "['2', '107', '640']\n",
      "['3', '57', '740']\n",
      "['4', '99', '690']\n",
      "['5', '208', '710']\n",
      "['6', '136', '660']\n",
      "['7', '70', '660']\n",
      "['8', '103', '710']\n",
      "['9', '79', '700']\n",
      "['10', '22', '730']\n",
      "['11', '69', '700']\n",
      "['12', '41', '740']\n",
      "['13', '72', '650']\n",
      "['14', '69', '720']\n",
      "['15', '20', '700']\n",
      "['16', '21', '760']\n",
      "['17', '19', '710']\n",
      "['18', '86', '720']\n",
      "['19', '231', '690']\n",
      "['20', '20', '770']\n",
      "['21', '175', '660']\n",
      "['22', '21', '710']\n",
      "['23', '44', '720']\n",
      "['24', '23', '650']\n",
      "['25', '20', '710']\n",
      "['26', '70', '720']\n",
      "['27', '46', '710']\n",
      "['28', '33', '650']\n",
      "['29', '130', '690']\n",
      "['30', '57', '690']\n",
      "['31', '57', '750']\n",
      "['32', '45', '710']\n",
      "['33', '55', '730']\n",
      "['34', '42', '770']\n",
      "['35', '34', '690']\n",
      "['36', '55', '710']\n",
      "['37', '44', '710']\n",
      "['38', '79', '710']\n",
      "['39', '45', '740']\n",
      "['40', '38', '720']\n",
      "['41', '44', '710']\n",
      "['42', '83', '720']\n",
      "['43', '118', '650']\n",
      "['44', '45', '710']\n",
      "['45', '89', '690']\n",
      "['46', '77', '700']\n",
      "['47', '91', '730']\n",
      "['48', '61', '690']\n",
      "['49', '47', '670']\n",
      "['50', '69', '710']\n",
      "['51', '59', '720']\n",
      "['52', '32', '710']\n",
      "['53', '74', '740']\n",
      "['54', '279', '750']\n",
      "['55', '33', '710']\n",
      "['56', '33', '730']\n",
      "['57', '34', '730']\n",
      "['58', '110', '710']\n",
      "['59', '44', '710']\n",
      "['60', '44', '690']\n",
      "['61', '46', '720']\n",
      "['62', '58', '690']\n",
      "['63', '45', '710']\n",
      "['64', '34', '720']\n",
      "['65', '54', '770']\n",
      "['66', '45', '720']\n",
      "['67', '33', '740']\n",
      "['68', '82', '710']\n",
      "['69', '72', '740']\n",
      "['70', '77', '710']\n",
      "['71', '43', '740']\n",
      "['72', '54', '740']\n",
      "['73', '92', '730']\n",
      "['74', '90', '720']\n",
      "['75', '66', '760']\n",
      "['76', '38', '720']\n",
      "['77', '25', '740']\n",
      "['78', '57', '740']\n",
      "['79', '31', '710']\n",
      "['80', '58', '690']\n",
      "['81', '55', '710']\n",
      "['82', '68', '710']\n",
      "['83', '79', '730']\n",
      "['84', '71', '700']\n",
      "['85', '68', '710']\n",
      "['86', '32', '750']\n",
      "['87', '32', '710']\n",
      "['88', '45', '710']\n",
      "['89', '69', '720']\n",
      "['90', '65', '680']\n",
      "['91', '57', '710']\n",
      "['92', '45', '710']\n",
      "['93', '92', '710']\n",
      "['94', '57', '740']\n",
      "['95', '69', '710']\n",
      "['96', '32', '710']\n",
      "['97', '70', '700']\n",
      "['98', '59', '690']\n",
      "['99', '44', '770']\n",
      "['100', '44', '770']\n",
      "['101', '46', '720']\n",
      "['102', '33', '730']\n",
      "['103', '46', '710']\n",
      "['104', '82', '720']\n",
      "['105', '53', '690']\n",
      "['106', '33', '740']\n",
      "['107', '34', '690']\n",
      "['108', '37', '690']\n",
      "['109', '55', '750']\n",
      "['110', '52', '720']\n",
      "['111', '68', '670']\n",
      "['112', '51', '690']\n",
      "['113', '69', '710']\n",
      "['114', '47', '690']\n",
      "['115', '56', '750']\n",
      "['116', '45', '710']\n",
      "['117', '56', '680']\n",
      "['118', '48', '690']\n",
      "['119', '34', '730']\n",
      "['120', '55', '750']\n",
      "['121', '43', '700']\n",
      "['122', '69', '720']\n",
      "['123', '31', '680']\n",
      "['124', '46', '690']\n",
      "['125', '58', '700']\n",
      "['126', '47', '740']\n",
      "['127', '56', '710']\n",
      "['128', '43', '730']\n",
      "['129', '58', '720']\n",
      "['130', '27', '720']\n",
      "['131', '46', '740']\n",
      "['132', '58', '680']\n",
      "['133', '34', '670']\n",
      "['134', '34', '730']\n",
      "['135', '45', '680']\n",
      "['136', '68', '710']\n",
      "['137', '34', '740']\n",
      "['138', '46', '760']\n",
      "['139', '45', '710']\n",
      "['140', '56', '710']\n",
      "['141', '33', '710']\n",
      "['142', '33', '730']\n",
      "['143', '44', '680']\n",
      "['144', '33', '690']\n",
      "['145', '69', '720']\n",
      "['146', '82', '730']\n",
      "['147', '64', '750']\n",
      "['148', '126', '770']\n",
      "['149', '80', '750']\n",
      "['150', '80', '720']\n",
      "['151', '45', '710']\n",
      "['152', '45', '700']\n",
      "['153', '68', '720']\n",
      "['154', '58', '720']\n",
      "['155', '45', '690']\n",
      "['156', '130', '710']\n",
      "['157', '80', '730']\n",
      "['158', '130', '710']\n",
      "['159', '34', '740']\n",
      "['160', '80', '690']\n",
      "['161', '48', '630']\n",
      "['162', '45', '730']\n",
      "['163', '40', '720']\n",
      "['164', '58', '710']\n",
      "['165', '35', '690']\n",
      "['166', '40', '690']\n",
      "['167', '79', '730']\n",
      "['168', '34', '710']\n",
      "['169', '56', '720']\n",
      "['170', '68', '710']\n",
      "['171', '32', '740']\n",
      "['172', '57', '710']\n",
      "['173', '53', '650']\n",
      "['174', '57', '760']\n",
      "['175', '45', '680']\n",
      "['176', '46', '700']\n",
      "['177', '77', '710']\n",
      "['178', '44', '690']\n",
      "['179', '68', '720']\n",
      "['180', '45', '740']\n",
      "['181', '54', '710']\n",
      "['182', '58', '710']\n",
      "['183', '59', '730']\n",
      "['184', '38', '660']\n",
      "['185', '94', '710']\n",
      "['186', '46', '710']\n",
      "['187', '96', '710']\n",
      "['188', '44', '740']\n",
      "['189', '50', '690']\n",
      "['190', '91', '610']\n",
      "['191', '117', '700']\n",
      "['192', '58', '690']\n",
      "['193', '32', '760']\n",
      "['194', '57', '730']\n",
      "['195', '57', '700']\n",
      "['196', '57', '720']\n",
      "['197', '32', '710']\n",
      "['198', '33', '750']\n",
      "['199', '41', '690']\n",
      "['200', '70', '750']\n",
      "['201', '45', '660']\n",
      "['202', '68', '740']\n",
      "['203', '90', '710']\n",
      "['204', '82', '730']\n",
      "['205', '33', '750']\n",
      "['206', '46', '710']\n",
      "['207', '45', '710']\n",
      "['208', '45', '710']\n",
      "['209', '79', '680']\n",
      "['210', '109', '720']\n",
      "['211', '53', '710']\n",
      "['212', '44', '700']\n",
      "['213', '33', '740']\n",
      "['214', '70', '690']\n",
      "['215', '44', '710']\n",
      "['216', '51', '760']\n",
      "['217', '85', '720']\n",
      "['218', '57', '710']\n",
      "['219', '66', '710']\n",
      "['220', '44', '700']\n",
      "['221', '50', '690']\n",
      "['222', '30', '750']\n",
      "['223', '33', '690']\n",
      "['224', '89', '710']\n",
      "['225', '55', '710']\n",
      "['226', '128', '710']\n",
      "['227', '45', '710']\n",
      "['228', '33', '710']\n",
      "['229', '35', '720']\n",
      "['230', '33', '710']\n",
      "['231', '58', '660']\n",
      "['232', '49', '650']\n",
      "['233', '57', '710']\n",
      "['234', '45', '700']\n",
      "['235', '63', '730']\n",
      "['236', '81', '700']\n",
      "['237', '56', '710']\n",
      "['238', '45', '690']\n",
      "['239', '86', '760']\n",
      "['240', '45', '740']\n",
      "['241', '69', '750']\n",
      "['242', '43', '710']\n",
      "['243', '45', '730']\n",
      "['244', '70', '710']\n",
      "['245', '33', '740']\n",
      "['246', '43', '710']\n",
      "['247', '34', '720']\n",
      "['248', '47', '690']\n",
      "['249', '57', '690']\n",
      "['250', '70', '700']\n",
      "['251', '93', '700']\n",
      "['252', '92', '710']\n",
      "['253', '32', '710']\n",
      "['254', '80', '720']\n",
      "['255', '33', '760']\n",
      "['256', '32', '710']\n",
      "['257', '55', '690']\n",
      "['258', '46', '700']\n",
      "['259', '66', '710']\n",
      "['260', '65', '710']\n",
      "['261', '42', '720']\n",
      "['262', '71', '720']\n",
      "['263', '41', '760']\n",
      "['264', '30', '730']\n",
      "['265', '45', '730']\n",
      "['266', '91', '720']\n",
      "['267', '46', '740']\n",
      "['268', '44', '740']\n",
      "['269', '74', '710']\n",
      "['270', '45', '710']\n",
      "['271', '112', '720']\n",
      "['272', '46', '700']\n",
      "['273', '69', '710']\n",
      "['274', '32', '770']\n",
      "['275', '69', '760']\n",
      "['276', '44', '740']\n",
      "['277', '69', '700']\n",
      "['278', '45', '650']\n",
      "['279', '81', '740']\n",
      "['280', '82', '710']\n",
      "['281', '44', '690']\n",
      "['282', '34', '700']\n",
      "['283', '46', '730']\n",
      "['284', '34', '720']\n",
      "['285', '43', '720']\n",
      "['286', '69', '710']\n",
      "['287', '34', '720']\n",
      "['288', '32', '760']\n",
      "['289', '45', '740']\n",
      "['290', '50', '710']\n",
      "['291', '57', '720']\n",
      "['292', '50', '680']\n",
      "['293', '58', '720']\n",
      "['294', '92', '690']\n",
      "['295', '131', '710']\n",
      "['296', '45', '650']\n",
      "['297', '64', '700']\n",
      "['298', '48', '700']\n",
      "['299', '32', '680']\n",
      "['300', '32', '720']\n",
      "['301', '100', '680']\n",
      "['302', '56', '720']\n",
      "['303', '56', '710']\n",
      "['304', '45', '710']\n",
      "['305', '68', '700']\n",
      "['306', '28', '680']\n",
      "['307', '57', '700']\n",
      "['308', '44', '680']\n",
      "['309', '58', '650']\n",
      "['310', '46', '690']\n",
      "['311', '142', '710']\n",
      "['312', '47', '660']\n",
      "['313', '64', '670']\n",
      "['314', '125', '710']\n",
      "['315', '55', '690']\n",
      "['316', '32', '700']\n",
      "['317', '51', '720']\n",
      "['318', '94', '730']\n",
      "['319', '53', '720']\n",
      "['320', '57', '720']\n",
      "['321', '53', '710']\n",
      "['322', '56', '710']\n",
      "['323', '88', '690']\n",
      "['324', '62', '710']\n",
      "['325', '69', '710']\n",
      "['326', '91', '760']\n",
      "['327', '93', '700']\n",
      "['328', '106', '760']\n",
      "['329', '68', '760']\n",
      "['330', '56', '740']\n",
      "['331', '57', '710']\n",
      "['332', '56', '730']\n",
      "['333', '70', '700']\n",
      "['334', '70', '730']\n",
      "['335', '40', '710']\n",
      "['336', '46', '700']\n",
      "['337', '45', '710']\n",
      "['338', '52', '620']\n",
      "['339', '80', '660']\n",
      "['340', '69', '710']\n",
      "['341', '56', '730']\n",
      "['342', '82', '680']\n",
      "['343', '58', '740']\n",
      "['344', '68', '710']\n",
      "['345', '39', '710']\n",
      "['346', '92', '710']\n",
      "['347', '34', '750']\n",
      "['348', '42', '710']\n",
      "['349', '69', '710']\n",
      "['350', '33', '740']\n",
      "['351', '268', '730']\n",
      "['352', '70', '690']\n",
      "['353', '54', '770']\n",
      "['354', '44', '740']\n",
      "['355', '42', '760']\n",
      "['356', '44', '730']\n",
      "['357', '57', '720']\n",
      "['358', '81', '740']\n",
      "['359', '103', '740']\n",
      "['360', '69', '720']\n",
      "['361', '34', '670']\n",
      "['362', '33', '730']\n",
      "['363', '69', '690']\n",
      "['364', '57', '680']\n",
      "['365', '66', '680']\n",
      "['366', '34', '710']\n",
      "['367', '69', '730']\n",
      "['368', '45', '680']\n",
      "['369', '45', '690']\n",
      "['370', '42', '710']\n",
      "['371', '47', '710']\n",
      "['372', '38', '710']\n",
      "['373', '82', '750']\n",
      "['374', '89', '760']\n",
      "['375', '45', '720']\n",
      "['376', '34', '750']\n",
      "['377', '53', '740']\n",
      "['378', '69', '680']\n",
      "['379', '48', '710']\n",
      "['380', '90', '660']\n",
      "['381', '22', '720']\n",
      "['382', '43', '720']\n",
      "['383', '41', '720']\n",
      "['384', '82', '690']\n",
      "['385', '56', '700']\n",
      "['386', '80', '730']\n",
      "['387', '37', '720']\n",
      "['388', '33', '740']\n",
      "['389', '81', '750']\n",
      "['390', '131', '730']\n",
      "['391', '43', '680']\n",
      "['392', '69', '680']\n",
      "['393', '72', '600']\n",
      "['394', '34', '710']\n",
      "['395', '58', '750']\n",
      "['396', '69', '720']\n",
      "['397', '81', '700']\n",
      "['398', '116', '720']\n",
      "['399', '77', '700']\n",
      "['400', '45', '680']\n",
      "['401', '57', '700']\n",
      "['402', '56', '730']\n",
      "['403', '57', '710']\n",
      "['404', '109', '620']\n",
      "['405', '44', '750']\n",
      "['406', '37', '720']\n",
      "['407', '45', '740']\n",
      "['408', '46', '700']\n",
      "['409', '68', '720']\n",
      "['410', '78', '720']\n",
      "['411', '63', '730']\n",
      "['412', '45', '740']\n",
      "['413', '67', '690']\n",
      "['414', '33', '760']\n",
      "['415', '69', '730']\n",
      "['416', '45', '720']\n",
      "['417', '176', '710']\n",
      "['418', '82', '770']\n",
      "['419', '55', '720']\n",
      "['420', '32', '710']\n",
      "['421', '45', '720']\n",
      "['422', '57', '720']\n",
      "['423', '69', '770']\n",
      "['424', '32', '690']\n",
      "['425', '93', '710']\n",
      "['426', '131', '690']\n",
      "['427', '49', '710']\n",
      "['428', '39', '690']\n",
      "['429', '37', '680']\n",
      "['430', '111', '710']\n",
      "['431', '66', '750']\n",
      "['432', '45', '730']\n",
      "['433', '44', '730']\n",
      "['434', '35', '720']\n",
      "['435', '67', '710']\n",
      "['436', '33', '710']\n",
      "['437', '57', '710']\n",
      "['438', '52', '730']\n",
      "['439', '49', '760']\n",
      "['440', '29', '700']\n",
      "['441', '31', '720']\n",
      "['442', '71', '720']\n",
      "['443', '34', '690']\n",
      "['444', '46', '700']\n",
      "['445', '46', '700']\n",
      "['446', '122', '720']\n",
      "['447', '34', '710']\n",
      "['448', '29', '650']\n",
      "['449', '70', '680']\n",
      "['450', '43', '700']\n",
      "['451', '116', '710']\n",
      "['452', '69', '690']\n",
      "['453', '43', '720']\n",
      "['454', '44', '750']\n",
      "['455', '57', '690']\n",
      "['456', '70', '730']\n",
      "['457', '55', '660']\n",
      "['458', '44', '760']\n",
      "['459', '35', '720']\n",
      "['460', '58', '740']\n",
      "['461', '40', '760']\n",
      "['462', '33', '660']\n",
      "['463', '79', '700']\n",
      "['464', '46', '720']\n",
      "['465', '32', '770']\n",
      "['466', '81', '740']\n",
      "['467', '29', '710']\n",
      "['468', '87', '680']\n",
      "['469', '69', '710']\n",
      "['470', '24', '700']\n",
      "['471', '68', '710']\n",
      "['472', '49', '690']\n",
      "['473', '58', '730']\n",
      "['474', '69', '690']\n",
      "['475', '38', '720']\n",
      "['476', '45', '680']\n",
      "['477', '43', '680']\n",
      "['478', '57', '720']\n",
      "['479', '69', '620']\n",
      "['480', '34', '650']\n",
      "['481', '33', '730']\n",
      "['482', '38', '730']\n",
      "['483', '73', '730']\n",
      "['484', '34', '750']\n",
      "['485', '29', '740']\n",
      "['486', '57', '770']\n",
      "['487', '40', '760']\n",
      "['488', '93', '700']\n",
      "['489', '29', '740']\n",
      "['490', '98', '760']\n",
      "['491', '33', '690']\n",
      "['492', '45', '610']\n",
      "['493', '36', '660']\n",
      "['494', '46', '730']\n",
      "['495', '40', '670']\n",
      "['496', '54', '640']\n",
      "['497', '45', '670']\n",
      "['498', '54', '710']\n",
      "['499', '57', '660']\n",
      "['500', '52', '700']\n",
      "['501', '141', '740']\n",
      "['502', '81', '710']\n",
      "['503', '44', '690']\n",
      "['504', '45', '750']\n",
      "['505', '57', '680']\n",
      "['506', '54', '690']\n",
      "['507', '59', '690']\n",
      "['508', '62', '710']\n",
      "['509', '33', '730']\n",
      "['510', '58', '740']\n",
      "['511', '46', '650']\n",
      "['512', '28', '680']\n",
      "['513', '68', '700']\n",
      "['514', '143', '730']\n",
      "['515', '39', '650']\n",
      "['516', '44', '730']\n",
      "['517', '91', '680']\n",
      "['518', '84', '710']\n",
      "['519', '69', '730']\n",
      "['520', '57', '710']\n",
      "['521', '33', '730']\n",
      "['522', '33', '710']\n",
      "['523', '92', '710']\n",
      "['524', '44', '710']\n",
      "['525', '45', '710']\n",
      "['526', '25', '680']\n",
      "['527', '33', '710']\n",
      "['528', '45', '720']\n",
      "['529', '86', '690']\n",
      "['530', '46', '720']\n",
      "['531', '105', '700']\n",
      "['532', '33', '700']\n",
      "['533', '41', '740']\n",
      "['534', '45', '740']\n",
      "['535', '44', '720']\n",
      "['536', '34', '710']\n",
      "['537', '37', '660']\n",
      "['538', '124', '700']\n",
      "['539', '32', '760']\n",
      "['540', '58', '750']\n",
      "['541', '43', '680']\n",
      "['542', '44', '760']\n",
      "['543', '93', '740']\n",
      "['544', '34', '770']\n",
      "['545', '75', '750']\n",
      "['546', '92', '700']\n",
      "['547', '42', '680']\n",
      "['548', '43', '720']\n",
      "['549', '70', '730']\n",
      "['550', '60', '760']\n",
      "['551', '36', '680']\n",
      "['552', '36', '760']\n",
      "['553', '68', '680']\n",
      "['554', '35', '680']\n",
      "['555', '44', '710']\n",
      "['556', '70', '670']\n",
      "['557', '34', '650']\n",
      "['558', '54', '720']\n",
      "['559', '70', '720']\n",
      "['560', '34', '730']\n",
      "['561', '36', '710']\n",
      "['562', '69', '740']\n",
      "['563', '45', '730']\n",
      "['564', '132', '720']\n",
      "['565', '81', '710']\n",
      "['566', '78', '710']\n",
      "['567', '34', '730']\n",
      "['568', '43', '760']\n",
      "['569', '58', '720']\n",
      "['570', '82', '710']\n",
      "['571', '34', '690']\n",
      "['572', '34', '690']\n",
      "['573', '62', '720']\n",
      "['574', '50', '720']\n",
      "['575', '45', '750']\n",
      "['576', '70', '720']\n",
      "['577', '59', '710']\n",
      "['578', '33', '710']\n",
      "['579', '99', '650']\n",
      "['580', '57', '730']\n",
      "['581', '30', '730']\n",
      "['582', '46', '680']\n",
      "['583', '48', '680']\n",
      "['584', '35', '760']\n",
      "['585', '46', '690']\n",
      "['586', '57', '720']\n",
      "['587', '43', '700']\n",
      "['588', '58', '690']\n",
      "['589', '58', '710']\n",
      "['590', '34', '710']\n",
      "['591', '44', '740']\n",
      "['592', '45', '710']\n",
      "['593', '46', '680']\n",
      "['594', '56', '720']\n",
      "['595', '33', '770']\n",
      "['596', '92', '730']\n",
      "['597', '31', '700']\n",
      "['598', '33', '700']\n",
      "['599', '69', '730']\n",
      "['600', '53', '670']\n",
      "['601', '37', '660']\n",
      "['602', '119', '690']\n",
      "['603', '30', '690']\n",
      "['604', '57', '720']\n",
      "['605', '33', '690']\n",
      "['606', '55', '670']\n",
      "['607', '32', '680']\n",
      "['608', '43', '740']\n",
      "['609', '78', '680']\n",
      "['610', '70', '680']\n",
      "['611', '53', '710']\n",
      "['612', '69', '700']\n",
      "['613', '56', '690']\n",
      "['614', '45', '730']\n",
      "['615', '9', '720']\n",
      "['616', '38', '670']\n",
      "['617', '82', '720']\n",
      "['618', '68', '730']\n",
      "['619', '44', '700']\n",
      "['620', '74', '730']\n",
      "['621', '33', '700']\n",
      "['622', '72', '680']\n",
      "['623', '57', '730']\n",
      "['624', '44', '690']\n",
      "['625', '29', '730']\n",
      "['626', '44', '730']\n",
      "['627', '79', '680']\n",
      "['628', '30', '700']\n",
      "['629', '34', '700']\n",
      "['630', '46', '740']\n",
      "['631', '45', '720']\n",
      "['632', '81', '710']\n",
      "['633', '45', '730']\n",
      "['634', '83', '680']\n",
      "['635', '44', '720']\n",
      "['636', '28', '710']\n",
      "['637', '33', '770']\n",
      "['638', '58', '680']\n",
      "['639', '61', '690']\n",
      "['640', '72', '700']\n",
      "['641', '58', '700']\n",
      "['642', '45', '750']\n",
      "['643', '66', '740']\n",
      "['644', '44', '690']\n",
      "['645', '45', '730']\n",
      "['646', '81', '770']\n",
      "['647', '33', '720']\n",
      "['648', '45', '740']\n",
      "['649', '31', '710']\n",
      "['650', '82', '710']\n",
      "['651', '30', '760']\n",
      "['652', '34', '720']\n",
      "['653', '81', '740']\n",
      "['654', '47', '600']\n",
      "['655', '93', '730']\n",
      "['656', '22', '780']\n",
      "['657', '40', '710']\n",
      "['658', '58', '710']\n",
      "['659', '57', '670']\n",
      "['660', '24', '720']\n",
      "['661', '39', '630']\n",
      "['662', '40', '690']\n",
      "['663', '46', '700']\n",
      "['664', '57', '700']\n",
      "['665', '44', '730']\n",
      "['666', '50', '710']\n",
      "['667', '34', '700']\n",
      "['668', '92', '710']\n",
      "['669', '43', '730']\n",
      "['670', '106', '740']\n",
      "['671', '69', '690']\n",
      "['672', '43', '660']\n",
      "['673', '69', '710']\n",
      "['674', '57', '690']\n",
      "['675', '43', '740']\n",
      "['676', '101', '710']\n",
      "['677', '33', '710']\n",
      "['678', '33', '750']\n",
      "['679', '130', '640']\n",
      "['680', '58', '710']\n",
      "['681', '33', '710']\n",
      "['682', '56', '750']\n",
      "['683', '30', '650']\n",
      "['684', '44', '680']\n",
      "['685', '58', '740']\n",
      "['686', '57', '750']\n",
      "['687', '44', '710']\n",
      "['688', '81', '700']\n",
      "['689', '94', '740']\n",
      "['690', '58', '740']\n",
      "['691', '56', '710']\n",
      "['692', '57', '710']\n",
      "['693', '45', '690']\n",
      "['694', '79', '720']\n",
      "['695', '33', '730']\n",
      "['696', '57', '700']\n",
      "['697', '58', '710']\n",
      "['698', '43', '750']\n",
      "['699', '42', '710']\n",
      "['700', '68', '740']\n",
      "['701', '34', '780']\n",
      "['702', '22', '690']\n",
      "['703', '27', '710']\n",
      "['704', '41', '710']\n",
      "['705', '42', '700']\n",
      "['706', '79', '720']\n",
      "['707', '57', '680']\n",
      "['708', '85', '760']\n",
      "['709', '33', '740']\n",
      "['710', '59', '750']\n",
      "['711', '57', '730']\n",
      "['712', '40', '720']\n",
      "['713', '81', '730']\n",
      "['714', '58', '750']\n",
      "['715', '82', '720']\n",
      "['716', '52', '720']\n",
      "['717', '56', '680']\n",
      "['718', '34', '710']\n",
      "['719', '71', '720']\n",
      "['720', '41', '690']\n",
      "['721', '53', '720']\n",
      "['722', '32', '680']\n",
      "['723', '45', '690']\n",
      "['724', '69', '720']\n",
      "['725', '44', '630']\n",
      "['726', '45', '690']\n",
      "['727', '118', '660']\n",
      "['728', '45', '710']\n",
      "['729', '46', '710']\n",
      "['730', '69', '730']\n",
      "['731', '81', '710']\n",
      "['732', '44', '690']\n",
      "['733', '34', '710']\n",
      "['734', '52', '710']\n",
      "['735', '55', '710']\n",
      "['736', '69', '650']\n",
      "['737', '83', '760']\n",
      "['738', '39', '740']\n",
      "['739', '69', '720']\n",
      "['740', '31', '700']\n",
      "['741', '33', '690']\n",
      "['742', '56', '710']\n",
      "['743', '32', '760']\n",
      "['744', '94', '740']\n",
      "['745', '105', '710']\n",
      "['746', '95', '710']\n",
      "['747', '43', '720']\n",
      "['748', '89', '710']\n",
      "['749', '68', '730']\n",
      "['750', '46', '750']\n",
      "['751', '69', '740']\n",
      "['752', '93', '710']\n",
      "['753', '60', '680']\n",
      "['754', '69', '740']\n",
      "['755', '68', '740']\n",
      "['756', '46', '730']\n",
      "['757', '23', '770']\n",
      "['758', '50', '720']\n",
      "['759', '33', '680']\n",
      "['760', '39', '680']\n",
      "['761', '34', '740']\n",
      "['762', '69', '680']\n",
      "['763', '34', '710']\n",
      "['764', '31', '710']\n",
      "['765', '29', '710']\n",
      "['766', '46', '750']\n",
      "['767', '44', '620']\n",
      "['768', '38', '680']\n",
      "['769', '88', '620']\n",
      "['770', '132', '670']\n",
      "['771', '28', '610']\n",
      "['772', '10', '610']\n",
      "['773', '52', '620']\n"
     ]
    }
   ],
   "source": [
    "# we can do reading csv file using csv module\n",
    "import csv\n",
    "with open('education.csv','rt') as file:\n",
    "   csv_rows = csv.reader(file)\n",
    "   for row in csv_rows:\n",
    "      print(row)"
   ]
  },
  {
   "cell_type": "code",
   "execution_count": 26,
   "metadata": {},
   "outputs": [
    {
     "data": {
      "text/html": [
       "<div>\n",
       "<style scoped>\n",
       "    .dataframe tbody tr th:only-of-type {\n",
       "        vertical-align: middle;\n",
       "    }\n",
       "\n",
       "    .dataframe tbody tr th {\n",
       "        vertical-align: top;\n",
       "    }\n",
       "\n",
       "    .dataframe thead th {\n",
       "        text-align: right;\n",
       "    }\n",
       "</style>\n",
       "<table border=\"1\" class=\"dataframe\">\n",
       "  <thead>\n",
       "    <tr style=\"text-align: right;\">\n",
       "      <th></th>\n",
       "      <th>datasrno</th>\n",
       "      <th>workex</th>\n",
       "      <th>gmat</th>\n",
       "    </tr>\n",
       "  </thead>\n",
       "  <tbody>\n",
       "    <tr>\n",
       "      <th>0</th>\n",
       "      <td>1</td>\n",
       "      <td>21</td>\n",
       "      <td>720</td>\n",
       "    </tr>\n",
       "    <tr>\n",
       "      <th>1</th>\n",
       "      <td>2</td>\n",
       "      <td>107</td>\n",
       "      <td>640</td>\n",
       "    </tr>\n",
       "    <tr>\n",
       "      <th>2</th>\n",
       "      <td>3</td>\n",
       "      <td>57</td>\n",
       "      <td>740</td>\n",
       "    </tr>\n",
       "    <tr>\n",
       "      <th>3</th>\n",
       "      <td>4</td>\n",
       "      <td>99</td>\n",
       "      <td>690</td>\n",
       "    </tr>\n",
       "    <tr>\n",
       "      <th>4</th>\n",
       "      <td>5</td>\n",
       "      <td>208</td>\n",
       "      <td>710</td>\n",
       "    </tr>\n",
       "    <tr>\n",
       "      <th>...</th>\n",
       "      <td>...</td>\n",
       "      <td>...</td>\n",
       "      <td>...</td>\n",
       "    </tr>\n",
       "    <tr>\n",
       "      <th>768</th>\n",
       "      <td>769</td>\n",
       "      <td>88</td>\n",
       "      <td>620</td>\n",
       "    </tr>\n",
       "    <tr>\n",
       "      <th>769</th>\n",
       "      <td>770</td>\n",
       "      <td>132</td>\n",
       "      <td>670</td>\n",
       "    </tr>\n",
       "    <tr>\n",
       "      <th>770</th>\n",
       "      <td>771</td>\n",
       "      <td>28</td>\n",
       "      <td>610</td>\n",
       "    </tr>\n",
       "    <tr>\n",
       "      <th>771</th>\n",
       "      <td>772</td>\n",
       "      <td>10</td>\n",
       "      <td>610</td>\n",
       "    </tr>\n",
       "    <tr>\n",
       "      <th>772</th>\n",
       "      <td>773</td>\n",
       "      <td>52</td>\n",
       "      <td>620</td>\n",
       "    </tr>\n",
       "  </tbody>\n",
       "</table>\n",
       "<p>773 rows × 3 columns</p>\n",
       "</div>"
      ],
      "text/plain": [
       "     datasrno  workex  gmat\n",
       "0           1      21   720\n",
       "1           2     107   640\n",
       "2           3      57   740\n",
       "3           4      99   690\n",
       "4           5     208   710\n",
       "..        ...     ...   ...\n",
       "768       769      88   620\n",
       "769       770     132   670\n",
       "770       771      28   610\n",
       "771       772      10   610\n",
       "772       773      52   620\n",
       "\n",
       "[773 rows x 3 columns]"
      ]
     },
     "execution_count": 26,
     "metadata": {},
     "output_type": "execute_result"
    }
   ],
   "source": [
    "# we can read using pandas\n",
    "import pandas as pd\n",
    "df=pd.read_csv('mba.csv')\n",
    "df"
   ]
  },
  {
   "cell_type": "markdown",
   "metadata": {},
   "source": [
    "## Reading data with json"
   ]
  },
  {
   "cell_type": "code",
   "execution_count": 37,
   "metadata": {},
   "outputs": [
    {
     "name": "stdout",
     "output_type": "stream",
     "text": [
      "{'id': '0001', 'type': 'donut', 'name': 'Cake', 'ppu': 0.55, 'batters': {'batter': [{'id': '1001', 'type': 'Regular'}, {'id': '1002', 'type': 'Chocolate'}, {'id': '1003', 'type': 'Blueberry'}, {'id': '1004', 'type': \"Devil's Food\"}]}}\n"
     ]
    }
   ],
   "source": [
    "# we can use json package\n",
    "import json\n",
    "\n",
    "f=open('sample.json','r')\n",
    "data = json.load(f)\n",
    "\n",
    "print(data)"
   ]
  },
  {
   "cell_type": "code",
   "execution_count": 38,
   "metadata": {},
   "outputs": [
    {
     "data": {
      "text/html": [
       "<div>\n",
       "<style scoped>\n",
       "    .dataframe tbody tr th:only-of-type {\n",
       "        vertical-align: middle;\n",
       "    }\n",
       "\n",
       "    .dataframe tbody tr th {\n",
       "        vertical-align: top;\n",
       "    }\n",
       "\n",
       "    .dataframe thead th {\n",
       "        text-align: right;\n",
       "    }\n",
       "</style>\n",
       "<table border=\"1\" class=\"dataframe\">\n",
       "  <thead>\n",
       "    <tr style=\"text-align: right;\">\n",
       "      <th></th>\n",
       "      <th>id</th>\n",
       "      <th>type</th>\n",
       "      <th>name</th>\n",
       "      <th>ppu</th>\n",
       "      <th>batters</th>\n",
       "    </tr>\n",
       "  </thead>\n",
       "  <tbody>\n",
       "    <tr>\n",
       "      <th>batter</th>\n",
       "      <td>1</td>\n",
       "      <td>donut</td>\n",
       "      <td>Cake</td>\n",
       "      <td>0.55</td>\n",
       "      <td>[{'id': '1001', 'type': 'Regular'}, {'id': '10...</td>\n",
       "    </tr>\n",
       "  </tbody>\n",
       "</table>\n",
       "</div>"
      ],
      "text/plain": [
       "        id   type  name   ppu  \\\n",
       "batter   1  donut  Cake  0.55   \n",
       "\n",
       "                                                  batters  \n",
       "batter  [{'id': '1001', 'type': 'Regular'}, {'id': '10...  "
      ]
     },
     "execution_count": 38,
     "metadata": {},
     "output_type": "execute_result"
    }
   ],
   "source": [
    "# we can use pandas as well to read json data\n",
    "import pandas as pd\n",
    "df = pd.read_json('sample.json')\n",
    "df"
   ]
  },
  {
   "cell_type": "markdown",
   "metadata": {},
   "source": [
    "## Data Wrangling"
   ]
  },
  {
   "cell_type": "code",
   "execution_count": 18,
   "metadata": {},
   "outputs": [
    {
     "name": "stdout",
     "output_type": "stream",
     "text": [
      "   HPI  Int_Rate  IND_GDP\n",
      "0   80         2       50\n",
      "1   90         1       45\n",
      "2   70         2       45\n",
      "3   60         3       67\n"
     ]
    }
   ],
   "source": [
    "#1 Data Wrangling\n",
    "#Data wrangling involves processing the data in various formats like - merging, joining, \n",
    "#concatenating etc. for the purpose of analysing or getting them ready to be used with another \n",
    "#set of data. Python has built-in features to apply these wrangling methods to various data sets\n",
    "#to achieve the analytical goal.\n",
    "\n",
    "#Merging\n",
    "import pandas as pd\n",
    " \n",
    "df1= pd.DataFrame({ \"HPI\":[80,90,70,60],\"Int_Rate\":[2,1,2,3],\"IND_GDP\":[50,45,45,67]}, index=[2001, 2002,2003,2004])\n",
    " \n",
    "df2=pd.DataFrame({ \"HPI\":[80,90,70,60],\"Int_Rate\":[2,1,2,3],\"IND_GDP\":[50,45,45,67]}, index=[2005, 2006,2007,2008])\n",
    " \n",
    "merged= pd.merge(df1,df2)\n",
    " \n",
    "print(merged)"
   ]
  },
  {
   "cell_type": "code",
   "execution_count": 19,
   "metadata": {},
   "outputs": [
    {
     "name": "stdout",
     "output_type": "stream",
     "text": [
      "      Int_Rate  IND_GDP  Low_Tier_HPI  Unemployment\n",
      "2001         2       50          50.0           1.0\n",
      "2002         1       45           NaN           NaN\n",
      "2003         2       45          45.0           3.0\n",
      "2004         3       67          67.0           5.0\n",
      "2004         3       67          34.0           6.0\n"
     ]
    }
   ],
   "source": [
    "#Joining\n",
    "\n",
    "df1 = pd.DataFrame({\"Int_Rate\":[2,1,2,3], \"IND_GDP\":[50,45,45,67]}, index=[2001, 2002,2003,2004])\n",
    " \n",
    "df2 = pd.DataFrame({\"Low_Tier_HPI\":[50,45,67,34],\"Unemployment\":[1,3,5,6]}, index=[2001, 2003,2004,2004])\n",
    " \n",
    "joined= df1.join(df2)\n",
    "\n",
    "print(joined)\n",
    "#As you can notice in the above output, in year 2002(index), there is no value attached \n",
    "#to columns “low_tier_HPI” and “unemployment”, therefore it has printed NaN (Not a Number).\n",
    "#Later in 2004, both the values are available, therefore it has printed the respective values.\n"
   ]
  }
 ],
 "metadata": {
  "kernelspec": {
   "display_name": "Python 3",
   "language": "python",
   "name": "python3"
  },
  "language_info": {
   "codemirror_mode": {
    "name": "ipython",
    "version": 3
   },
   "file_extension": ".py",
   "mimetype": "text/x-python",
   "name": "python",
   "nbconvert_exporter": "python",
   "pygments_lexer": "ipython3",
   "version": "3.8.8"
  }
 },
 "nbformat": 4,
 "nbformat_minor": 2
}
