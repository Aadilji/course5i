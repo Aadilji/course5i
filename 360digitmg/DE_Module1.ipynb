{
 "cells": [
  {
   "cell_type": "markdown",
   "metadata": {},
   "source": [
    "# Data types"
   ]
  },
  {
   "cell_type": "code",
   "execution_count": 4,
   "metadata": {},
   "outputs": [
    {
     "name": "stdout",
     "output_type": "stream",
     "text": [
      "1\n",
      "6\n",
      "36\n"
     ]
    },
    {
     "data": {
      "text/plain": [
       "int"
      ]
     },
     "execution_count": 4,
     "metadata": {},
     "output_type": "execute_result"
    }
   ],
   "source": [
    "#Integer\n",
    "\n",
    "print(1)\n",
    "\n",
    "print(2+4)  #addition\n",
    "\n",
    "print(12*3) # Multiplication \n",
    "\n",
    "a = 15\n",
    "type(a)"
   ]
  },
  {
   "cell_type": "code",
   "execution_count": 2,
   "metadata": {},
   "outputs": [
    {
     "name": "stdout",
     "output_type": "stream",
     "text": [
      "5\n"
     ]
    }
   ],
   "source": [
    "print(1+4)"
   ]
  },
  {
   "cell_type": "code",
   "execution_count": 3,
   "metadata": {},
   "outputs": [
    {
     "name": "stdout",
     "output_type": "stream",
     "text": [
      "11.5\n",
      "55.45\n"
     ]
    },
    {
     "data": {
      "text/plain": [
       "float"
      ]
     },
     "execution_count": 3,
     "metadata": {},
     "output_type": "execute_result"
    }
   ],
   "source": [
    "# Float\n",
    "\n",
    "print(11.5)\n",
    "\n",
    "x = 55.45\n",
    "\n",
    "print(x)\n",
    "\n",
    "type(x)\n"
   ]
  },
  {
   "cell_type": "code",
   "execution_count": 5,
   "metadata": {},
   "outputs": [
    {
     "name": "stdout",
     "output_type": "stream",
     "text": [
      "(2+3j)\n"
     ]
    },
    {
     "data": {
      "text/plain": [
       "complex"
      ]
     },
     "execution_count": 5,
     "metadata": {},
     "output_type": "execute_result"
    }
   ],
   "source": [
    "# Complex Number\n",
    "\n",
    "print(2+3j)\n",
    "\n",
    "type(2+3j)\n"
   ]
  },
  {
   "cell_type": "code",
   "execution_count": 6,
   "metadata": {},
   "outputs": [
    {
     "data": {
      "text/plain": [
       "(bool, bool)"
      ]
     },
     "execution_count": 6,
     "metadata": {},
     "output_type": "execute_result"
    }
   ],
   "source": [
    "# Boolean Type\n",
    "\n",
    "type(True), type(False)                                                                                \n"
   ]
  },
  {
   "cell_type": "markdown",
   "metadata": {},
   "source": [
    "# Operators\n",
    "\n",
    "## Arithmetic operators\n"
   ]
  },
  {
   "cell_type": "code",
   "execution_count": 7,
   "metadata": {},
   "outputs": [
    {
     "data": {
      "text/plain": [
       "(10, 20)"
      ]
     },
     "execution_count": 7,
     "metadata": {},
     "output_type": "execute_result"
    }
   ],
   "source": [
    "#consider\n",
    "a = 10\n",
    "b = 20\n",
    "a, b"
   ]
  },
  {
   "cell_type": "code",
   "execution_count": 8,
   "metadata": {},
   "outputs": [
    {
     "data": {
      "text/plain": [
       "30"
      ]
     },
     "execution_count": 8,
     "metadata": {},
     "output_type": "execute_result"
    }
   ],
   "source": [
    "#Addition\n",
    "a + b"
   ]
  },
  {
   "cell_type": "code",
   "execution_count": 9,
   "metadata": {},
   "outputs": [
    {
     "data": {
      "text/plain": [
       "-10"
      ]
     },
     "execution_count": 9,
     "metadata": {},
     "output_type": "execute_result"
    }
   ],
   "source": [
    "#subtraction\n",
    "a - b"
   ]
  },
  {
   "cell_type": "code",
   "execution_count": 10,
   "metadata": {},
   "outputs": [
    {
     "data": {
      "text/plain": [
       "200"
      ]
     },
     "execution_count": 10,
     "metadata": {},
     "output_type": "execute_result"
    }
   ],
   "source": [
    "#Multiplication\n",
    "a * b"
   ]
  },
  {
   "cell_type": "code",
   "execution_count": 11,
   "metadata": {},
   "outputs": [
    {
     "data": {
      "text/plain": [
       "0.5"
      ]
     },
     "execution_count": 11,
     "metadata": {},
     "output_type": "execute_result"
    }
   ],
   "source": [
    "#division \n",
    "a/b"
   ]
  },
  {
   "cell_type": "code",
   "execution_count": 12,
   "metadata": {},
   "outputs": [
    {
     "data": {
      "text/plain": [
       "0"
      ]
     },
     "execution_count": 12,
     "metadata": {},
     "output_type": "execute_result"
    }
   ],
   "source": [
    "# Floor divisions\n",
    "a//b #it rounds the result(quotient) to nearest integer that is less than the result (0 <0.5)"
   ]
  },
  {
   "cell_type": "code",
   "execution_count": 13,
   "metadata": {},
   "outputs": [
    {
     "data": {
      "text/plain": [
       "0"
      ]
     },
     "execution_count": 13,
     "metadata": {},
     "output_type": "execute_result"
    }
   ],
   "source": [
    "# Remainders\n",
    "b%a\n"
   ]
  },
  {
   "cell_type": "code",
   "execution_count": 14,
   "metadata": {},
   "outputs": [
    {
     "data": {
      "text/plain": [
       "100000000000000000000"
      ]
     },
     "execution_count": 14,
     "metadata": {},
     "output_type": "execute_result"
    }
   ],
   "source": [
    "# exponential\n",
    "a**b \n"
   ]
  },
  {
   "cell_type": "markdown",
   "metadata": {},
   "source": [
    "## Comparision Operator\n"
   ]
  },
  {
   "cell_type": "code",
   "execution_count": 15,
   "metadata": {},
   "outputs": [
    {
     "data": {
      "text/plain": [
       "(False, True, False)"
      ]
     },
     "execution_count": 15,
     "metadata": {},
     "output_type": "execute_result"
    }
   ],
   "source": [
    "#It gives in bool values\n",
    "\n",
    "a == b , a != b, a > b\n",
    " \n"
   ]
  },
  {
   "cell_type": "code",
   "execution_count": 16,
   "metadata": {},
   "outputs": [
    {
     "data": {
      "text/plain": [
       "(True, False, True)"
      ]
     },
     "execution_count": 16,
     "metadata": {},
     "output_type": "execute_result"
    }
   ],
   "source": [
    "a < b, a >= b ,a <= b\n"
   ]
  },
  {
   "cell_type": "markdown",
   "metadata": {},
   "source": [
    "## Assignment Operators\n"
   ]
  },
  {
   "cell_type": "code",
   "execution_count": 17,
   "metadata": {},
   "outputs": [
    {
     "name": "stdout",
     "output_type": "stream",
     "text": [
      "30\n"
     ]
    },
    {
     "data": {
      "text/plain": [
       "50"
      ]
     },
     "execution_count": 17,
     "metadata": {},
     "output_type": "execute_result"
    }
   ],
   "source": [
    "c = a+b\n",
    "\n",
    "print(c)\n",
    "\n",
    "c += b  #its nothing but c = c+b\n",
    "c"
   ]
  },
  {
   "cell_type": "code",
   "execution_count": 18,
   "metadata": {},
   "outputs": [
    {
     "data": {
      "text/plain": [
       "30"
      ]
     },
     "execution_count": 18,
     "metadata": {},
     "output_type": "execute_result"
    }
   ],
   "source": [
    "c -= b\n",
    "c\n"
   ]
  },
  {
   "cell_type": "code",
   "execution_count": 19,
   "metadata": {},
   "outputs": [
    {
     "data": {
      "text/plain": [
       "600"
      ]
     },
     "execution_count": 19,
     "metadata": {},
     "output_type": "execute_result"
    }
   ],
   "source": [
    "c *= b\n",
    "c\n"
   ]
  },
  {
   "cell_type": "code",
   "execution_count": 20,
   "metadata": {},
   "outputs": [
    {
     "data": {
      "text/plain": [
       "30.0"
      ]
     },
     "execution_count": 20,
     "metadata": {},
     "output_type": "execute_result"
    }
   ],
   "source": [
    "c /= b\n",
    "c\n"
   ]
  },
  {
   "cell_type": "code",
   "execution_count": 21,
   "metadata": {},
   "outputs": [
    {
     "data": {
      "text/plain": [
       "10.0"
      ]
     },
     "execution_count": 21,
     "metadata": {},
     "output_type": "execute_result"
    }
   ],
   "source": [
    "c %= b\n",
    "c\n"
   ]
  },
  {
   "cell_type": "code",
   "execution_count": 22,
   "metadata": {},
   "outputs": [
    {
     "data": {
      "text/plain": [
       "1e+20"
      ]
     },
     "execution_count": 22,
     "metadata": {},
     "output_type": "execute_result"
    }
   ],
   "source": [
    "c **= b\n",
    "c\n"
   ]
  },
  {
   "cell_type": "code",
   "execution_count": 23,
   "metadata": {},
   "outputs": [
    {
     "data": {
      "text/plain": [
       "5e+18"
      ]
     },
     "execution_count": 23,
     "metadata": {},
     "output_type": "execute_result"
    }
   ],
   "source": [
    "c //= b\n",
    "c\n"
   ]
  },
  {
   "cell_type": "markdown",
   "metadata": {},
   "source": [
    "## Logical Operators"
   ]
  },
  {
   "cell_type": "code",
   "execution_count": 24,
   "metadata": {},
   "outputs": [
    {
     "data": {
      "text/plain": [
       "(2, 0)"
      ]
     },
     "execution_count": 24,
     "metadata": {},
     "output_type": "execute_result"
    }
   ],
   "source": [
    "# Logical And -- All the values should be non zero in order to have non zero output\n",
    "a=3 ; b=2; c=0\n",
    "\n",
    "a and b, b and c"
   ]
  },
  {
   "cell_type": "code",
   "execution_count": 25,
   "metadata": {},
   "outputs": [
    {
     "data": {
      "text/plain": [
       "(3, 2)"
      ]
     },
     "execution_count": 25,
     "metadata": {},
     "output_type": "execute_result"
    }
   ],
   "source": [
    "# Logical OR -- Any one should be true in order to have non zero output\n",
    "a=3 ; b=2; c=0\n",
    "\n",
    "a or b, b or c"
   ]
  },
  {
   "cell_type": "markdown",
   "metadata": {},
   "source": [
    "## Membership Operators\n"
   ]
  },
  {
   "cell_type": "code",
   "execution_count": 26,
   "metadata": {},
   "outputs": [
    {
     "data": {
      "text/plain": [
       "(True, False)"
      ]
     },
     "execution_count": 26,
     "metadata": {},
     "output_type": "execute_result"
    }
   ],
   "source": [
    "# It will check that left value is a member of right value or not \n",
    "\n",
    "\"y\" in \"Python\" ,      \"l\" in \"Python\"\n"
   ]
  },
  {
   "cell_type": "code",
   "execution_count": 27,
   "metadata": {},
   "outputs": [
    {
     "data": {
      "text/plain": [
       "(False, True)"
      ]
     },
     "execution_count": 27,
     "metadata": {},
     "output_type": "execute_result"
    }
   ],
   "source": [
    "\"p\" in \"Python\" ,      \"P\" not in \"python\"\n"
   ]
  },
  {
   "cell_type": "markdown",
   "metadata": {},
   "source": [
    "## Identity Operators"
   ]
  },
  {
   "cell_type": "code",
   "execution_count": 28,
   "metadata": {},
   "outputs": [
    {
     "name": "stderr",
     "output_type": "stream",
     "text": [
      "<>:3: SyntaxWarning: \"is\" with a literal. Did you mean \"==\"?\n",
      "<>:3: SyntaxWarning: \"is\" with a literal. Did you mean \"==\"?\n",
      "<>:3: SyntaxWarning: \"is\" with a literal. Did you mean \"==\"?\n",
      "<>:3: SyntaxWarning: \"is\" with a literal. Did you mean \"==\"?\n",
      "<>:3: SyntaxWarning: \"is\" with a literal. Did you mean \"==\"?\n",
      "<>:3: SyntaxWarning: \"is\" with a literal. Did you mean \"==\"?\n",
      "<ipython-input-28-2e352b9d2ae5>:3: SyntaxWarning: \"is\" with a literal. Did you mean \"==\"?\n",
      "  \"y\" is \"Python\" ,    1 is 1 ,    2 is 1\n",
      "<ipython-input-28-2e352b9d2ae5>:3: SyntaxWarning: \"is\" with a literal. Did you mean \"==\"?\n",
      "  \"y\" is \"Python\" ,    1 is 1 ,    2 is 1\n",
      "<ipython-input-28-2e352b9d2ae5>:3: SyntaxWarning: \"is\" with a literal. Did you mean \"==\"?\n",
      "  \"y\" is \"Python\" ,    1 is 1 ,    2 is 1\n"
     ]
    },
    {
     "data": {
      "text/plain": [
       "(False, True, False)"
      ]
     },
     "execution_count": 28,
     "metadata": {},
     "output_type": "execute_result"
    }
   ],
   "source": [
    "# It Check will check that left value is equal to the right value or not\n",
    "\n",
    "\"y\" is \"Python\" ,    1 is 1 ,    2 is 1\n",
    "\n"
   ]
  },
  {
   "cell_type": "code",
   "execution_count": 29,
   "metadata": {},
   "outputs": [
    {
     "name": "stderr",
     "output_type": "stream",
     "text": [
      "<>:1: SyntaxWarning: \"is\" with a literal. Did you mean \"==\"?\n",
      "<>:1: SyntaxWarning: \"is\" with a literal. Did you mean \"==\"?\n",
      "<>:1: SyntaxWarning: \"is\" with a literal. Did you mean \"==\"?\n",
      "<>:1: SyntaxWarning: \"is\" with a literal. Did you mean \"==\"?\n",
      "<ipython-input-29-b5ac06cf2942>:1: SyntaxWarning: \"is\" with a literal. Did you mean \"==\"?\n",
      "  \"python\" is \"Python\",   1 is 0\n",
      "<ipython-input-29-b5ac06cf2942>:1: SyntaxWarning: \"is\" with a literal. Did you mean \"==\"?\n",
      "  \"python\" is \"Python\",   1 is 0\n"
     ]
    },
    {
     "data": {
      "text/plain": [
       "(False, False)"
      ]
     },
     "execution_count": 29,
     "metadata": {},
     "output_type": "execute_result"
    }
   ],
   "source": [
    "\"python\" is \"Python\",   1 is 0 \n"
   ]
  },
  {
   "cell_type": "code",
   "execution_count": 30,
   "metadata": {},
   "outputs": [
    {
     "name": "stderr",
     "output_type": "stream",
     "text": [
      "<>:1: SyntaxWarning: \"is not\" with a literal. Did you mean \"!=\"?\n",
      "<>:1: SyntaxWarning: \"is not\" with a literal. Did you mean \"!=\"?\n",
      "<>:1: SyntaxWarning: \"is not\" with a literal. Did you mean \"!=\"?\n",
      "<>:1: SyntaxWarning: \"is not\" with a literal. Did you mean \"!=\"?\n",
      "<ipython-input-30-064a83f69f1d>:1: SyntaxWarning: \"is not\" with a literal. Did you mean \"!=\"?\n",
      "  1 is not 1,        \"hi hello\"  is not   \"hello hi\"\n",
      "<ipython-input-30-064a83f69f1d>:1: SyntaxWarning: \"is not\" with a literal. Did you mean \"!=\"?\n",
      "  1 is not 1,        \"hi hello\"  is not   \"hello hi\"\n"
     ]
    },
    {
     "data": {
      "text/plain": [
       "(False, True)"
      ]
     },
     "execution_count": 30,
     "metadata": {},
     "output_type": "execute_result"
    }
   ],
   "source": [
    "1 is not 1,        \"hi hello\"  is not   \"hello hi\""
   ]
  },
  {
   "cell_type": "markdown",
   "metadata": {},
   "source": [
    "# Data Structures\n"
   ]
  },
  {
   "cell_type": "markdown",
   "metadata": {},
   "source": [
    "## Arrays/Vectors"
   ]
  },
  {
   "cell_type": "code",
   "execution_count": 32,
   "metadata": {},
   "outputs": [
    {
     "name": "stdout",
     "output_type": "stream",
     "text": [
      "array('i', [10, 20, 30, 40, 50])\n",
      "10\n",
      "20\n",
      "30\n",
      "40\n",
      "50\n"
     ]
    }
   ],
   "source": [
    "# Creating an array\n",
    "from array import *       #Array is created in Python by importing array module to the python program.\n",
    "\n",
    "array1 = array('i', [10,20,30,40,50])\n",
    "\n",
    "print(array1)\n",
    "for x in array1:\n",
    " print(x)"
   ]
  },
  {
   "cell_type": "code",
   "execution_count": 33,
   "metadata": {},
   "outputs": [
    {
     "name": "stdout",
     "output_type": "stream",
     "text": [
      "Help on class array in module array:\n",
      "\n",
      "class array(builtins.object)\n",
      " |  array(typecode [, initializer]) -> array\n",
      " |  \n",
      " |  Return a new array whose items are restricted by typecode, and\n",
      " |  initialized from the optional initializer value, which must be a list,\n",
      " |  string or iterable over elements of the appropriate type.\n",
      " |  \n",
      " |  Arrays represent basic values and behave very much like lists, except\n",
      " |  the type of objects stored in them is constrained. The type is specified\n",
      " |  at object creation time by using a type code, which is a single character.\n",
      " |  The following type codes are defined:\n",
      " |  \n",
      " |      Type code   C Type             Minimum size in bytes\n",
      " |      'b'         signed integer     1\n",
      " |      'B'         unsigned integer   1\n",
      " |      'u'         Unicode character  2 (see note)\n",
      " |      'h'         signed integer     2\n",
      " |      'H'         unsigned integer   2\n",
      " |      'i'         signed integer     2\n",
      " |      'I'         unsigned integer   2\n",
      " |      'l'         signed integer     4\n",
      " |      'L'         unsigned integer   4\n",
      " |      'q'         signed integer     8 (see note)\n",
      " |      'Q'         unsigned integer   8 (see note)\n",
      " |      'f'         floating point     4\n",
      " |      'd'         floating point     8\n",
      " |  \n",
      " |  NOTE: The 'u' typecode corresponds to Python's unicode character. On\n",
      " |  narrow builds this is 2-bytes on wide builds this is 4-bytes.\n",
      " |  \n",
      " |  NOTE: The 'q' and 'Q' type codes are only available if the platform\n",
      " |  C compiler used to build Python supports 'long long', or, on Windows,\n",
      " |  '__int64'.\n",
      " |  \n",
      " |  Methods:\n",
      " |  \n",
      " |  append() -- append a new item to the end of the array\n",
      " |  buffer_info() -- return information giving the current memory info\n",
      " |  byteswap() -- byteswap all the items of the array\n",
      " |  count() -- return number of occurrences of an object\n",
      " |  extend() -- extend array by appending multiple elements from an iterable\n",
      " |  fromfile() -- read items from a file object\n",
      " |  fromlist() -- append items from the list\n",
      " |  frombytes() -- append items from the string\n",
      " |  index() -- return index of first occurrence of an object\n",
      " |  insert() -- insert a new item into the array at a provided position\n",
      " |  pop() -- remove and return item (default last)\n",
      " |  remove() -- remove first occurrence of an object\n",
      " |  reverse() -- reverse the order of the items in the array\n",
      " |  tofile() -- write all items to a file object\n",
      " |  tolist() -- return the array converted to an ordinary list\n",
      " |  tobytes() -- return the array converted to a string\n",
      " |  \n",
      " |  Attributes:\n",
      " |  \n",
      " |  typecode -- the typecode character used to create the array\n",
      " |  itemsize -- the length in bytes of one array item\n",
      " |  \n",
      " |  Methods defined here:\n",
      " |  \n",
      " |  __add__(self, value, /)\n",
      " |      Return self+value.\n",
      " |  \n",
      " |  __contains__(self, key, /)\n",
      " |      Return key in self.\n",
      " |  \n",
      " |  __copy__(self, /)\n",
      " |      Return a copy of the array.\n",
      " |  \n",
      " |  __deepcopy__(self, unused, /)\n",
      " |      Return a copy of the array.\n",
      " |  \n",
      " |  __delitem__(self, key, /)\n",
      " |      Delete self[key].\n",
      " |  \n",
      " |  __eq__(self, value, /)\n",
      " |      Return self==value.\n",
      " |  \n",
      " |  __ge__(self, value, /)\n",
      " |      Return self>=value.\n",
      " |  \n",
      " |  __getattribute__(self, name, /)\n",
      " |      Return getattr(self, name).\n",
      " |  \n",
      " |  __getitem__(self, key, /)\n",
      " |      Return self[key].\n",
      " |  \n",
      " |  __gt__(self, value, /)\n",
      " |      Return self>value.\n",
      " |  \n",
      " |  __iadd__(self, value, /)\n",
      " |      Implement self+=value.\n",
      " |  \n",
      " |  __imul__(self, value, /)\n",
      " |      Implement self*=value.\n",
      " |  \n",
      " |  __iter__(self, /)\n",
      " |      Implement iter(self).\n",
      " |  \n",
      " |  __le__(self, value, /)\n",
      " |      Return self<=value.\n",
      " |  \n",
      " |  __len__(self, /)\n",
      " |      Return len(self).\n",
      " |  \n",
      " |  __lt__(self, value, /)\n",
      " |      Return self<value.\n",
      " |  \n",
      " |  __mul__(self, value, /)\n",
      " |      Return self*value.\n",
      " |  \n",
      " |  __ne__(self, value, /)\n",
      " |      Return self!=value.\n",
      " |  \n",
      " |  __reduce_ex__(self, value, /)\n",
      " |      Return state information for pickling.\n",
      " |  \n",
      " |  __repr__(self, /)\n",
      " |      Return repr(self).\n",
      " |  \n",
      " |  __rmul__(self, value, /)\n",
      " |      Return value*self.\n",
      " |  \n",
      " |  __setitem__(self, key, value, /)\n",
      " |      Set self[key] to value.\n",
      " |  \n",
      " |  __sizeof__(self, /)\n",
      " |      Size of the array in memory, in bytes.\n",
      " |  \n",
      " |  append(self, v, /)\n",
      " |      Append new value v to the end of the array.\n",
      " |  \n",
      " |  buffer_info(self, /)\n",
      " |      Return a tuple (address, length) giving the current memory address and the length in items of the buffer used to hold array's contents.\n",
      " |      \n",
      " |      The length should be multiplied by the itemsize attribute to calculate\n",
      " |      the buffer length in bytes.\n",
      " |  \n",
      " |  byteswap(self, /)\n",
      " |      Byteswap all items of the array.\n",
      " |      \n",
      " |      If the items in the array are not 1, 2, 4, or 8 bytes in size, RuntimeError is\n",
      " |      raised.\n",
      " |  \n",
      " |  count(self, v, /)\n",
      " |      Return number of occurrences of v in the array.\n",
      " |  \n",
      " |  extend(self, bb, /)\n",
      " |      Append items to the end of the array.\n",
      " |  \n",
      " |  frombytes(self, buffer, /)\n",
      " |      Appends items from the string, interpreting it as an array of machine values, as if it had been read from a file using the fromfile() method).\n",
      " |  \n",
      " |  fromfile(self, f, n, /)\n",
      " |      Read n objects from the file object f and append them to the end of the array.\n",
      " |  \n",
      " |  fromlist(self, list, /)\n",
      " |      Append items to array from list.\n",
      " |  \n",
      " |  fromstring(self, buffer, /)\n",
      " |      Appends items from the string, interpreting it as an array of machine values, as if it had been read from a file using the fromfile() method).\n",
      " |      \n",
      " |      This method is deprecated. Use frombytes instead.\n",
      " |  \n",
      " |  fromunicode(self, ustr, /)\n",
      " |      Extends this array with data from the unicode string ustr.\n",
      " |      \n",
      " |      The array must be a unicode type array; otherwise a ValueError is raised.\n",
      " |      Use array.frombytes(ustr.encode(...)) to append Unicode data to an array of\n",
      " |      some other type.\n",
      " |  \n",
      " |  index(self, v, /)\n",
      " |      Return index of first occurrence of v in the array.\n",
      " |  \n",
      " |  insert(self, i, v, /)\n",
      " |      Insert a new item v into the array before position i.\n",
      " |  \n",
      " |  pop(self, i=-1, /)\n",
      " |      Return the i-th element and delete it from the array.\n",
      " |      \n",
      " |      i defaults to -1.\n",
      " |  \n",
      " |  remove(self, v, /)\n",
      " |      Remove the first occurrence of v in the array.\n",
      " |  \n",
      " |  reverse(self, /)\n",
      " |      Reverse the order of the items in the array.\n",
      " |  \n",
      " |  tobytes(self, /)\n",
      " |      Convert the array to an array of machine values and return the bytes representation.\n",
      " |  \n",
      " |  tofile(self, f, /)\n",
      " |      Write all items (as machine values) to the file object f.\n",
      " |  \n",
      " |  tolist(self, /)\n",
      " |      Convert array to an ordinary list with the same items.\n",
      " |  \n",
      " |  tostring(self, /)\n",
      " |      Convert the array to an array of machine values and return the bytes representation.\n",
      " |      \n",
      " |      This method is deprecated. Use tobytes instead.\n",
      " |  \n",
      " |  tounicode(self, /)\n",
      " |      Extends this array with data from the unicode string ustr.\n",
      " |      \n",
      " |      Convert the array to a unicode string.  The array must be a unicode type array;\n",
      " |      otherwise a ValueError is raised.  Use array.tobytes().decode() to obtain a\n",
      " |      unicode string from an array of some other type.\n",
      " |  \n",
      " |  ----------------------------------------------------------------------\n",
      " |  Static methods defined here:\n",
      " |  \n",
      " |  __new__(*args, **kwargs) from builtins.type\n",
      " |      Create and return a new object.  See help(type) for accurate signature.\n",
      " |  \n",
      " |  ----------------------------------------------------------------------\n",
      " |  Data descriptors defined here:\n",
      " |  \n",
      " |  itemsize\n",
      " |      the size, in bytes, of one array item\n",
      " |  \n",
      " |  typecode\n",
      " |      the typecode character used to create the array\n",
      " |  \n",
      " |  ----------------------------------------------------------------------\n",
      " |  Data and other attributes defined here:\n",
      " |  \n",
      " |  __hash__ = None\n",
      "\n"
     ]
    }
   ],
   "source": [
    "help(array)"
   ]
  },
  {
   "cell_type": "code",
   "execution_count": 34,
   "metadata": {},
   "outputs": [],
   "source": [
    "# insert operation\n",
    "from array import *\n",
    "\n",
    "array1 = array('i', [10,20,30,40,50])\n",
    "\n",
    "array1.insert(1,60) #inserting the data at specified location\n"
   ]
  },
  {
   "cell_type": "code",
   "execution_count": 35,
   "metadata": {},
   "outputs": [
    {
     "name": "stdout",
     "output_type": "stream",
     "text": [
      "10\n",
      "60\n",
      "20\n",
      "30\n",
      "40\n",
      "50\n"
     ]
    }
   ],
   "source": [
    "for x in array1:\n",
    " print(x)"
   ]
  },
  {
   "cell_type": "code",
   "execution_count": 36,
   "metadata": {},
   "outputs": [
    {
     "name": "stdout",
     "output_type": "stream",
     "text": [
      "10\n",
      "20\n",
      "30\n",
      "50\n"
     ]
    }
   ],
   "source": [
    "# Deletion operation\n",
    "from array import *\n",
    "\n",
    "array1 = array('i', [10,20,30,40,50])\n",
    "\n",
    "array1.remove(40) #deleting data we want\n",
    "\n",
    "for x in array1:\n",
    " print(x)"
   ]
  },
  {
   "cell_type": "code",
   "execution_count": 37,
   "metadata": {},
   "outputs": [
    {
     "name": "stdout",
     "output_type": "stream",
     "text": [
      "10\n",
      "20\n",
      "80\n",
      "40\n",
      "50\n"
     ]
    }
   ],
   "source": [
    "# Update operation\n",
    "from array import *\n",
    "\n",
    "array1 = array('i', [10,20,30,40,50])\n",
    "\n",
    "array1[2] = 80 #updating\n",
    "\n",
    "for x in array1:\n",
    " print(x)"
   ]
  },
  {
   "cell_type": "markdown",
   "metadata": {},
   "source": [
    "## 2D Arrays"
   ]
  },
  {
   "cell_type": "code",
   "execution_count": 39,
   "metadata": {},
   "outputs": [
    {
     "name": "stdout",
     "output_type": "stream",
     "text": [
      "[11, 12, 5, 2]\n",
      "10\n"
     ]
    }
   ],
   "source": [
    "#Accessing Values in a Two Dimensional Array\n",
    "#The data elements in two dimesnional arrays can be accessed using two indices. \n",
    "#One index referring to the main or parent array and another index referring to \n",
    "#the position of the data element in the inner array. \n",
    "#If we mention only one index then the entire inner array is printed for that index position.\n",
    "\n",
    "from array import *\n",
    "\n",
    "T = [[11, 12, 5, 2], [15, 6,10], [10, 8, 12, 5], [12,15,8,6]] # 2D array\n",
    "\n",
    "print(T[0])\n",
    "\n",
    "print(T[1][2])"
   ]
  },
  {
   "cell_type": "code",
   "execution_count": 40,
   "metadata": {},
   "outputs": [
    {
     "name": "stdout",
     "output_type": "stream",
     "text": [
      "[[11, 12, 5, 2], [15, 6, 10], [10, 8, 12, 5], [12, 15, 8, 6]]\n"
     ]
    },
    {
     "data": {
      "text/plain": [
       "[[11, 12, 5, 2],\n",
       " [15, 6, 10],\n",
       " [0, 5, 11, 13, 6],\n",
       " [10, 8, 12, 5],\n",
       " [12, 15, 8, 6]]"
      ]
     },
     "execution_count": 40,
     "metadata": {},
     "output_type": "execute_result"
    }
   ],
   "source": [
    "# Inserting Values in Two Dimensional Array\n",
    "from array import *\n",
    "T = [[11, 12, 5, 2], [15, 6,10], [10, 8, 12, 5], [12,15,8,6]]\n",
    "print(T)\n",
    "\n",
    "T.insert(2, [0,5,11,13,6]) #inserting at index=2\n",
    "\n",
    "T"
   ]
  },
  {
   "cell_type": "code",
   "execution_count": 41,
   "metadata": {},
   "outputs": [
    {
     "name": "stdout",
     "output_type": "stream",
     "text": [
      "[[11, 12, 5, 2], [15, 6, 10], [10, 8, 12, 5], [12, 15, 8, 6]]\n"
     ]
    },
    {
     "data": {
      "text/plain": [
       "[[11, 12, 5, 7], [15, 6, 10], [11, 9], [12, 15, 8, 6]]"
      ]
     },
     "execution_count": 41,
     "metadata": {},
     "output_type": "execute_result"
    }
   ],
   "source": [
    "# Updating Values in Two Dimensional Array\n",
    "from array import *\n",
    "\n",
    "T = [[11, 12, 5, 2], [15, 6,10], [10, 8, 12, 5], [12,15,8,6]]\n",
    "print(T)\n",
    "\n",
    "T[2] = [11,9] #updating element (row) at index=2\n",
    "T[0][3] = 7 #updating element in first row, 4th column\n",
    "T\n"
   ]
  },
  {
   "cell_type": "code",
   "execution_count": 42,
   "metadata": {},
   "outputs": [
    {
     "name": "stdout",
     "output_type": "stream",
     "text": [
      "[[11, 12, 5, 2], [15, 6, 10], [10, 8, 12, 5], [12, 15, 8, 6]]\n"
     ]
    },
    {
     "data": {
      "text/plain": [
       "[[11, 12, 5, 2], [15, 6, 10], [10, 8, 12, 5]]"
      ]
     },
     "execution_count": 42,
     "metadata": {},
     "output_type": "execute_result"
    }
   ],
   "source": [
    "# Deleting the Values in Two Dimensional Array\n",
    "from array import *\n",
    "T = [[11, 12, 5, 2], [15, 6,10], [10, 8, 12, 5], [12,15,8,6]]\n",
    "print(T)\n",
    "\n",
    "del T[3] # deleting at index=3\n",
    "T"
   ]
  },
  {
   "cell_type": "markdown",
   "metadata": {},
   "source": [
    "## Matrix\n",
    "Matrix is a special case of two dimensional array where each data element is of strictly same size. So every matrix is also a two dimensional array but not vice versa. Matrices are very important data structures for many mathematical and scientific calculations."
   ]
  },
  {
   "cell_type": "code",
   "execution_count": 43,
   "metadata": {},
   "outputs": [
    {
     "name": "stdout",
     "output_type": "stream",
     "text": [
      "[['Mon' '18' '20' '22' '17']\n",
      " ['Tue' '11' '18' '21' '18']\n",
      " ['Wed' '15' '21' '20' '19']\n",
      " ['Thu' '11' '20' '22' '21']\n",
      " ['Fri' '18' '17' '23' '22']\n",
      " ['Sat' '12' '22' '20' '18']\n",
      " ['Sun' '13' '15' '19' '16']]\n"
     ]
    }
   ],
   "source": [
    "# Matrix Example\n",
    "from numpy import * \n",
    "a = array([['Mon',18,20,22,17],['Tue',11,18,21,18],\n",
    "           ['Wed',15,21,20,19],['Thu',11,20,22,21],\n",
    "           ['Fri',18,17,23,22],['Sat',12,22,20,18],\n",
    "           ['Sun',13,15,19,16]])\n",
    "    \n",
    "m = reshape(a,(7,5)) #dimentisions of matrix aka rows*columns\n",
    "print(m)"
   ]
  },
  {
   "cell_type": "code",
   "execution_count": 44,
   "metadata": {},
   "outputs": [
    {
     "name": "stdout",
     "output_type": "stream",
     "text": [
      "['Wed' '15' '21' '20' '19']\n",
      "23\n"
     ]
    }
   ],
   "source": [
    "# Accessing Values in a Matrix\n",
    "from numpy import * \n",
    "m = array([['Mon',18,20,22,17],['Tue',11,18,21,18],\n",
    "           ['Wed',15,21,20,19],['Thu',11,20,22,21],\n",
    "           ['Fri',18,17,23,22],['Sat',12,22,20,18],\n",
    "           ['Sun',13,15,19,16]])\n",
    "    \n",
    "# Print data for Wednesday\n",
    "print(m[2])\n",
    "\n",
    "# Print data for friday evening\n",
    "print(m[4][3])"
   ]
  },
  {
   "cell_type": "code",
   "execution_count": 45,
   "metadata": {},
   "outputs": [
    {
     "name": "stdout",
     "output_type": "stream",
     "text": [
      "[['Mon' '18' '20' '22' '17']\n",
      " ['Tue' '11' '18' '21' '18']\n",
      " ['Wed' '15' '21' '20' '19']\n",
      " ['Thu' '11' '20' '22' '21']\n",
      " ['Fri' '18' '17' '23' '22']\n",
      " ['Sat' '12' '22' '20' '18']\n",
      " ['Sun' '13' '15' '19' '16']\n",
      " ['Avg' '12' '15' '13' '11']]\n",
      "***********\n",
      "[['Mon' '18' '20' '22' '17' '1']\n",
      " ['Tue' '11' '18' '21' '18' '2']\n",
      " ['Wed' '15' '21' '20' '19' '3']\n",
      " ['Thu' '11' '20' '22' '21' '4']\n",
      " ['Fri' '18' '17' '23' '22' '5']\n",
      " ['Sat' '12' '22' '20' '18' '6']\n",
      " ['Sun' '13' '15' '19' '16' '7']]\n"
     ]
    }
   ],
   "source": [
    "# Adding the data\n",
    "from numpy import * \n",
    "m = array([['Mon',18,20,22,17],['Tue',11,18,21,18],\n",
    "           ['Wed',15,21,20,19],['Thu',11,20,22,21],\n",
    "           ['Fri',18,17,23,22],['Sat',12,22,20,18],\n",
    "           ['Sun',13,15,19,16]])\n",
    "    \n",
    "m_r = append(m,[['Avg',12,15,13,11]],0) #adding by using append at the end .(0-- row)\n",
    "\n",
    "m_c = insert(m,[5],[[1],[2],[3],[4],[5],[6],[7]],1) #adding by using insert at required location .(1-- column)\n",
    "# print(m)\n",
    "print(m_r)\n",
    "print('***********')\n",
    "print(m_c)"
   ]
  },
  {
   "cell_type": "code",
   "execution_count": 47,
   "metadata": {},
   "outputs": [
    {
     "name": "stdout",
     "output_type": "stream",
     "text": [
      "[['Mon' '18' '20' '22' '17']\n",
      " ['Tue' '11' '18' '21' '18']\n",
      " ['Wed' '15' '21' '20' '19']\n",
      " ['Thu' '11' '20' '22' '21']\n",
      " ['Fri' '18' '17' '23' '22']\n",
      " ['Sat' '12' '22' '20' '18']\n",
      " ['Sun' '13' '15' '19' '16']]\n",
      "********************\n",
      "[['Mon' '18' '20' '22' '17']\n",
      " ['Tue' '11' '18' '21' '18']\n",
      " ['Thu' '11' '20' '22' '21']\n",
      " ['Fri' '18' '17' '23' '22']\n",
      " ['Sat' '12' '22' '20' '18']\n",
      " ['Sun' '13' '15' '19' '16']]\n",
      "***********\n"
     ]
    },
    {
     "data": {
      "text/plain": [
       "array([['Mon', '18', '22', '17'],\n",
       "       ['Tue', '11', '21', '18'],\n",
       "       ['Thu', '11', '22', '21'],\n",
       "       ['Fri', '18', '23', '22'],\n",
       "       ['Sat', '12', '20', '18'],\n",
       "       ['Sun', '13', '19', '16']], dtype='<U3')"
      ]
     },
     "execution_count": 47,
     "metadata": {},
     "output_type": "execute_result"
    }
   ],
   "source": [
    "# Delete from matrix\n",
    "from numpy import * \n",
    "m = array([['Mon',18,20,22,17],['Tue',11,18,21,18],\n",
    "           ['Wed',15,21,20,19],['Thu',11,20,22,21],\n",
    "           ['Fri',18,17,23,22],['Sat',12,22,20,18],\n",
    "           ['Sun',13,15,19,16]])\n",
    "\n",
    "print(m) #original matrix\n",
    "print('********************')\n",
    "    \n",
    "m = delete(m,[2],0) #deleting row at index=2\n",
    "print(m)\n",
    "print('***********')\n",
    "m = delete(m,[2],1) #deleting column at index=2\n",
    "m"
   ]
  },
  {
   "cell_type": "markdown",
   "metadata": {},
   "source": [
    "## Lists"
   ]
  },
  {
   "cell_type": "code",
   "execution_count": 48,
   "metadata": {},
   "outputs": [
    {
     "data": {
      "text/plain": [
       "['Nikhil', '360DigiTMG', 2013, 2018]"
      ]
     },
     "execution_count": 48,
     "metadata": {},
     "output_type": "execute_result"
    }
   ],
   "source": [
    "###############################   List   ################################\n",
    "\n",
    "# A list data type is given in square brackets and each element is separated by comma.\n",
    " \n",
    "list1 = ['Nikhil', '360DigiTMG', 2013, 2018]\n",
    "list1"
   ]
  },
  {
   "cell_type": "code",
   "execution_count": 49,
   "metadata": {},
   "outputs": [
    {
     "name": "stdout",
     "output_type": "stream",
     "text": [
      "Nikhil\n",
      "2018\n",
      "['Nikhil', '360DigiTMG', 2013, 2018]\n"
     ]
    }
   ],
   "source": [
    "# Access values in the variable using index numbers\n",
    "  \n",
    "print(list1[0])\n",
    "\n",
    "print(list1[3])\n",
    "\n",
    "print(list1[:4])\n"
   ]
  },
  {
   "cell_type": "code",
   "execution_count": 56,
   "metadata": {},
   "outputs": [
    {
     "name": "stdout",
     "output_type": "stream",
     "text": [
      "[123, 'xyz', 'zara', 'abc', [2009, 'sharat']]\n"
     ]
    }
   ],
   "source": [
    "#functions in list data type\n",
    "\n",
    "# Append : add a new element to the existing list\n",
    "\n",
    "aList = [123, 'xyz', 'zara', 'abc'];\n",
    "aList.append([2009, 'sharat']);\n",
    "print(aList)\n"
   ]
  },
  {
   "cell_type": "code",
   "execution_count": 51,
   "metadata": {},
   "outputs": [
    {
     "name": "stdout",
     "output_type": "stream",
     "text": [
      "2009\n"
     ]
    }
   ],
   "source": [
    "#Pop : remove the elment from existing list\n",
    "print (aList.pop())\n"
   ]
  },
  {
   "cell_type": "code",
   "execution_count": 52,
   "metadata": {},
   "outputs": [
    {
     "name": "stdout",
     "output_type": "stream",
     "text": [
      "123\n"
     ]
    }
   ],
   "source": [
    "# pop the element using index number\n",
    "print (aList.pop(0))\n"
   ]
  },
  {
   "cell_type": "code",
   "execution_count": 53,
   "metadata": {},
   "outputs": [
    {
     "name": "stdout",
     "output_type": "stream",
     "text": [
      "[123, 'xyz', 'tommy', 2009, 'abc', 123]\n"
     ]
    }
   ],
   "source": [
    "#Insert: insert a value using index number \n",
    "aList = [123, 'xyz', 'tommy', 'abc', 123]\n",
    "aList.insert(3, 2009)\n",
    "print (aList)\n"
   ]
  },
  {
   "cell_type": "code",
   "execution_count": 54,
   "metadata": {},
   "outputs": [
    {
     "data": {
      "text/plain": [
       "([123, 'xyz', 'tommy', 'abc', 123, 2009, 'beneli'],\n",
       " [2009, 'beneli', 123, 'xyz', 'tommy', 'abc', 123, 2009, 'beneli'])"
      ]
     },
     "execution_count": 54,
     "metadata": {},
     "output_type": "execute_result"
    }
   ],
   "source": [
    "#Extend: extend the two list one after another \n",
    "aList = [123, 'xyz', 'tommy', 'abc', 123]\n",
    "bList = [2009, 'beneli']\n",
    "aList.extend(bList)\n",
    "bList.extend(aList)\n",
    "aList, bList"
   ]
  },
  {
   "cell_type": "code",
   "execution_count": 57,
   "metadata": {},
   "outputs": [
    {
     "name": "stdout",
     "output_type": "stream",
     "text": [
      "[123, 'xyz', 'tommy', 'abc', 342]\n",
      "*************\n",
      "[342, 'abc', 'tommy', 'xyz', 123]\n"
     ]
    }
   ],
   "source": [
    "#Reverse: to reverse the given list \n",
    "aList = [123, 'xyz', 'tommy', 'abc', 342]\n",
    "print(aList)\n",
    "aList.reverse()\n",
    "print(\"*************\")\n",
    "print(aList)"
   ]
  },
  {
   "cell_type": "code",
   "execution_count": 58,
   "metadata": {},
   "outputs": [
    {
     "name": "stdout",
     "output_type": "stream",
     "text": [
      "[99, 45, 33, 8]\n"
     ]
    }
   ],
   "source": [
    "#Sort: sort the given list from ascending or descending\n",
    "\n",
    "blist = [8,99,45,33]\n",
    "blist.sort(reverse=True)\n",
    "print(blist)\n"
   ]
  },
  {
   "cell_type": "code",
   "execution_count": 59,
   "metadata": {},
   "outputs": [
    {
     "name": "stdout",
     "output_type": "stream",
     "text": [
      "2\n"
     ]
    }
   ],
   "source": [
    "#count: count the value in given list of elements\n",
    "\n",
    "aList = [123, 'xyz', 'zara', 'abc', 123, \"zara\"]\n",
    "print(aList.count(\"zara\"))"
   ]
  },
  {
   "cell_type": "code",
   "execution_count": null,
   "metadata": {},
   "outputs": [],
   "source": [
    "type(aList)"
   ]
  },
  {
   "cell_type": "markdown",
   "metadata": {},
   "source": [
    "## Tuples"
   ]
  },
  {
   "cell_type": "code",
   "execution_count": 60,
   "metadata": {},
   "outputs": [
    {
     "name": "stdout",
     "output_type": "stream",
     "text": [
      "('Street triple', 'Detona', 'Beneli', 8055)\n",
      "(1, 2, 3, 4, 5)\n",
      "()\n"
     ]
    },
    {
     "data": {
      "text/plain": [
       "(50,)"
      ]
     },
     "execution_count": 60,
     "metadata": {},
     "output_type": "execute_result"
    }
   ],
   "source": [
    "################################### Tuples ####################################\n",
    "\n",
    "\n",
    "## Create a tuple dataset\n",
    "tup1 = ('Street triple','Detona','Beneli', 8055)\n",
    "tup2 = (1, 2, 3, 4, 5 )\n",
    "print(tup1)\n",
    "print(tup2)\n",
    "\n",
    "### Create a empty tuple \n",
    "tup1 = ()\n",
    "print(tup1)\n",
    "\n",
    "#Create a single tuple\n",
    "tup1 = (50,)\n",
    "tup1"
   ]
  },
  {
   "cell_type": "code",
   "execution_count": 61,
   "metadata": {},
   "outputs": [
    {
     "data": {
      "text/plain": [
       "tuple"
      ]
     },
     "execution_count": 61,
     "metadata": {},
     "output_type": "execute_result"
    }
   ],
   "source": [
    "type(tup1)"
   ]
  },
  {
   "cell_type": "code",
   "execution_count": 62,
   "metadata": {},
   "outputs": [
    {
     "name": "stdout",
     "output_type": "stream",
     "text": [
      "Street triple\n",
      "(2, 3, 4, 5)\n"
     ]
    }
   ],
   "source": [
    "#Accessing Values in Tuples\n",
    "\n",
    "tup1 = ('Street triple','Detona','Beneli', 8055)\n",
    "print(tup1[0])\n",
    "\n",
    "tup2 = (1, 2, 3, 4, 5, 6, 7 )\n",
    "print(tup2[1:5])\n"
   ]
  },
  {
   "cell_type": "code",
   "execution_count": 63,
   "metadata": {},
   "outputs": [
    {
     "name": "stdout",
     "output_type": "stream",
     "text": [
      "(12, 34.56, 'abc', 'xyz')\n"
     ]
    }
   ],
   "source": [
    "# Updating Tuples\n",
    "tup1 = (12, 34.56)\n",
    "tup2 = ('abc', 'xyz')\n",
    "\n",
    "# So,create a new tuple as follows\n",
    "tup1 = tup1 + tup2\n",
    "print(tup1)\n"
   ]
  },
  {
   "cell_type": "code",
   "execution_count": 64,
   "metadata": {},
   "outputs": [
    {
     "name": "stdout",
     "output_type": "stream",
     "text": [
      "('Street triple', 'Detona', 'Beneli', 8055)\n"
     ]
    }
   ],
   "source": [
    "#Delete Tuple Elements\n",
    "tup = ('Street triple','Detona','Beneli', 8055)\n",
    "print(tup)"
   ]
  },
  {
   "cell_type": "code",
   "execution_count": 65,
   "metadata": {},
   "outputs": [
    {
     "ename": "TypeError",
     "evalue": "'tuple' object doesn't support item deletion",
     "output_type": "error",
     "traceback": [
      "\u001b[1;31m---------------------------------------------------------------------------\u001b[0m",
      "\u001b[1;31mTypeError\u001b[0m                                 Traceback (most recent call last)",
      "\u001b[1;32m<ipython-input-65-bc4a44cd3751>\u001b[0m in \u001b[0;36m<module>\u001b[1;34m\u001b[0m\n\u001b[0;32m      1\u001b[0m \u001b[1;31m#Delete Tuple Elements\u001b[0m\u001b[1;33m\u001b[0m\u001b[1;33m\u001b[0m\u001b[1;33m\u001b[0m\u001b[0m\n\u001b[0;32m      2\u001b[0m \u001b[0mtup\u001b[0m \u001b[1;33m=\u001b[0m \u001b[1;33m(\u001b[0m\u001b[1;34m'Street triple'\u001b[0m\u001b[1;33m,\u001b[0m\u001b[1;34m'Detona'\u001b[0m\u001b[1;33m,\u001b[0m\u001b[1;34m'Beneli'\u001b[0m\u001b[1;33m,\u001b[0m \u001b[1;36m8055\u001b[0m\u001b[1;33m)\u001b[0m\u001b[1;33m\u001b[0m\u001b[1;33m\u001b[0m\u001b[0m\n\u001b[1;32m----> 3\u001b[1;33m \u001b[1;32mdel\u001b[0m \u001b[0mtup\u001b[0m\u001b[1;33m[\u001b[0m\u001b[1;36m1\u001b[0m\u001b[1;33m]\u001b[0m \u001b[1;31m# We cannot delete individual items of tuple as it is immutable.\u001b[0m\u001b[1;33m\u001b[0m\u001b[1;33m\u001b[0m\u001b[0m\n\u001b[0m\u001b[0;32m      4\u001b[0m \u001b[0mprint\u001b[0m\u001b[1;33m(\u001b[0m\u001b[0mtup\u001b[0m\u001b[1;33m)\u001b[0m\u001b[1;33m\u001b[0m\u001b[1;33m\u001b[0m\u001b[0m\n",
      "\u001b[1;31mTypeError\u001b[0m: 'tuple' object doesn't support item deletion"
     ]
    }
   ],
   "source": [
    "#Delete Tuple Elements\n",
    "tup = ('Street triple','Detona','Beneli', 8055)\n",
    "del tup[1] # We cannot delete individual items of tuple as it is immutable.\n",
    "print(tup) "
   ]
  },
  {
   "cell_type": "code",
   "execution_count": 66,
   "metadata": {},
   "outputs": [],
   "source": [
    "# to delete the given tuple \n",
    "del(tup)"
   ]
  },
  {
   "cell_type": "markdown",
   "metadata": {},
   "source": [
    "## Sets"
   ]
  },
  {
   "cell_type": "code",
   "execution_count": 69,
   "metadata": {},
   "outputs": [
    {
     "name": "stdout",
     "output_type": "stream",
     "text": [
      "Normal Set\n",
      "{'d', 'a', 'c', 'b'}\n"
     ]
    }
   ],
   "source": [
    "# Sets and Frozen Sets\n",
    "# A normal Set\n",
    "normal_set = set([\"a\", \"b\",\"c\"]) \n",
    "normal_set.add(\"d\") \n",
    "  \n",
    "print(\"Normal Set\") \n",
    "print(normal_set) \n"
   ]
  },
  {
   "cell_type": "code",
   "execution_count": 70,
   "metadata": {},
   "outputs": [
    {
     "name": "stdout",
     "output_type": "stream",
     "text": [
      "Frozen Set\n",
      "frozenset({'f', 'g', 'e'})\n"
     ]
    }
   ],
   "source": [
    "# A frozen set \n",
    "frozen_set = frozenset([\"e\", \"f\", \"g\"]) \n",
    "\n",
    "print(\"Frozen Set\") \n",
    "print(frozen_set) \n"
   ]
  },
  {
   "cell_type": "code",
   "execution_count": 71,
   "metadata": {},
   "outputs": [
    {
     "ename": "AttributeError",
     "evalue": "'frozenset' object has no attribute 'add'",
     "output_type": "error",
     "traceback": [
      "\u001b[1;31m---------------------------------------------------------------------------\u001b[0m",
      "\u001b[1;31mAttributeError\u001b[0m                            Traceback (most recent call last)",
      "\u001b[1;32m<ipython-input-71-031678ea494e>\u001b[0m in \u001b[0;36m<module>\u001b[1;34m\u001b[0m\n\u001b[0;32m      1\u001b[0m \u001b[1;31m# adding a member to set in frozen set and should throw an error\u001b[0m\u001b[1;33m\u001b[0m\u001b[1;33m\u001b[0m\u001b[1;33m\u001b[0m\u001b[0m\n\u001b[1;32m----> 2\u001b[1;33m \u001b[0mfrozen_set\u001b[0m\u001b[1;33m.\u001b[0m\u001b[0madd\u001b[0m\u001b[1;33m(\u001b[0m\u001b[1;34m\"h\"\u001b[0m\u001b[1;33m)\u001b[0m\u001b[1;33m\u001b[0m\u001b[1;33m\u001b[0m\u001b[0m\n\u001b[0m",
      "\u001b[1;31mAttributeError\u001b[0m: 'frozenset' object has no attribute 'add'"
     ]
    }
   ],
   "source": [
    "# adding a member to set in frozen set and should throw an error\n",
    "frozen_set.add(\"h\")\n"
   ]
  },
  {
   "cell_type": "code",
   "execution_count": 72,
   "metadata": {},
   "outputs": [
    {
     "name": "stdout",
     "output_type": "stream",
     "text": [
      "set() set()\n"
     ]
    },
    {
     "data": {
      "text/plain": [
       "{1, 2, 3, 4, 5, 6, 7, 8, 9}"
      ]
     },
     "execution_count": 72,
     "metadata": {},
     "output_type": "execute_result"
    }
   ],
   "source": [
    "# Set Operations \n",
    "\n",
    "# Let us create sets \n",
    "set1 = set() # Null Set\n",
    "set2 = set() # Null Set\n",
    "print(set1,set2)\n",
    "\n",
    "# Adding elements to set1 \n",
    "for i in range(1, 10): \n",
    "    set1.add(i) \n",
    "\n",
    "set1\n"
   ]
  },
  {
   "cell_type": "code",
   "execution_count": 73,
   "metadata": {},
   "outputs": [
    {
     "data": {
      "text/plain": [
       "{3, 4, 5, 6, 7, 8, 9}"
      ]
     },
     "execution_count": 73,
     "metadata": {},
     "output_type": "execute_result"
    }
   ],
   "source": [
    "#Adding elements to set2\n",
    "\n",
    "for i in range(3, 10): \n",
    "    set2.add(i) \n",
    "set2\n"
   ]
  },
  {
   "cell_type": "code",
   "execution_count": 74,
   "metadata": {},
   "outputs": [
    {
     "name": "stdout",
     "output_type": "stream",
     "text": [
      "Union of Set1 & Set2: Set3 =  {1, 2, 3, 4, 5, 6, 7, 8, 9}\n",
      "Intersection of Set1 & Set2: Set4 =  {3, 4, 5, 6, 7, 8, 9}\n"
     ]
    }
   ],
   "source": [
    "# Union of set1 and set2 \n",
    "# Uninon shows all the values in set1 ans set2\n",
    "set3 = set1 | set2 # set1.union(set2) \n",
    "print(\"Union of Set1 & Set2: Set3 = \", set3) \n",
    "\n",
    "# Intersection of set1 and set2 \n",
    "# Intersection shows common values in set1 and set2 \n",
    "set4 = set1 & set2# set1.intersection(set2) \n",
    "print(\"Intersection of Set1 & Set2: Set4 = \", set4)     \n"
   ]
  },
  {
   "cell_type": "code",
   "execution_count": 75,
   "metadata": {},
   "outputs": [
    {
     "name": "stdout",
     "output_type": "stream",
     "text": [
      "Set3 is superset of Set4\n"
     ]
    }
   ],
   "source": [
    "# Lets us check is there any relationship between set3 and set4\n",
    "# Checking relation between set3 and set4 \n",
    "if set3 > set4: # set3.issuperset(set4) \n",
    "    print(\"Set3 is superset of Set4\") \n",
    "elif set3 < set4: # set3.issubset(set4) \n",
    "    print(\"Set3 is subset of Set4\") \n",
    "else : # set3 == set4 \n",
    "    print(\"Set3 is same as Set4\") \n"
   ]
  },
  {
   "cell_type": "code",
   "execution_count": 76,
   "metadata": {},
   "outputs": [
    {
     "name": "stdout",
     "output_type": "stream",
     "text": [
      "\n",
      "\n",
      "Set4 is subset of Set3\n",
      "\n",
      "\n"
     ]
    }
   ],
   "source": [
    "# displaying relation between set4 and set3 \n",
    "if set4 < set3: # set4.issubset(set3)\n",
    "    print(\"\\n\")\n",
    "    print(\"Set4 is subset of Set3\") \n",
    "    print(\"\\n\") "
   ]
  },
  {
   "cell_type": "code",
   "execution_count": 77,
   "metadata": {},
   "outputs": [
    {
     "name": "stdout",
     "output_type": "stream",
     "text": [
      "Elements in Set3 and not in Set4: Set5 =  {1, 2}\n",
      "\n",
      "\n"
     ]
    }
   ],
   "source": [
    "# difference between set3 and set4 \n",
    "set5 = set3 - set4 \n",
    "print(\"Elements in Set3 and not in Set4: Set5 = \", set5) \n",
    "print(\"\\n\") \n"
   ]
  },
  {
   "cell_type": "code",
   "execution_count": 78,
   "metadata": {},
   "outputs": [
    {
     "name": "stdout",
     "output_type": "stream",
     "text": [
      "Set4 and Set5 have nothing in common\n",
      "\n"
     ]
    }
   ],
   "source": [
    "# check if set4 and set5 are disjoint sets \n",
    "if set4.isdisjoint(set5): \n",
    "    print(\"Set4 and Set5 have nothing in common\\n\") \n"
   ]
  },
  {
   "cell_type": "code",
   "execution_count": 79,
   "metadata": {},
   "outputs": [
    {
     "name": "stdout",
     "output_type": "stream",
     "text": [
      "After applying clear on sets Set5: \n",
      "Set5 =  set()\n"
     ]
    }
   ],
   "source": [
    "# Removing all the values of set5 \n",
    "set5.clear() \n",
    "  \n",
    "print(\"After applying clear on sets Set5: \") \n",
    "print(\"Set5 = \", set5) \n"
   ]
  },
  {
   "cell_type": "markdown",
   "metadata": {},
   "source": [
    "## Strings"
   ]
  },
  {
   "cell_type": "code",
   "execution_count": 80,
   "metadata": {},
   "outputs": [
    {
     "name": "stdout",
     "output_type": "stream",
     "text": [
      "A\n",
      "t\n",
      "dit\n",
      "y\n",
      "ty\n"
     ]
    }
   ],
   "source": [
    "####### Strings ############\n",
    "\n",
    "\n",
    "#Accesing Value in Strings   \n",
    "Name = \"Aditya\"\n",
    "  \n",
    "print(Name[0])\n",
    "\n",
    "print(Name[3])\n",
    "\n",
    "print(Name[1:4])\n",
    "\n",
    "print(Name[-2])\n",
    "\n",
    "print(Name[-3:-1])\n",
    "    \n"
   ]
  },
  {
   "cell_type": "code",
   "execution_count": 81,
   "metadata": {},
   "outputs": [
    {
     "name": "stdout",
     "output_type": "stream",
     "text": [
      "Updated String :-  Hello World!  Python\n",
      "Updated String :-  Hello Python\n"
     ]
    }
   ],
   "source": [
    "#Update Strings    \n",
    "var = 'Hello World!  '\n",
    "print (\"Updated String :- \", var + 'Python')\n",
    "print (\"Updated String :- \", var[:6] + 'Python')\n"
   ]
  },
  {
   "cell_type": "code",
   "execution_count": 82,
   "metadata": {},
   "outputs": [
    {
     "name": "stdout",
     "output_type": "stream",
     "text": [
      "My name is Nikhil and weight is 65 kgs!\n"
     ]
    }
   ],
   "source": [
    "# String Formating \n",
    "print(\"My name is %s and weight is %d kgs!\" % ('Nikhil', 65))\n"
   ]
  },
  {
   "cell_type": "code",
   "execution_count": 84,
   "metadata": {},
   "outputs": [
    {
     "name": "stdout",
     "output_type": "stream",
     "text": [
      "Enter your name: sharat\n",
      "Enter your Weight: 20\n",
      "My name is sharat and my Weight is 20\n"
     ]
    },
    {
     "data": {
      "text/plain": [
       "int"
      ]
     },
     "execution_count": 84,
     "metadata": {},
     "output_type": "execute_result"
    }
   ],
   "source": [
    "#Ex :1 \n",
    "\n",
    "Name = input(\"Enter your name: \")\n",
    "Weight = eval(input(\"Enter your Weight: \"))\n",
    "print(\"My name is %s and my Weight is %d\" %(Name,Weight))\n",
    "\n",
    "type(Weight)\n"
   ]
  },
  {
   "cell_type": "code",
   "execution_count": null,
   "metadata": {},
   "outputs": [],
   "source": [
    "#Triple Quotes\n",
    "\n",
    "\n",
    "# my name is 'nikhil' and my age is '25'\n",
    "\n",
    "Statement = \"\"\"my name is \"nikhil\" and my age is \"25\".\"\"\"\n",
    "type(Statement)"
   ]
  },
  {
   "cell_type": "code",
   "execution_count": 85,
   "metadata": {},
   "outputs": [
    {
     "name": "stdout",
     "output_type": "stream",
     "text": [
      "<class 'str'>\n",
      "Nikhil\n",
      "NIKHIL\n"
     ]
    }
   ],
   "source": [
    "Name = \"nikhil\"\n",
    "print(type(Name))\n",
    "\n",
    "# To make first letter capital\n",
    "print(Name.capitalize())\n",
    "print(Name.upper())\n"
   ]
  },
  {
   "cell_type": "code",
   "execution_count": 86,
   "metadata": {},
   "outputs": [
    {
     "data": {
      "text/plain": [
       "'                      nikhil                      '"
      ]
     },
     "execution_count": 86,
     "metadata": {},
     "output_type": "execute_result"
    }
   ],
   "source": [
    "# To make string at center in given spaces\n",
    "Name.center(50)\n"
   ]
  },
  {
   "cell_type": "code",
   "execution_count": 87,
   "metadata": {},
   "outputs": [
    {
     "name": "stdout",
     "output_type": "stream",
     "text": [
      "The count is: 4\n"
     ]
    }
   ],
   "source": [
    "#count() method returns the number of occurrences of the substring in the given string.\n",
    "string = \"nikhil is trainer\"\n",
    "\n",
    "substring = \"i\"\n",
    "\n",
    "count = string.count(substring)\n",
    "count\n",
    "\n",
    "print(\"The count is:\", count)\n"
   ]
  },
  {
   "cell_type": "code",
   "execution_count": 88,
   "metadata": {},
   "outputs": [
    {
     "name": "stdout",
     "output_type": "stream",
     "text": [
      "The count is: 1\n"
     ]
    }
   ],
   "source": [
    "#Count number of occurrences of a given substring using start and end\n",
    "# define string\n",
    "string = \"nikhil is trainer\"\n",
    "substring = \"i\"\n",
    "\n",
    "# count after first 'i' and before the last 'i'\n",
    "count = string.count(substring, 8, 25)\n",
    "count\n",
    "# print count\n",
    "print(\"The count is:\", count)\n"
   ]
  },
  {
   "cell_type": "code",
   "execution_count": 90,
   "metadata": {},
   "outputs": [
    {
     "name": "stdout",
     "output_type": "stream",
     "text": [
      "True\n"
     ]
    },
    {
     "data": {
      "text/plain": [
       "False"
      ]
     },
     "execution_count": 90,
     "metadata": {},
     "output_type": "execute_result"
    }
   ],
   "source": [
    "##Returns true if string has at least 1 character and all characters are alphanumeric and false otherwise.\n",
    "\n",
    "Num = 'thishi34';  # No space in this string\n",
    "type(Num)\n",
    "print(Num.isalnum())\n",
    "\n",
    "Num = \"this is string examplehi!!!\";\n",
    "Num.isalnum()\n"
   ]
  },
  {
   "cell_type": "code",
   "execution_count": 91,
   "metadata": {},
   "outputs": [
    {
     "name": "stdout",
     "output_type": "stream",
     "text": [
      "True\n"
     ]
    },
    {
     "data": {
      "text/plain": [
       "False"
      ]
     },
     "execution_count": 91,
     "metadata": {},
     "output_type": "execute_result"
    }
   ],
   "source": [
    "#This method returns true if all characters in the string are alphabetic and there is at least one character, false otherwise.\n",
    "Num = \"thisis\";  # No space & digit in this string\n",
    "print(Num.isalpha())\n",
    "\n",
    "Num = \"this is string example0909090!!!\";\n",
    "Num.isalpha()\n"
   ]
  },
  {
   "cell_type": "code",
   "execution_count": 92,
   "metadata": {},
   "outputs": [
    {
     "name": "stdout",
     "output_type": "stream",
     "text": [
      "<class 'str'>\n",
      "True\n"
     ]
    },
    {
     "data": {
      "text/plain": [
       "False"
      ]
     },
     "execution_count": 92,
     "metadata": {},
     "output_type": "execute_result"
    }
   ],
   "source": [
    "#This method returns true if all characters in the string are digits and there is at least one character, false otherwise.\n",
    "\n",
    "Num = \"123456\";  # Only digit in this string\n",
    "print(type(Num))\n",
    "print(Num.isdigit())\n",
    "\n",
    "Num = \"this is string example!!!\";\n",
    "Num.isdigit()\n"
   ]
  },
  {
   "cell_type": "code",
   "execution_count": 93,
   "metadata": {},
   "outputs": [
    {
     "data": {
      "text/plain": [
       "'this is string example!!!'"
      ]
     },
     "execution_count": 93,
     "metadata": {},
     "output_type": "execute_result"
    }
   ],
   "source": [
    "#This method returns a copy of the string in which all case-based characters have been lowercased.\n",
    "Num = \"THIS IS STRING EXAMPLE!!!\";\n",
    "A = Num.lower()\n",
    "A\n"
   ]
  },
  {
   "cell_type": "code",
   "execution_count": 94,
   "metadata": {},
   "outputs": [
    {
     "data": {
      "text/plain": [
       "'THIS IS STRING EXAMPLE!!!'"
      ]
     },
     "execution_count": 94,
     "metadata": {},
     "output_type": "execute_result"
    }
   ],
   "source": [
    "#This method returns a copy of the string in which all case-based characters have been Uppercase.\n",
    "Num = \"this is string example!!!\";\n",
    "\n",
    "Num.upper()\n"
   ]
  },
  {
   "cell_type": "code",
   "execution_count": 95,
   "metadata": {},
   "outputs": [
    {
     "name": "stdout",
     "output_type": "stream",
     "text": [
      "it was string example!!! was really a string was was was was \n",
      "it was string example!!! was really a string was is is is \n"
     ]
    }
   ],
   "source": [
    "#The following example shows the usage of replace() method.\n",
    "\n",
    "reply = \"it is string example!!! is really a string is is is is \"\n",
    "print(reply.replace(\"is\", \"was\"))\n",
    "print(reply.replace(\"is\", \"was\", 3))\n",
    "\n"
   ]
  },
  {
   "cell_type": "code",
   "execution_count": 96,
   "metadata": {},
   "outputs": [
    {
     "name": "stdout",
     "output_type": "stream",
     "text": [
      "['Line1-abcdef', 'Line2-abc', 'Line3-abcd']\n",
      "['Line1-abcdef', '\\nLine2-abc \\nLine3-abcd']\n"
     ]
    }
   ],
   "source": [
    "#The following example shows the usage of split() method.\n",
    "split1 = \"Line1-abcdef \\nLine2-abc \\nLine3-abcd\";\n",
    "print(split1.split( ))\n",
    "print(split1.split(' ', 1 ))\n",
    "\n"
   ]
  },
  {
   "cell_type": "markdown",
   "metadata": {},
   "source": [
    "## Dictionary"
   ]
  },
  {
   "cell_type": "code",
   "execution_count": 97,
   "metadata": {},
   "outputs": [
    {
     "name": "stdout",
     "output_type": "stream",
     "text": [
      "{'Name': 'Nikhil', 'Age': 25, 'bike': 'Beneli'}\n",
      "Nikhil\n",
      "25\n"
     ]
    }
   ],
   "source": [
    "#Accessing Values in Dictionary\n",
    "dict1 = {'Name': 'Nikhil', 'Age': 25, 'bike': 'Beneli'}\n",
    "print(dict1)\n",
    "print(dict1['Name'])\n",
    "print(dict1['Age'])   \n"
   ]
  },
  {
   "cell_type": "code",
   "execution_count": 98,
   "metadata": {},
   "outputs": [
    {
     "data": {
      "text/plain": [
       "{'Name': 'Nikhil', 'Age': 27, 'bike': 'Beneli'}"
      ]
     },
     "execution_count": 98,
     "metadata": {},
     "output_type": "execute_result"
    }
   ],
   "source": [
    "##Updating Dictionary\n",
    "dict1 = {'Name': 'Nikhil', 'Age': 25, 'bike': 'Beneli'}\n",
    "\n",
    "# update existing entry\n",
    "dict1['Age'] = 27\n",
    "# Add new entry\n",
    "dict1"
   ]
  },
  {
   "cell_type": "code",
   "execution_count": 99,
   "metadata": {},
   "outputs": [
    {
     "data": {
      "text/plain": [
       "{'Name': 'Nikhil',\n",
       " 'Age': 27,\n",
       " 'bike': 'Beneli',\n",
       " 'School': 'DPS School',\n",
       " 'sal': 50000}"
      ]
     },
     "execution_count": 99,
     "metadata": {},
     "output_type": "execute_result"
    }
   ],
   "source": [
    "dict1['School'] = \"DPS School\"\n",
    "dict1['sal'] = 50000\n",
    "\n",
    "dict1"
   ]
  },
  {
   "cell_type": "code",
   "execution_count": 100,
   "metadata": {},
   "outputs": [
    {
     "data": {
      "text/plain": [
       "{'Age': 25, 'bike': 'Beneli'}"
      ]
     },
     "execution_count": 100,
     "metadata": {},
     "output_type": "execute_result"
    }
   ],
   "source": [
    "#Delete Dictionary Elements\n",
    "dict1 = {'Name': 'Nikhil', 'Age': 25, 'bike': 'Beneli'}\n",
    "\n",
    "# remove entry with key 'Name'\n",
    "del(dict1['Name'])\n",
    "dict1"
   ]
  },
  {
   "cell_type": "code",
   "execution_count": 103,
   "metadata": {},
   "outputs": [
    {
     "ename": "NameError",
     "evalue": "name 'dict1' is not defined",
     "output_type": "error",
     "traceback": [
      "\u001b[1;31m---------------------------------------------------------------------------\u001b[0m",
      "\u001b[1;31mNameError\u001b[0m                                 Traceback (most recent call last)",
      "\u001b[1;32m<ipython-input-103-c61e69504543>\u001b[0m in \u001b[0;36m<module>\u001b[1;34m\u001b[0m\n\u001b[0;32m      1\u001b[0m \u001b[1;31m# remove all entries in given dictionary\u001b[0m\u001b[1;33m\u001b[0m\u001b[1;33m\u001b[0m\u001b[1;33m\u001b[0m\u001b[0m\n\u001b[1;32m----> 2\u001b[1;33m \u001b[0mdict1\u001b[0m\u001b[1;33m.\u001b[0m\u001b[0mclear\u001b[0m\u001b[1;33m(\u001b[0m\u001b[1;33m)\u001b[0m\u001b[1;33m\u001b[0m\u001b[1;33m\u001b[0m\u001b[0m\n\u001b[0m\u001b[0;32m      3\u001b[0m \u001b[0mdict1\u001b[0m\u001b[1;33m\u001b[0m\u001b[1;33m\u001b[0m\u001b[0m\n",
      "\u001b[1;31mNameError\u001b[0m: name 'dict1' is not defined"
     ]
    }
   ],
   "source": [
    "# remove all entries in given dictionary\n",
    "dict1.clear()\n",
    "dict1"
   ]
  },
  {
   "cell_type": "code",
   "execution_count": 102,
   "metadata": {},
   "outputs": [
    {
     "ename": "NameError",
     "evalue": "name 'dict1' is not defined",
     "output_type": "error",
     "traceback": [
      "\u001b[1;31m---------------------------------------------------------------------------\u001b[0m",
      "\u001b[1;31mNameError\u001b[0m                                 Traceback (most recent call last)",
      "\u001b[1;32m<ipython-input-102-584680430a58>\u001b[0m in \u001b[0;36m<module>\u001b[1;34m\u001b[0m\n\u001b[0;32m      1\u001b[0m \u001b[1;31m# delete entire dictionary\u001b[0m\u001b[1;33m\u001b[0m\u001b[1;33m\u001b[0m\u001b[1;33m\u001b[0m\u001b[0m\n\u001b[0;32m      2\u001b[0m \u001b[1;32mdel\u001b[0m\u001b[1;33m(\u001b[0m\u001b[0mdict1\u001b[0m\u001b[1;33m)\u001b[0m \u001b[1;33m;\u001b[0m\u001b[1;33m\u001b[0m\u001b[1;33m\u001b[0m\u001b[0m\n\u001b[1;32m----> 3\u001b[1;33m \u001b[0mdict1\u001b[0m\u001b[1;33m\u001b[0m\u001b[1;33m\u001b[0m\u001b[0m\n\u001b[0m",
      "\u001b[1;31mNameError\u001b[0m: name 'dict1' is not defined"
     ]
    }
   ],
   "source": [
    "# delete entire dictionary\n",
    "del(dict1) ;       \n",
    "dict1"
   ]
  },
  {
   "cell_type": "markdown",
   "metadata": {},
   "source": [
    "# Conditional Statements"
   ]
  },
  {
   "cell_type": "code",
   "execution_count": 104,
   "metadata": {},
   "outputs": [
    {
     "name": "stdout",
     "output_type": "stream",
     "text": [
      "you are male\n"
     ]
    }
   ],
   "source": [
    "################################### Conditional Statement ###########################################\n",
    "\n",
    "# Example:1 - simple if and else conditions when you have  two  conditions\n",
    "is_male = True\n",
    "\n",
    "if is_male:\n",
    "    print(\"you are male\")\n",
    "else:\n",
    "    print(\"you are female\")\n"
   ]
  },
  {
   "cell_type": "code",
   "execution_count": 105,
   "metadata": {},
   "outputs": [
    {
     "name": "stdout",
     "output_type": "stream",
     "text": [
      "you are short male\n"
     ]
    }
   ],
   "source": [
    "# Example: 2 - if you have more than two condition use elif \n",
    "is_male = True\n",
    "is_tall = False\n",
    "\n",
    "if is_male and is_tall:              ## and & not operator \n",
    "    print(\"you are tall male\")\n",
    "elif is_male and not(is_tall):\n",
    "    print(\"you are short male\")\n",
    "elif not(is_male) and is_tall:\n",
    "    print(\"you are not male but tall\")\n",
    "else:\n",
    "    print(\"you are not male and not tall\")\n",
    "    \n"
   ]
  },
  {
   "cell_type": "code",
   "execution_count": 108,
   "metadata": {},
   "outputs": [
    {
     "name": "stdout",
     "output_type": "stream",
     "text": [
      "You score good points\n",
      "you win\n",
      "You win in young age\n"
     ]
    }
   ],
   "source": [
    "#Example:  3 - conditional inside a conditional \n",
    "### Nested if Statement\n",
    "\n",
    "score = 500\n",
    "money = 5001\n",
    "age = 25\n",
    "\n",
    "if score > 100:\n",
    "    print(\"You score good points\")\n",
    "    \n",
    "    if money >= 5000:\n",
    "        print(\"you win\")\n",
    "        \n",
    "        if age >= 30:\n",
    "            print(\"You win in middle age\")\n",
    "        else:\n",
    "            print(\"You win in young age\")\n",
    "    else:\n",
    "        print(\"you have a high points but you do not have enough money\")\n",
    "        \n",
    "else:\n",
    "    print(\"your loser\")\n"
   ]
  },
  {
   "cell_type": "markdown",
   "metadata": {},
   "source": [
    "# Loops"
   ]
  },
  {
   "cell_type": "code",
   "execution_count": null,
   "metadata": {},
   "outputs": [],
   "source": [
    "############################################# Loops ######################################################\n",
    "\n",
    "# There are two loops pre-loop and post-loop: pre-loop - checking the condition and calculating next, post-loop – calculating first and checking the condition\n",
    "# There are two types of loops - infinite loop and finite loop, infinite loop is called while loop and finite loop is called  for loop\n"
   ]
  },
  {
   "cell_type": "markdown",
   "metadata": {},
   "source": [
    "## While Loop"
   ]
  },
  {
   "cell_type": "code",
   "execution_count": 111,
   "metadata": {},
   "outputs": [
    {
     "data": {
      "text/plain": [
       "0.015763728465539528"
      ]
     },
     "execution_count": 111,
     "metadata": {},
     "output_type": "execute_result"
    }
   ],
   "source": [
    "random.random()"
   ]
  },
  {
   "cell_type": "code",
   "execution_count": 113,
   "metadata": {},
   "outputs": [
    {
     "name": "stdout",
     "output_type": "stream",
     "text": [
      "17\n",
      "New Number: 8\n",
      "number is too small\n",
      "New Number: 0\n",
      "sorry that you are giveup!\n"
     ]
    }
   ],
   "source": [
    "# While Loop\n",
    "\n",
    "# Example for 'While loop'\n",
    "\n",
    "import random \n",
    "\n",
    "n = 20\n",
    "\n",
    "random_number = int(n * random.random())\n",
    "print(random_number)\n",
    "\n",
    "guess = 0\n",
    "\n",
    "while guess != random_number:\n",
    "    guess = int(input(\"New Number: \"))\n",
    "    if guess > 0:\n",
    "        if guess > random_number:\n",
    "            print(\"number is too large\")\n",
    "        elif guess < random_number:\n",
    "            print(\"number is too small\")\n",
    "    else:\n",
    "        print(\"sorry that you are giveup!\")\n",
    "        break\n",
    "else:\n",
    "    print(\"Congratulations. YOU WON!\")\n"
   ]
  },
  {
   "cell_type": "markdown",
   "metadata": {},
   "source": [
    "## While-else\n",
    "### If the else statement is used with a while loop, the else statement is executed when the condition becomes false."
   ]
  },
  {
   "cell_type": "code",
   "execution_count": 114,
   "metadata": {},
   "outputs": [
    {
     "name": "stdout",
     "output_type": "stream",
     "text": [
      "0  is  less than 5\n",
      "1  is  less than 5\n",
      "2  is  less than 5\n",
      "3  is  less than 5\n",
      "4  is  less than 5\n",
      "5  is not less than 5\n"
     ]
    }
   ],
   "source": [
    "\n",
    "count = 0\n",
    "while count < 5:\n",
    "   print (count, \" is  less than 5\")\n",
    "   count = count + 1\n",
    "else:\n",
    "   print (count, \" is not less than 5\")"
   ]
  },
  {
   "cell_type": "markdown",
   "metadata": {},
   "source": [
    "## for loop"
   ]
  },
  {
   "cell_type": "code",
   "execution_count": 117,
   "metadata": {},
   "outputs": [
    {
     "name": "stdout",
     "output_type": "stream",
     "text": [
      "current snack:  pizza\n",
      "current snack:  burger\n",
      "current snack:  shawarma\n",
      "current snack:  franky\n",
      "Good day!\n"
     ]
    }
   ],
   "source": [
    "# for Loop\n",
    "    \n",
    "#Example for 'for loop' \n",
    "\n",
    "#Example : 1\n",
    "    \n",
    "snacks = ['pizza','burger','shawarma','franky']\n",
    "\n",
    "for snack in snacks:\n",
    "    print(\"current snack: \", snack)\n",
    "\n",
    "print(\"Good day!\")\n"
   ]
  },
  {
   "cell_type": "code",
   "execution_count": 120,
   "metadata": {},
   "outputs": [
    {
     "name": "stdout",
     "output_type": "stream",
     "text": [
      "number: 4\n",
      "factorial =   24\n"
     ]
    }
   ],
   "source": [
    "#Example: 2\n",
    "\n",
    "num = int(input(\"number: \"))\n",
    "factorial = 1 \n",
    "\n",
    "if num < 0:\n",
    "    print(\"must be positive\")\n",
    "elif num == 0:\n",
    "    print(\"factorial = 1\")\n",
    "else:\n",
    "    for i in range(1,num+1):\n",
    "        factorial = factorial * i\n",
    "    print(\"factorial =  \" , factorial)\n"
   ]
  },
  {
   "cell_type": "markdown",
   "metadata": {},
   "source": [
    "## For-else\n",
    "### If the else statement is used with a for loop, the else block is executed only if for loops terminates normally (and not by encountering break statement)\n"
   ]
  },
  {
   "cell_type": "code",
   "execution_count": 121,
   "metadata": {},
   "outputs": [
    {
     "name": "stdout",
     "output_type": "stream",
     "text": [
      "the list doesnot contain even number\n"
     ]
    }
   ],
   "source": [
    "# Example\n",
    "numbers = [11,33,55,39,55,75,37,21,23,41,13]\n",
    "\n",
    "for num in numbers:\n",
    "   if num%2 == 0:\n",
    "      print ('the list contains an even number')\n",
    "      break\n",
    "else:\n",
    "   print ('the list doesnot contain even number')"
   ]
  },
  {
   "cell_type": "markdown",
   "metadata": {},
   "source": [
    "## Iterators\n",
    "Iterator is an object which allows a programmer to traverse through all the elements of a collection, regardless of its specific implementation."
   ]
  },
  {
   "cell_type": "code",
   "execution_count": null,
   "metadata": {},
   "outputs": [],
   "source": [
    "iterable_value = 'Machine Learning'\n",
    "iterable_obj = iter(iterable_value) \n",
    "  \n",
    "while True: \n",
    "    try: \n",
    "  \n",
    "        # Iterate by calling next \n",
    "        item = next(iterable_obj) \n",
    "        print(item) \n",
    "    except StopIteration: \n",
    "  \n",
    "        # exception will happen when iteration will over \n",
    "        break"
   ]
  },
  {
   "cell_type": "markdown",
   "metadata": {},
   "source": [
    "## Generator\n",
    "A generator is a function that produces or yields a sequence of values using yield method.\n",
    "\n",
    "When a generator function is called, it returns a generator object without even beginning execution of the function. When the next() method is called for the first time, the function starts executing until it reaches the yield statement, which returns the yielded value. The yield keeps track i.e. remembers the last execution and the second next() call continues from previous value."
   ]
  },
  {
   "cell_type": "code",
   "execution_count": null,
   "metadata": {},
   "outputs": [],
   "source": [
    "# A simple generator for Fibonacci Numbers \n",
    "def fib(limit): \n",
    "      \n",
    "    # Initialize first two Fibonacci Numbers  \n",
    "    a, b = 0, 1\n",
    "  \n",
    "    # One by one yield next Fibonacci Number \n",
    "    while a < limit: \n",
    "        yield a \n",
    "        a, b = b, a + b \n",
    "\n",
    "# create a generator object \n",
    "x = fib(5) \n",
    "  \n",
    "# Iterating over the generator object using next \n",
    "while True:\n",
    "   try:\n",
    "      print (next(x), end=\"\\n\")\n",
    "   except StopIteration:\n",
    "      break\n"
   ]
  },
  {
   "cell_type": "markdown",
   "metadata": {},
   "source": [
    "# Functions"
   ]
  },
  {
   "cell_type": "code",
   "execution_count": null,
   "metadata": {},
   "outputs": [],
   "source": [
    "############################### define function #########################################\n",
    "\n",
    "#Example for advantage of functions \n",
    "    \n",
    "#Imagine there are 1000 of code is created based on requirement without using functions \n",
    "# If same requirement is repeated in the same code as given below with reference of line numbers\n",
    "print(\"Hello Function.nikhil?\") #10\n",
    "print(\"Hello Function.nikhil?\") #14\n",
    "print(\"Hello Function.nikhil?\") #40\n",
    "print(\"Hello Function.nikhil?\") #67\n",
    "\n"
   ]
  },
  {
   "cell_type": "code",
   "execution_count": null,
   "metadata": {},
   "outputs": [],
   "source": [
    "# how to create function? \n",
    "def hello_func():\n",
    "    print(\"Hello Function.nikhil\")\n",
    "\n",
    "# call the function as and when required than writing whole code again \n",
    "hello_func() #10\n",
    "hello_func() #14\n",
    "hello_func() #40\n",
    "hello_func() #67\n",
    "\n",
    "# Advantages about functions - optimize code, good performance, fast, easy to access etc \n"
   ]
  },
  {
   "cell_type": "code",
   "execution_count": null,
   "metadata": {},
   "outputs": [],
   "source": [
    "# simple function \n",
    "def hello(name,age,sal):                 \n",
    "    print(\"hi\",name,\"your age:\",age,\"your salary:\",sal)\n",
    "\n",
    "hello(\"Nikhil\",25,50000)\n"
   ]
  },
  {
   "cell_type": "code",
   "execution_count": null,
   "metadata": {},
   "outputs": [],
   "source": [
    "# formal and actual arguments #\n",
    "\n",
    "# function defination #\n",
    "def add(a,b):\n",
    "    return a+b\n",
    "# funtion call#\n",
    "add(2,3)\n",
    "# Formal arguments are identifiers used in the function definition to represent corresponding actual arguments.\n",
    "# Actual arguments are values(or variables)/expressions that are used inside the parentheses of a function call.\n"
   ]
  },
  {
   "cell_type": "code",
   "execution_count": null,
   "metadata": {},
   "outputs": [],
   "source": [
    "# positional arguments #\n",
    "\n",
    "def rectangleArea(width, height):\n",
    "    return width * height\n",
    "\n",
    "print (rectangleArea(width=1, height=2))\n",
    "\n",
    "# A positional argument is a name that is not followed by an equal sign (=) and default value.\n"
   ]
  },
  {
   "cell_type": "code",
   "execution_count": null,
   "metadata": {},
   "outputs": [],
   "source": [
    "# keyword arguments #\n",
    "# in this argument key=value syntax\n",
    "def my_function(child3, child2, child1):\n",
    "  print(\"The youngest child is \" + child3)\n",
    "\n",
    "my_function(child1 = \"Emil\", child2 = \"Tobias\", child3 = \"Linus\")\n",
    "\n",
    "# in this keys are child1,child2,child3\n",
    "# The phrase Keyword Arguments are often shortened to kwargs in Python documentations."
   ]
  },
  {
   "cell_type": "code",
   "execution_count": null,
   "metadata": {},
   "outputs": [],
   "source": [
    "# variable arguments\n",
    "# *args for variable number of arguments \n",
    "def myFun(*argv):  \n",
    "    for arg in argv:  \n",
    "        print (arg) \n",
    "    \n",
    "myFun('Hello', 'Welcome', 'to', '360digitmg')  \n",
    "\n",
    "\n",
    "#First argument through *argv : Hello\n",
    "#Next argument through *argv : Welcome\n",
    "#Next argument through *argv : to\n",
    "#Next argument through *argv : 360digitmg"
   ]
  },
  {
   "cell_type": "code",
   "execution_count": null,
   "metadata": {},
   "outputs": [],
   "source": [
    "# Using **kwargs to pass the variable keyword arguments to the function \n",
    "# in this function kwargs=data\n",
    "def intro(**data):\n",
    "    print(\"\\nData type of argument:\",type(data))\n",
    "\n",
    "    for key, value in data.items():\n",
    "        print(\"{} is {}\".format(key,value))\n",
    "\n",
    "intro(Firstname=\"Sita\", Lastname=\"Sharma\", Age=22, Phone=1234567890)\n",
    "intro(Firstname=\"John\", Lastname=\"Wood\", Email=\"johnwood@nomail.com\", Country=\"Wakanda\", Age=25, Phone=9876543210)"
   ]
  },
  {
   "cell_type": "code",
   "execution_count": null,
   "metadata": {},
   "outputs": [],
   "source": [
    "# cube of n value \n",
    "def cube(num):                  \n",
    "    return (num*num*num)\n",
    "\n",
    "cube(3) \n"
   ]
  },
  {
   "cell_type": "code",
   "execution_count": null,
   "metadata": {},
   "outputs": [],
   "source": [
    "# not defined any value but just defined function \n",
    "def hello_func():              \n",
    "    pass\n"
   ]
  },
  {
   "cell_type": "markdown",
   "metadata": {},
   "source": [
    "## Function call stack\n",
    "### locals(), globals()"
   ]
  },
  {
   "cell_type": "code",
   "execution_count": null,
   "metadata": {},
   "outputs": [],
   "source": [
    "age = 23 #Age Global variable\n",
    "name = \"Somesh\" # Name Global Variable\n",
    "places = [\"Nagpur\", \"Mumbai\", \"Pune\"] #Places Global Variable\n",
    "\n",
    "def local(): #Function declaration  \n",
    "    age = 1 #Age Local Variable\n",
    "    name = 'Aayush' # Name Local Variable\n",
    "    print(\"%s is %i years old and lives in %s.\" % (name, age, places[0])) #Function Definition for Local Variable\n",
    "    #In the Above line of code name and age variables are Local and place is Global Variable \n",
    "    return\n",
    "\n",
    "local() #Function calls Local() Variables\n",
    "print(\"##############\")\n",
    "\n",
    "print(\"%s is %i years old and lives in %s.\" % (name, age, places[2])) #Calling Definition for Global Variable\n",
    "#In the Above line of code name,age and place are Global Variables "
   ]
  },
  {
   "cell_type": "markdown",
   "metadata": {},
   "source": [
    "# Modules"
   ]
  },
  {
   "cell_type": "code",
   "execution_count": null,
   "metadata": {},
   "outputs": [],
   "source": [
    "################ Modules ######################\n",
    "\n",
    "# Modules are also called as packages \n",
    "# how to call package is : Import package_name\n",
    "    \n",
    "#Example:1\n",
    "\n",
    "#maths related package\n",
    "import math\n",
    "\n",
    "math.sqrt(16), math.pow(2,5)\n"
   ]
  },
  {
   "cell_type": "code",
   "execution_count": null,
   "metadata": {},
   "outputs": [],
   "source": [
    "#Example:2\n",
    "\n",
    "#calendar related package \n",
    "import calendar \n",
    "\n",
    "cal = calendar.month(2018,1)\n",
    "\n",
    "print(cal)\n",
    "\n",
    "\n",
    "calendar.isleap(2018), calendar.isleap(2020)\n"
   ]
  },
  {
   "cell_type": "markdown",
   "metadata": {},
   "source": [
    "### How to create own module? "
   ]
  },
  {
   "cell_type": "code",
   "execution_count": null,
   "metadata": {},
   "outputs": [],
   "source": [
    "\n",
    "# create a new python file \"find_area.py\"with different fuctions as given below\n",
    "#\n",
    "# def cal_area_triangle(length,hight):\n",
    "#    return 1/2*length*hight\n",
    "\n",
    "# def cal_area_sqr(length):\n",
    "#    return length*length\n",
    "\n",
    "\n",
    "# def cal_area_rec(leng,bth):\n",
    "#    return leng*bth\n",
    "\n",
    "# def cal_area_cir(r):\n",
    "#    return 3.14*r*r\n",
    "\n",
    "#Please find above code in different python file  \n"
   ]
  },
  {
   "cell_type": "markdown",
   "metadata": {},
   "source": [
    "### Importing function from another file"
   ]
  },
  {
   "cell_type": "code",
   "execution_count": null,
   "metadata": {},
   "outputs": [],
   "source": [
    "#to give path for the module\n",
    "import sys\n",
    "sys.path.append(\"C:\\\\Users\\\\asus\\\\Python Basics_notebooks\")\n",
    "\n",
    "#call module and use functions\n",
    "import find_area as f\n",
    "\n",
    "area = f.cal_area_sqr(5)\n",
    "print(area)\n"
   ]
  },
  {
   "cell_type": "code",
   "execution_count": null,
   "metadata": {},
   "outputs": [],
   "source": [
    "area = f.cal_area_triangle(5,11)\n",
    "print(area)\n"
   ]
  },
  {
   "cell_type": "code",
   "execution_count": null,
   "metadata": {},
   "outputs": [],
   "source": [
    "# 1. Importing from folder \n",
    "#There are generally two types of import syntax. When you use the first one, you import the resource directly, like this:\n",
    "\"import abc\"  #abc can be a package or a module.\n",
    "import math\n",
    "\n",
    "#When you use the second syntax, you import the resource from another package or module. Here’s an example:\n",
    "\"from abc import xyz \" #xyz can be a module, subpackage, or object, such as a class or function.\n",
    "from math import cos\n",
    "\n",
    "#You can also choose to rename an imported resource, like so:\n",
    "\"import abc as Other_name\"\n",
    "import math as m\n",
    "\n"
   ]
  },
  {
   "cell_type": "markdown",
   "metadata": {},
   "source": [
    "###  Folders vs Packages"
   ]
  },
  {
   "cell_type": "code",
   "execution_count": null,
   "metadata": {},
   "outputs": [],
   "source": [
    "\n",
    "# 1. A module is a file containing Python code. A package, however, is like a directory that holds sub-packages and modules.\n",
    "# 2. A package must hold the file __init__.py. This does not apply to modules.\n",
    "# 3. To import everything from a module, we use the wildcard *. But this does not work with packages.\n"
   ]
  },
  {
   "cell_type": "code",
   "execution_count": null,
   "metadata": {},
   "outputs": [],
   "source": [
    "# How all() works for dictionaries\n",
    "\n",
    "s = {0: 'False', 1: 'False'}\n",
    "print(all(s))\n",
    "\n",
    "s = {1: 'True', 2: 'True'}\n",
    "print(all(s))\n",
    "\n",
    "s = {1: 'True', False: 0}\n",
    "print(all(s))\n"
   ]
  },
  {
   "cell_type": "code",
   "execution_count": null,
   "metadata": {},
   "outputs": [],
   "source": [
    "#import *\n",
    "from math import *\n",
    "# it ensures that everything that are present in math is imported and ready to use"
   ]
  },
  {
   "cell_type": "markdown",
   "metadata": {},
   "source": [
    "### Recursive Import"
   ]
  },
  {
   "cell_type": "code",
   "execution_count": null,
   "metadata": {},
   "outputs": [],
   "source": [
    "# WE define 2 modules a and b.. such that both will import one in other.. a import b and b import a.\n",
    "\n",
    "#b.py\n",
    "'''\n",
    "print (\"b in\")\n",
    "import a\n",
    "print (\"b out\")\n",
    "x = 3\n",
    "'''\n",
    "\n",
    "#a.py:\n",
    "\n",
    "print (\"a in\")\n",
    "import sys\n",
    "print (\"b imported: %s\" % (\"b\" in sys.modules, ))\n",
    "import b\n",
    "print (\"a out\")\n",
    "\n"
   ]
  },
  {
   "cell_type": "markdown",
   "metadata": {},
   "source": [
    "# File Handling"
   ]
  },
  {
   "cell_type": "code",
   "execution_count": null,
   "metadata": {},
   "outputs": [],
   "source": [
    "# file handling #\n",
    "# the open function takes two parameters filename and model #\n",
    "\n",
    "# there are 4 different methods for opening a file #\n",
    "# \"r\" - reads a default value\n",
    "# \"a\" - opens the file for append  and creates a file if it doesnot exist\n",
    "# \"w\"-write- opens a file for writing\n",
    "# \"x\"- creates a file \n",
    "\n",
    "# syntax #\n",
    "# to open a file or read a file \n",
    "\n",
    "f = open(\"demofile.txt\") \n",
    "f"
   ]
  },
  {
   "cell_type": "code",
   "execution_count": null,
   "metadata": {},
   "outputs": [],
   "source": [
    "# open files from different location #\n",
    "f = open(\"D:/demofile.txt\", \"r\")\n",
    "print(f.read()) # reads content in the file"
   ]
  },
  {
   "cell_type": "code",
   "execution_count": null,
   "metadata": {},
   "outputs": [],
   "source": [
    "f = open(\"demofile.txt\") \n",
    "f.read(5) #reads first 5 characters"
   ]
  },
  {
   "cell_type": "code",
   "execution_count": null,
   "metadata": {},
   "outputs": [],
   "source": [
    "# write to an existing file #\n",
    "f = open(\"demofile.txt\", \"a\")\n",
    "f.write(\"Now the file has more content!\")\n",
    "f.close()\n",
    "\n",
    "f = open(\"demofile.txt\", \"r\")\n",
    "f.read() #observe one extra line is added"
   ]
  },
  {
   "cell_type": "code",
   "execution_count": null,
   "metadata": {},
   "outputs": [],
   "source": [
    "# creating a new file #\n",
    "f = open(\"D:/myfile1.txt\", \"x\")\n",
    "f.write(' New file')\n",
    "f.close()\n",
    "f=open('D:/myfile1.txt','r')\n",
    "f.read()\n",
    "f.close()"
   ]
  },
  {
   "cell_type": "code",
   "execution_count": null,
   "metadata": {},
   "outputs": [],
   "source": [
    "#Delete a File\n",
    "#To delete a file, you must import the OS module, and run its os.remove() function:\n",
    "import os\n",
    "os.remove(\"D:/myfile1.txt\")"
   ]
  },
  {
   "cell_type": "markdown",
   "metadata": {},
   "source": [
    "# Exception Handling"
   ]
  },
  {
   "cell_type": "code",
   "execution_count": null,
   "metadata": {},
   "outputs": [],
   "source": [
    "# try: and except: are key words for exceptional handling, try: provide the code ; except: except the error with a proper statement\n",
    "\n",
    "#Ex - 1:\n",
    "try:\n",
    "    x = eval(input(\"enter the 1st value = \"))\n",
    "    y = eval(input(\"enter the 2nd value = \"))\n",
    "    results = x+y\n",
    "    print(results)\n",
    "except:\n",
    "    print(\"please enter a valid number\")\n"
   ]
  },
  {
   "cell_type": "code",
   "execution_count": null,
   "metadata": {},
   "outputs": [],
   "source": [
    "#Ex - 2: \n",
    "try:\n",
    "    x = eval(input(\"enter the 1st value = \"))\n",
    "    y = eval(input(\"enter the 2nd value = \"))\n",
    "    results = x/y\n",
    "    print(\"final results = \", results)\n",
    "except(ZeroDivisionError):\n",
    "    print(\"please enter a non-zero value for the divisor\")\n",
    "except(NameError):\n",
    "    print(\"Please enter valid number\")\n",
    "except(TypeError):\n",
    "    print(\"Please enter both same type\")\n"
   ]
  },
  {
   "cell_type": "code",
   "execution_count": null,
   "metadata": {},
   "outputs": [],
   "source": [
    "##In Python, keywords else and finally can also be used along with the try and except clauses. While the except block is executed\n",
    "##if the exception occurs inside the try block, the else block gets processed if the try block is found to be exception free.\n",
    "try:\n",
    "    print(\"try block\")\n",
    "    x=int(input('Enter a number: '))\n",
    "    y=int(input('Enter another number: '))\n",
    "    z=x/y\n",
    "except ZeroDivisionError:\n",
    "    print(\"except ZeroDivisionError block\")\n",
    "    print(\"Division by 0 not accepted\")\n",
    "else:\n",
    "    print(\"else block\")\n",
    "    print(\"Division = \", z)\n",
    "finally:\n",
    "    print(\"finally block\")\n",
    "    x=0\n",
    "    y=0\n",
    "print (\"Out of try, except, else and finally blocks.\" )"
   ]
  },
  {
   "cell_type": "markdown",
   "metadata": {},
   "source": [
    "### Built-in Exceptions"
   ]
  },
  {
   "cell_type": "code",
   "execution_count": null,
   "metadata": {},
   "outputs": [],
   "source": [
    "## There are plenty of built-in exceptions in Python that are raised when corresponding errors occur. \n",
    "##We can view all the built-in exceptions using the built-in local() function as follows:\n",
    "print(dir(locals()['__builtins__']))"
   ]
  },
  {
   "cell_type": "markdown",
   "metadata": {},
   "source": [
    "### User defined Exceptions"
   ]
  },
  {
   "cell_type": "code",
   "execution_count": null,
   "metadata": {},
   "outputs": [],
   "source": [
    "# User defined Exceptions\n",
    "x=int(input('enter the number'))\n",
    "if x < 0:\n",
    "  raise Exception(\"Sorry, please enter positive number\")\n",
    "else:\n",
    "    print('you entered',x)"
   ]
  },
  {
   "cell_type": "markdown",
   "metadata": {},
   "source": [
    "# Regular Expressions"
   ]
  },
  {
   "cell_type": "code",
   "execution_count": null,
   "metadata": {},
   "outputs": [],
   "source": [
    "#Ex:1  \n",
    "import re\n",
    "\n",
    "Nameage = '''Nikhil is 25 and Pavan is 28 and Kaleem is 35 and Ganesh is 16'''\n",
    "\n",
    "age = re.findall(r'\\d{1,3}',Nameage)\n",
    "names = re.findall(r'[A-Z][a-z]*',Nameage)\n",
    "\n",
    "agedict = {}\n",
    "\n",
    "x = 0\n",
    "\n",
    "for eachname in names:\n",
    "     agedict[eachname] = age[x]\n",
    "     x +=1\n",
    "     \n",
    "print(agedict)\n"
   ]
  },
  {
   "cell_type": "code",
   "execution_count": null,
   "metadata": {},
   "outputs": [],
   "source": [
    "#Ex:2\n",
    "\n",
    "import re\n",
    "\n",
    "allname = re.findall(\"name\",\"My name is Nikhil and what is your name\")\n",
    "\n",
    "for name in allname:\n",
    "    print(name)"
   ]
  },
  {
   "cell_type": "code",
   "execution_count": null,
   "metadata": {},
   "outputs": [],
   "source": [
    "#Ex 3\n",
    "        \n",
    "import re\n",
    "\n",
    "allname = \"My name is Nikhil and what is your name\"   \n",
    "\n",
    "for i in re.finditer(\"name\",allname):\n",
    "    loctup = i.span()\n",
    "    print(loctup)\n"
   ]
  },
  {
   "cell_type": "code",
   "execution_count": null,
   "metadata": {},
   "outputs": [],
   "source": [
    "#Ex: 4 Find match pattern\n",
    "    \n",
    "import re\n",
    "\n",
    "names = \"Aam,Bam,Sam,Ram,Mam,Jam\"\n",
    "\n",
    "allnames = re.findall(\"[A-Z]am\",names) \n",
    "\n",
    "for i in allnames:\n",
    "    \n",
    "    print(i)\n"
   ]
  },
  {
   "cell_type": "code",
   "execution_count": null,
   "metadata": {},
   "outputs": [],
   "source": [
    "#Replace string \n",
    "\n",
    "import re \n",
    "\n",
    "names = \"Sam,Ram,Mam,Jam\"\n",
    "\n",
    "regex =  re.compile(\"[R]am\")  \n",
    "\n",
    "names = regex.sub(\"Rama\",names)\n",
    "\n",
    "print(names)\n",
    "\n"
   ]
  },
  {
   "cell_type": "code",
   "execution_count": null,
   "metadata": {},
   "outputs": [],
   "source": [
    "## dividing num,alpha,special char\n",
    "import re\n",
    "\n",
    "re.sub(\"[A-Za-z]\",\",\",\"ada 1231zxdq #@$@zxfsd312\")\n",
    "       \n"
   ]
  },
  {
   "cell_type": "code",
   "execution_count": null,
   "metadata": {},
   "outputs": [],
   "source": [
    "re.sub(\"[^A-Za-z]\",\" \",\"ada 1231zxdq #@$@zxfsd312\")\n"
   ]
  },
  {
   "cell_type": "code",
   "execution_count": null,
   "metadata": {},
   "outputs": [],
   "source": [
    "## Remove white space\n",
    "\n",
    "randstr = ''' \n",
    "My \n",
    "name \n",
    "is \n",
    "nikhil\n",
    "'''\n",
    "print(randstr)\n",
    "regex = re.compile(\"\\n\")\n",
    "\n",
    "randstr = regex.sub(\"\",randstr)\n",
    "\n",
    "print(randstr)\n"
   ]
  },
  {
   "cell_type": "code",
   "execution_count": null,
   "metadata": {},
   "outputs": [],
   "source": [
    "## Number\n",
    "\n",
    "import re\n",
    "\n",
    "randstr = \"12345\"\n",
    "\n",
    "print(len(re.findall(\"\\d\",randstr)))\n",
    "\n",
    "print(re.search(r\"\\d{3}\",randstr))\n",
    "\n"
   ]
  },
  {
   "cell_type": "code",
   "execution_count": null,
   "metadata": {},
   "outputs": [],
   "source": [
    "num = \"123 1234 12345 123456 1234567\"\n",
    "\n",
    "print(len(re.findall(\"\\d{5,7}\",num))) #gives max frequency in the given numbers\n"
   ]
  },
  {
   "cell_type": "code",
   "execution_count": null,
   "metadata": {},
   "outputs": [],
   "source": [
    "## Phone number verification \n",
    "\n",
    "import re\n",
    "\n",
    "#\\w [a-zA-Z0-9]\n",
    "#\\w [^a-zA-Z0-9]\n",
    "\n",
    "\n",
    "phn = \"4669-5549-AA1212hhwjjwkq3\"\n",
    "\n",
    "if re.search(\"\\d{3}-\\d{3}-\\w{6}\",phn):\n",
    "    \n",
    "    print(\"it is a Pan No.\")\n",
    "    \n",
    "else:\n",
    "    print(\"its not a Pan No.\")\n"
   ]
  },
  {
   "cell_type": "code",
   "execution_count": null,
   "metadata": {},
   "outputs": [],
   "source": [
    "#Email Match \n",
    "    \n",
    "import re\n",
    "\n",
    "email = \"nk@hyd.com md@.com @llo.com j@com\"\n",
    "\n",
    "print(\"EmailMatches:\", (re.findall(\"[\\w._%+-]{1,20}@[\\w.-]{2,20}.[A-Za-z]{2,3}\",email)))  \n"
   ]
  }
 ],
 "metadata": {
  "kernelspec": {
   "display_name": "Python 3",
   "language": "python",
   "name": "python3"
  },
  "language_info": {
   "codemirror_mode": {
    "name": "ipython",
    "version": 3
   },
   "file_extension": ".py",
   "mimetype": "text/x-python",
   "name": "python",
   "nbconvert_exporter": "python",
   "pygments_lexer": "ipython3",
   "version": "3.8.8"
  }
 },
 "nbformat": 4,
 "nbformat_minor": 2
}
